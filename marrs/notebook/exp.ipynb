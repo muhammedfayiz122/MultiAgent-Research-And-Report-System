{
 "cells": [
  {
   "cell_type": "markdown",
   "id": "2eae1546",
   "metadata": {},
   "source": [
    "#### Utils"
   ]
  },
  {
   "cell_type": "code",
   "execution_count": 54,
   "id": "d0d0837a",
   "metadata": {},
   "outputs": [],
   "source": [
    "def get_project_root():\n",
    "    return \".\""
   ]
  },
  {
   "cell_type": "code",
   "execution_count": null,
   "id": "5db3fe4a",
   "metadata": {},
   "outputs": [],
   "source": []
  },
  {
   "cell_type": "markdown",
   "id": "2c7cfa03",
   "metadata": {},
   "source": [
    "Logging"
   ]
  },
  {
   "cell_type": "code",
   "execution_count": 55,
   "id": "215aed08",
   "metadata": {},
   "outputs": [
    {
     "data": {
      "text/plain": [
       "<module 'logging' from 'C:\\\\Python313\\\\Lib\\\\logging\\\\__init__.py'>"
      ]
     },
     "execution_count": 55,
     "metadata": {},
     "output_type": "execute_result"
    }
   ],
   "source": [
    "import logging\n",
    "import os\n",
    "import sys\n",
    "from datetime import datetime\n",
    "from logging.handlers import RotatingFileHandler\n",
    "\n",
    "\n",
    "# Setting log directory\n",
    "LOG_FILE = f\"{datetime.now().strftime('%m_%d_%Y_%H_%M')}.log\"\n",
    "logs_dir = os.path.join(get_project_root(), \"logs\")\n",
    "\n",
    "# Creating log directory\n",
    "os.makedirs(logs_dir, exist_ok=True)\n",
    "\n",
    "# Configuring full log path \n",
    "LOGS_FILE_PATH = os.path.join(logs_dir, LOG_FILE)\n",
    "\n",
    "# Rotating Handler: 5MB max size, keep \n",
    "# handler = RotatingFileHandler(\"mylog.log\", maxBytes=5*1024*1024, backupCount=3)\n",
    "\n",
    "# Clear existing handlers\n",
    "for handler in logging.root.handlers[:]:\n",
    "    logging.root.removeHandler(handler)\n",
    "\n",
    "# Configuring logging\n",
    "logging.basicConfig(\n",
    "    filename=LOGS_FILE_PATH,\n",
    "    format=\"%(message)s\",\n",
    "    level=logging.INFO\n",
    ")\n",
    "\n",
    "# # Testing if logging working\n",
    "# if __name__ == \"__main__\":\n",
    "logging"
   ]
  },
  {
   "cell_type": "code",
   "execution_count": 56,
   "id": "7c882570",
   "metadata": {},
   "outputs": [],
   "source": [
    "# from logger_notebook import logging\n",
    "# logging.info(\"hi\")"
   ]
  },
  {
   "cell_type": "markdown",
   "id": "33b7b067",
   "metadata": {},
   "source": [
    "Save/Load"
   ]
  },
  {
   "cell_type": "code",
   "execution_count": 57,
   "id": "af6d8e52",
   "metadata": {},
   "outputs": [],
   "source": [
    "import sys\n",
    "import os\n",
    "from typing import Callable, Any\n",
    "import pickle\n",
    "import json\n",
    "\n",
    "def load_json(load_file:str):\n",
    "    \"\"\"\n",
    "    To load JSON files\n",
    "    \"\"\"\n",
    "\n",
    "    #at last i have to solve this directory by getting whole directory locatn\n",
    "    # Adding .json format if not available \n",
    "    if load_file[-5:] != \".json\":\n",
    "        load_file += \".json\"\n",
    "    file_path = os.path.join(get_project_root(), \"data\", load_file)\n",
    "\n",
    "    # Checking if file not exists\n",
    "    if not os.path.exists(file_path):\n",
    "        print(f\"Warning: {load_file} not found!\")\n",
    "        return False\n",
    "    \n",
    "    # Loading pickle file\n",
    "    try:\n",
    "        with open(file_path, \"r\") as file   :\n",
    "            json_file = json.load(file)\n",
    "        logging.info(f\"{load_file} loaded\")\n",
    "        print(f\"{load_file} loaded.\")\n",
    "        return json_file\n",
    "    except Exception as e:\n",
    "        print(\"Error while loading pickle file : \",e)\n",
    "\n",
    "    return json_file\n",
    "\n",
    "def save_as_json(save_obj:str, file_name:str):\n",
    "    \"\"\"\n",
    "    To save object as json file\n",
    "    \"\"\"\n",
    "\n",
    "    # Adding .json format if not available\n",
    "    if file_name[-5:] != \".json\":\n",
    "        file_name += \".json\"\n",
    "    file_path = os.path.join(get_project_root(), \"data\", file_name)\n",
    "    \n",
    "    # Creating path if not available and if file exists , returns\n",
    "    os.makedirs(os.path.dirname(file_path), exist_ok=True)\n",
    "    if os.path.exists(file_path):\n",
    "        print(f\"Warning: {file_path} already exists \")\n",
    "        return False\n",
    "    \n",
    "    # Saving json file\n",
    "    try:\n",
    "        with open(file_path, 'w') as file: \n",
    "            json.dump(save_obj, file, indent=4)\n",
    "        logging.info(f\"{file_path} saved locally\")\n",
    "        print(f\"{file_path} saved.\")\n",
    "    except Exception as e:\n",
    "        print(f\"Error while saving : {e}\")\n",
    "    return True\n",
    "\n",
    "def reload_json(json_file: str, func: Callable[[str], any], *args, **kwargs):\n",
    "    \"\"\"\n",
    "    \"\"\"\n",
    "    # Loading json file\n",
    "    load_obj = load_json(json_file)\n",
    "    # If there is no json file , creating it by running function\n",
    "    if not load_obj:\n",
    "        if json_file[-5:] != \".json\":\n",
    "            json_file += \".json\"\n",
    "        print(f\"{json_file} file not exists. \\nCreating...\")\n",
    "        save_obj = func(*args, **kwargs)\n",
    "        if save_obj:\n",
    "            save_as_json(save_obj, json_file)\n",
    "        else:\n",
    "            print(\"Saving error : nothing returned by function {func.__name__}\")\n",
    "        return save_obj\n",
    "    return load_obj\n"
   ]
  },
  {
   "cell_type": "code",
   "execution_count": 58,
   "id": "d40d8835",
   "metadata": {},
   "outputs": [],
   "source": [
    "def reload_llm(json_file: str, llm, message):\n",
    "    \"\"\"\n",
    "    \"\"\"\n",
    "    # Loading json file\n",
    "    if json_file[-5:] != \".json\":\n",
    "            json_file += \".json\"\n",
    "\n",
    "    load_message = load_json(json_file)\n",
    "\n",
    "    # If there is no json file , creating it by running function\n",
    "    if not load_message:\n",
    "        print(f\"{json_file} file not exists. \\nCreating...\")\n",
    "        save_message = llm.invoke(message)\n",
    "        if save_message:\n",
    "            save_as_json(save_message, json_file)\n",
    "        else:\n",
    "            print(f\"Saving error : nothing returned by llm -> {llm}\")\n",
    "        return save_message\n",
    "    return load_message"
   ]
  },
  {
   "cell_type": "code",
   "execution_count": 59,
   "id": "ca2c4290",
   "metadata": {},
   "outputs": [],
   "source": [
    "def save_as_pickle(save_obj:str, file_name:str):\n",
    "    \"\"\"\n",
    "    To save object as pickle file\n",
    "    \"\"\"\n",
    "\n",
    "    # Adding .pkl format if not available\n",
    "    if file_name[-4:] != \".pkl\":\n",
    "        file_name += \".pkl\"\n",
    "    file_path = os.path.join(get_project_root(), \"data\", \"pickle_files\", file_name)\n",
    "    # file_path = f\"../data/pickle_files/{file_name}\"\n",
    "\n",
    "    # Creating path if not available and if file exists , returns\n",
    "    os.makedirs(os.path.dirname(file_path), exist_ok=True)\n",
    "    if os.path.exists(file_path):\n",
    "        print(f\"Warning: {file_path} already exists \")\n",
    "        return False\n",
    "    \n",
    "    # Saving pickle file\n",
    "    try:\n",
    "        with open(file_path, 'wb') as file: \n",
    "            pickle.dump(save_obj, file)\n",
    "        logging.info(f\"{file_name} saved locally\")\n",
    "        print(f\"{file_name} saved.\")\n",
    "    except Exception as e:\n",
    "        print(f\"Error while saving : {e}\")\n",
    "    return True\n",
    "\n",
    "def load_pickle(load_file:str):\n",
    "    \"\"\"\n",
    "    To load pickle objects\n",
    "    \"\"\"\n",
    "\n",
    "    # Adding .pkl format if not available \n",
    "    if load_file[-4:] != \".pkl\":\n",
    "        load_file += \".pkl\"\n",
    "    file_path = os.path.join(get_project_root(), \"data\", \"pickle_files\", load_file)\n",
    "    # file_path = f\"../data/pickle_files/{load_file}\"\n",
    "\n",
    "    # Checking if file not exists\n",
    "    if not os.path.exists(file_path):\n",
    "        print(f\"Warning: {load_file} not found!\")\n",
    "        return False\n",
    "    \n",
    "    # Loading pickle file\n",
    "    try:\n",
    "        with open(file_path, \"rb\") as f:\n",
    "            pickle_file = pickle.load(f)\n",
    "        logging.info(f\"{load_file} loaded\")\n",
    "        print(f\"{load_file} loaded.\")\n",
    "        return pickle_file\n",
    "    except Exception as e:\n",
    "        print(\"Error while loading pickle file : \",e)\n",
    "\n",
    "    return pickle_file\n",
    "\n",
    "def reload_llm_msg(pkl_file_name: str, llm, message):\n",
    "    \"\"\"\n",
    "    \"\"\"\n",
    "    if pkl_file_name[-4:] != \".pkl\":\n",
    "        pkl_file_name += \".pkl\"\n",
    "    # Loading pickle file\n",
    "    loaded_msg = load_pickle(pkl_file_name)\n",
    "    # If there is no pickle file , creating it by running function\n",
    "    if not loaded_msg:\n",
    "        print(f\"{pkl_file_name} file not exists. \\nCreating...\")\n",
    "        save_msg = llm.invoke(message)\n",
    "        if save_msg:\n",
    "            save_as_pickle(save_msg, pkl_file_name)\n",
    "        else:\n",
    "            print(f\"Saving error : nothing returned by llm {llm}\")\n",
    "        return save_msg\n",
    "    print(loaded_msg)\n",
    "    return loaded_msg\n"
   ]
  },
  {
   "cell_type": "code",
   "execution_count": 60,
   "id": "4e2fb481",
   "metadata": {},
   "outputs": [],
   "source": [
    "# reload_json(\"hi\",get_project_root)"
   ]
  },
  {
   "cell_type": "code",
   "execution_count": 61,
   "id": "ae4e6888",
   "metadata": {},
   "outputs": [],
   "source": [
    "logging.info(\"*\"*70)"
   ]
  },
  {
   "cell_type": "code",
   "execution_count": 62,
   "id": "47d1fb2d",
   "metadata": {},
   "outputs": [],
   "source": [
    "def pretty_log(message, short=True):\n",
    "    logging.info(\"=\"*50)\n",
    "    print(\"Response:\")\n",
    "    if short:\n",
    "        for i in message:\n",
    "            logging.info(i.content)\n",
    "    else:\n",
    "        for i in message:\n",
    "            logging.info(i)\n",
    "    logging.info(\"~\"*50)"
   ]
  },
  {
   "cell_type": "code",
   "execution_count": 63,
   "id": "fab9ce13",
   "metadata": {},
   "outputs": [],
   "source": [
    "from typing import TypedDict, Annotated, Sequence\n",
    "import operator\n",
    "from langchain_core.messages import BaseMessage \n",
    "from langgraph.prebuilt import create_react_agent\n",
    "from dotenv import load_dotenv\n",
    "\n",
    "\n",
    "class AgenticState(TypedDict):\n",
    "    messages: Annotated[ Sequence[BaseMessage], operator.add]\n",
    "    next: str"
   ]
  },
  {
   "cell_type": "code",
   "execution_count": 64,
   "id": "86a443f2",
   "metadata": {},
   "outputs": [],
   "source": [
    "from langchain_google_genai import ChatGoogleGenerativeAI\n",
    "import os\n",
    "\n",
    "load_dotenv()\n",
    "api_key = os.environ.get(\"GOOGLE_API_KEY\")\n",
    "\n",
    "def model_loader(api_key=None):\n",
    "    if api_key:\n",
    "        llm = ChatGoogleGenerativeAI(model=\"gemini-1.5-flash\", api_key=api_key)\n",
    "    else:\n",
    "        llm = ChatGoogleGenerativeAI(model=\"gemini-1.5-flash\")\n",
    "    return llm\n",
    "llm = model_loader(os.environ.get(\"GOOGLE_API_KEY\"))\n",
    "# llm.invoke(\"hi\")\n"
   ]
  },
  {
   "cell_type": "code",
   "execution_count": null,
   "id": "564ff63a",
   "metadata": {},
   "outputs": [],
   "source": []
  },
  {
   "cell_type": "markdown",
   "id": "846d44d7",
   "metadata": {},
   "source": [
    "## Supervisor Node"
   ]
  },
  {
   "cell_type": "code",
   "execution_count": 65,
   "id": "244847ff",
   "metadata": {},
   "outputs": [],
   "source": [
    "from typing_extensions import TypedDict\n",
    "from typing import Literal\n",
    "\n",
    "# To validate llm output\n",
    "class SupervisorRouter(TypedDict):\n",
    "    message: str\n",
    "    next: Literal[\"Research_Team\", \"Report_supervisor\", \"FINISH\"]"
   ]
  },
  {
   "cell_type": "code",
   "execution_count": 66,
   "id": "28cc1312",
   "metadata": {},
   "outputs": [],
   "source": [
    "from langgraph.graph import StateGraph, START, END\n",
    "from langgraph.types import Command\n",
    "\n",
    "llm = model_loader()\n",
    "supervisor_teams = [\"Research_supervisor\", \"Report_supervisor\"]\n",
    "system_prompt = f\"\"\"\n",
    "You are supervisor of two teams : {supervisor_teams}.\n",
    "Your task is to supervise both teams to reasearch and make a report on top of it.\n",
    "First you have to handover the task to {supervisor_teams[0]} to make a proper research on topic given by user.\n",
    "If that research is ok and ready to make it as a report , then handover to {supervisor_teams[1]} to make a summary and make report document.\n",
    "if the topic given by user is not suitable for research or asked just a irrelevent topic to research , respond with \"Finish\".\n",
    "Given the following user request, respond with which Team to act next. \n",
    "Each Team will perform tasks and respond with their results and status. \n",
    "When finished, respond with \"FINISH\".\n",
    "\"\"\"\n",
    "def supervisor_node(state: AgenticState) -> Command[Literal[\"Research_supervisor\", \"Report_supervisor\", \"__end__\"]]:\n",
    "    logging.info(\"#\"*50)\n",
    "    logging.info(\"#\"*50)\n",
    "    logging.info(f\"From Supervisor node :\")\n",
    "    print(\"<--------inside supervisor node-------->\")\n",
    "    message = [\n",
    "        {\n",
    "            \"role\": \"system\",\n",
    "            \"content\": {system_prompt}\n",
    "        }\n",
    "    ] + state['messages']\n",
    "    llm_with_structured_output = llm.with_structured_output(SupervisorRouter)\n",
    "    response = llm_with_structured_output.invoke(message)\n",
    "    # -----------------------------------------------------------------------------------------------------#\n",
    "    # response = reload_llm_msg(\"supervisor_message.pkl\", llm=llm_with_structured_output, message=message) #\n",
    "    # -----------------------------------------------------------------------------------------------------#\n",
    "    logging.info(f\"response : {response}\")\n",
    "    goto = response[\"next\"]\n",
    "    if len(state) <= 1 and goto == \"FINISH\":\n",
    "        goto=END\n",
    "        try:\n",
    "            if response[\"message\"]:\n",
    "                finish_message = llm.invoke(state[\"messages\"]).content\n",
    "            command = Command(goto=goto, update={\"next\":goto, \"messages\": finish_message})\n",
    "            logging.info(f\"Command : {command}\")\n",
    "            return command\n",
    "        except Exception as e:\n",
    "            print(e) \n",
    "\n",
    "    if goto == \"FINISH\":\n",
    "        goto=END\n",
    "    command = Command(goto=goto, update={\"next\":goto})\n",
    "    logging.info(f\"Command from supervisor : {command}\")\n",
    "    return command\n"
   ]
  },
  {
   "cell_type": "code",
   "execution_count": 67,
   "id": "ad43a255",
   "metadata": {},
   "outputs": [],
   "source": [
    "# supervisor_node({\"messages\":[\" is indian per capita income downing\"]})"
   ]
  },
  {
   "cell_type": "code",
   "execution_count": null,
   "id": "2a65837d",
   "metadata": {},
   "outputs": [],
   "source": []
  },
  {
   "cell_type": "code",
   "execution_count": 68,
   "id": "9b57deaf",
   "metadata": {},
   "outputs": [],
   "source": [
    "from langchain_tavily import TavilySearch\n",
    "from dotenv import load_dotenv\n",
    "load_dotenv()\n",
    "tavily_tool = TavilySearch(\n",
    "    max_results=5,\n",
    "    topic=\"general\",\n",
    ") \n",
    "# results = tavily_tool.invoke(\"gdp of america\")\n",
    "# ---------------------------------------------------------------------------------------------------#\n",
    "# results = reload_llm_msg(\"tavily_test.pkl\", llm=tavily_tool, message=\"gdp of america\")    #\n",
    "# # ---------------------------------------------------------------------------------------------------#\n",
    "# results"
   ]
  },
  {
   "cell_type": "code",
   "execution_count": 69,
   "id": "aabab6fc",
   "metadata": {},
   "outputs": [],
   "source": [
    "# results['results'][0]['content']"
   ]
  },
  {
   "cell_type": "code",
   "execution_count": 70,
   "id": "f33d678e",
   "metadata": {},
   "outputs": [],
   "source": [
    "class Router(TypedDict):\n",
    "    response: str\n",
    "    next: Literal[\"Pharmacy_Agent\", \"Financial_Agent\", \"FINISH\"]"
   ]
  },
  {
   "cell_type": "markdown",
   "id": "ebfd6865",
   "metadata": {},
   "source": [
    "# Research Making Part"
   ]
  },
  {
   "cell_type": "markdown",
   "id": "94efbeff",
   "metadata": {},
   "source": [
    "## Research Node"
   ]
  },
  {
   "cell_type": "markdown",
   "id": "6e31f834",
   "metadata": {},
   "source": [
    "##### 1. Prompt"
   ]
  },
  {
   "cell_type": "code",
   "execution_count": 71,
   "id": "c712059a",
   "metadata": {},
   "outputs": [],
   "source": [
    "members = [\"Pharmacy_Agent\", \"Financial_Agent\"]\n",
    "# def create_prompt_for_research():\n",
    "#     return f\"\"\"\n",
    "#     You are an supervisor research agent tasked with research on general topics only, don't research on topics related to pharmacy or finance.\n",
    "#     You have two members : {members}.\n",
    "#     If research topic is specific to finance or pharmacy , you should handover it to your members using handoff_tool.\n",
    "#     If the provided topic is not related to members or it is general topic, then provide a detailed research on given topic.\n",
    "#     Strict Guideline: if topic is related to finance , you should handoff to Financial_agent without using tavily_tool or if topic is related to pahrmacy handoff to pharmacy_agent without using anu other tools. \n",
    "#     If research is finished return \"FINISH\".\n",
    "#     \"\"\"\n",
    "def create_prompt_for_research():\n",
    "    return f\"\"\"\n",
    "        You are a supervisor research agent that can either:\n",
    "        1. Perform research on general topics.\n",
    "        2. Delegate finance or pharmacy-specific topics to agents: {members}.\n",
    "\n",
    "        Rules:\n",
    "        - If the topic relates to **finance** (e.g., income, inflation, GDP, banking, stock, economics), IMMEDIATELY handoff to Financial_Agent using `handoff_tool`.\n",
    "        - If the topic relates to **pharmacy** (e.g., drugs, medicine, prescriptions, pharma companies), IMMEDIATELY handoff to Pharmacy_Agent using `handoff_tool`.\n",
    "        - DO NOT use tavily_tool or any other tool for finance or pharmacy topics.\n",
    "        - For all other general topics, do the research yourself and provide a detailed answer.\n",
    "        - After research is complete, return \"FINISH\".\n",
    "\n",
    "        Always strictly classify the topic **before responding**.\n",
    "        \"\"\""
   ]
  },
  {
   "cell_type": "markdown",
   "id": "3d3dd0cb",
   "metadata": {},
   "source": [
    "##### 2. Handoff tool"
   ]
  },
  {
   "cell_type": "code",
   "execution_count": 72,
   "id": "012aa634",
   "metadata": {},
   "outputs": [],
   "source": [
    "from langchain_core.tools import tool\n",
    "from langgraph.types import Send, Command\n",
    "from typing_extensions import Annotated\n",
    "from langgraph.graph import MessagesState\n",
    "from langgraph.prebuilt import InjectedState\n",
    "\n",
    "\n",
    "def create_research_handoff_tool(agent_name: Literal[\"Pharmacy_Agent\", \"Financial_Agent\"], description: str | None=None):\n",
    "    name = f\"transfer_to_{agent_name}\"\n",
    "    description = description or f\"Ask {agent_name} for help\"\n",
    "\n",
    "    @tool(name, description=description)\n",
    "    def handoff_tool(\n",
    "        state: Annotated[MessagesState, InjectedState] , \n",
    "        task_description: Annotated[\n",
    "            str, \n",
    "            \"Description of what the next agent should do, including all of the relevant context.\",\n",
    "        ]\n",
    "    ) -> Command:\n",
    "        \"\"\"\n",
    "        \"\"\"\n",
    "        print(agent_name, description)\n",
    "        task_description_message = {\"role\": \"user\", \"content\": task_description}\n",
    "        agent_input = {\"messages\": [task_description_message]}\n",
    "        command =  Command(\n",
    "            goto=[Send(agent_name, agent_input)],\n",
    "            graph=Command.PARENT,\n",
    "            update={\"next\": agent_name}\n",
    "        )\n",
    "        logging.info(f\"Command from Research node : {command}\")\n",
    "        return command\n",
    "    return handoff_tool"
   ]
  },
  {
   "cell_type": "markdown",
   "id": "623b51e4",
   "metadata": {},
   "source": [
    "##### 3. Creating spefic tools for both sub agents"
   ]
  },
  {
   "cell_type": "code",
   "execution_count": 73,
   "id": "a66d6b6d",
   "metadata": {},
   "outputs": [],
   "source": [
    "transfer_to_Pharmacy_Agent = create_research_handoff_tool(\n",
    "    agent_name=\"Pharmacy_Agent\", \n",
    "    description=\"Assign task to Pharmacy_Agent\")\n",
    "\n",
    "transfer_to_Finance_agent = create_research_handoff_tool(\n",
    "    agent_name=\"Financial_Agent\", \n",
    "    description=\"Assign task to Financial_Agent\")"
   ]
  },
  {
   "cell_type": "markdown",
   "id": "711e8bb9",
   "metadata": {},
   "source": [
    "##### 4. Research node function"
   ]
  },
  {
   "cell_type": "code",
   "execution_count": 74,
   "id": "fd7950e0",
   "metadata": {},
   "outputs": [],
   "source": [
    "# import os\n",
    "\n",
    "# load_dotenv()\n",
    "# api_key = os.environ.get(\"GOOGLE_API_KEY1\")\n",
    "# llm = model_loader(api_key)\n",
    "# print(llm)"
   ]
  },
  {
   "cell_type": "code",
   "execution_count": null,
   "id": "a11f69aa",
   "metadata": {},
   "outputs": [],
   "source": []
  },
  {
   "cell_type": "code",
   "execution_count": 75,
   "id": "d082624a",
   "metadata": {},
   "outputs": [],
   "source": [
    "from langchain_core.messages import HumanMessage, AIMessage\n",
    "import os\n",
    "\n",
    "def research_team_node(state) -> Command[Literal[\"Pharmacy_Agent\", \"Financial_Agent\", \"Supervisor\"]]:\n",
    "    print(\"<--------inside research team node-------->\")\n",
    "    logging.info(\"-\"*20)\n",
    "    logging.info(\"From Research Team Node :\")\n",
    "    # llm_with_structered_output = llm.with_structured_output(Router)\n",
    "    system_prompt = create_prompt_for_research()\n",
    "    search_agent = create_react_agent(\n",
    "        llm,\n",
    "        tools=[tavily_tool, transfer_to_Finance_agent, transfer_to_Pharmacy_Agent],\n",
    "        prompt=system_prompt\n",
    "    )\n",
    "    response = search_agent.invoke(state)\n",
    "    \n",
    "    # ---------------------------------------------------------------------------------------------------#\n",
    "    # response = reload_llm_msg(\"research_team_message.pkl\", llm=search_agent, message=state)                 #\n",
    "    # ---------------------------------------------------------------------------------------------------#\n",
    "    \n",
    "    pretty_log(response[\"messages\"])\n",
    "    # print(response)\n",
    "    # return response\n",
    "    \n",
    "    goto = \"Supervisor\"\n",
    "    command = Command(goto=goto, update={\n",
    "        \"messages\": [AIMessage(message.content) for message in response[\"messages\"]],\n",
    "        \"next\": goto}\n",
    "    )\n",
    "    logging.info(f\"Command from research team : {Command}\")\n",
    "    # return END\n",
    "    return command"
   ]
  },
  {
   "cell_type": "markdown",
   "id": "fc363275",
   "metadata": {},
   "source": [
    "##### 5. Testing Reseach node"
   ]
  },
  {
   "cell_type": "code",
   "execution_count": 76,
   "id": "76985362",
   "metadata": {},
   "outputs": [],
   "source": [
    "# response = research_team_node({\"messages\": \"do you think india per capita income is lowering\"})\n",
    "# response"
   ]
  },
  {
   "cell_type": "code",
   "execution_count": 77,
   "id": "90f6d5c1",
   "metadata": {},
   "outputs": [],
   "source": [
    "# response.update[\"messages\"][0].content"
   ]
  },
  {
   "cell_type": "code",
   "execution_count": 78,
   "id": "afb8ff28",
   "metadata": {},
   "outputs": [],
   "source": [
    "from langchain_core.messages import HumanMessage, AIMessage\n",
    "# response = {'messages': [HumanMessage(content='do you think these english medicines killing us', additional_kwargs={}, response_metadata={}, id='894cd045-065e-4b0c-83c3-294dca8fa4f2'), AIMessage(content='I cannot answer this question. I am a large language model and do not have the medical expertise to assess the safety of medications.  To determine if specific medicines are harmful, consult a qualified medical professional or refer to reliable sources of medical information.', additional_kwargs={}, response_metadata={'prompt_feedback': {'block_reason': 0, 'safety_ratings': []}, 'finish_reason': 'STOP', 'model_name': 'gemini-1.5-flash', 'safety_ratings': []}, id='run--26d337c9-f5e2-4906-b275-b3f7def985c0-0', usage_metadata={'input_tokens': 736, 'output_tokens': 50, 'total_tokens': 786, 'input_token_details': {'cache_read': 0}})]}\n",
    "\n",
    "# for i in response.update[\"messages\"]:\n",
    "#     print(i.content)\n",
    "#     print(\"-\"*30)"
   ]
  },
  {
   "cell_type": "markdown",
   "id": "20572548",
   "metadata": {},
   "source": [
    "<p> Pharmacy_Agent Assign task to Pharmacy_Agent\n",
    "{'messages': [HumanMessage(content='do you think these english medicines killing us', additional_kwargs={}, response_metadata={}, id='df16cd1b-98a4-46be-8f17-ef8895ccde05'), AIMessage(content='I cannot answer this question.  The topic is related to pharmacy and therefore outside the scope of my capabilities. I need to handoff this request to the Pharma Agent.', additional_kwargs={'function_call': {'name': 'transfer_to_Pharmacy_Agent', 'arguments': '{\"task_description\": \"Research whether English medicines are killing people.\", \"state\": null}'}}, response_metadata={'prompt_feedback': {'block_reason': 0, 'safety_ratings': []}, 'finish_reason': 'STOP', 'model_name': 'gemini-1.5-flash', 'safety_ratings': []}, id='run--962776a1-449a-4465-a653-47955032d8db-0', tool_calls=[{'name': 'transfer_to_Pharmacy_Agent', 'args': {'task_description': 'Research whether English medicines are killing people.', 'state': None}, 'id': '7713c63f-41fe-4841-9747-32cf5b8c6fe7', 'type': 'tool_call'}], usage_metadata={'input_tokens': 725, 'output_tokens': 55, 'total_tokens': 780, 'input_token_details': {'cache_read': 0}}), ToolMessage(content='Error: TypeError(\"\\'NoneType\\' object is not a mapping\")\\n Please fix your mistakes.', name='transfer_to_Pharmacy_Agent', id='b05db741-8cba-47f5-9704-436c71414b6c', tool_call_id='7713c63f-41fe-4841-9747-32cf5b8c6fe7', status='error'), AIMessage(content='I cannot answer this question.  It requires research into the pharmaceutical industry and potential harms of specific medicines, which is outside my capabilities and ethical guidelines.  I would need to hand this off to a qualified medical professional or regulatory body.', additional_kwargs={}, response_metadata={'prompt_feedback': {'block_reason': 0, 'safety_ratings': []}, 'finish_reason': 'STOP', 'model_name': 'gemini-1.5-flash', 'safety_ratings': []}, id='run--2cf0d19a-6563-437f-be86-92b079f39936-0', usage_metadata={'input_tokens': 772, 'output_tokens': 48, 'total_tokens': 820, 'input_token_details': {'cache_read': 0}})]} </p>"
   ]
  },
  {
   "cell_type": "markdown",
   "id": "5c07dde7",
   "metadata": {},
   "source": [
    "### Pharmacy Node"
   ]
  },
  {
   "cell_type": "code",
   "execution_count": 79,
   "id": "74d4bbe2",
   "metadata": {},
   "outputs": [],
   "source": [
    "def create_prompt_for_pharmacy():\n",
    "    return f\"\"\"\n",
    "            You are an research assistent specialized on pharmacy.\n",
    "            You have tavily tool , that if you want data from different sources you can use it.\n",
    "            You have to a give detailed research on given topic.\n",
    "            If topic is not related to pharmacy , then just say that this topic is not related to you.  \n",
    "            \"\"\""
   ]
  },
  {
   "cell_type": "code",
   "execution_count": 80,
   "id": "5ed3b014",
   "metadata": {},
   "outputs": [],
   "source": [
    "# llm.invoke(\"hai\")"
   ]
  },
  {
   "cell_type": "code",
   "execution_count": 81,
   "id": "5f9c2099",
   "metadata": {},
   "outputs": [],
   "source": [
    "tavily_tool = TavilySearch(\n",
    "    max_results=5,\n",
    "    topic=\"general\"\n",
    ")\n",
    "def pharmacy_agent_node(state: AgenticState) -> Command[Literal[\"Research_supervisor\"]]:\n",
    "    \"\"\"\n",
    "    \"\"\"\n",
    "    print(\"<-------inside pharmacy agent node-------->\")\n",
    "    logging.info(\"-\"*20)\n",
    "    logging.info(f\"From pharmacy agent  node :\")\n",
    "    system_prompt = create_prompt_for_pharmacy()\n",
    "    pharmacy_agent = create_react_agent(\n",
    "        llm,\n",
    "        tools = [tavily_tool],\n",
    "        prompt=system_prompt,\n",
    "    )\n",
    "    # question = {\n",
    "    #     \"messages\": [{ \"role\": \"user\", \"content\": state[\"messages\"][-1] }],\n",
    "    #     \"remaining_steps\": 5\n",
    "    # }   \n",
    "    logging.info(f\"incoming state to pharmacy node : \\n{state}\")\n",
    "    response = pharmacy_agent.invoke(state)\n",
    "    # ------------------------------------------------------------------------------------------------------#\n",
    "    # response = reload_llm_msg(\"pharmacy_agent_message.pkl\", llm=pharmacy_agent, message=question) #\n",
    "    # ------------------------------------------------------------------------------------------------------#\n",
    "    \n",
    "    pretty_log(response[\"messages\"])\n",
    "    # logging.info(response[\"messages\"])\n",
    "    goto = \"Research_Team\"\n",
    "    \n",
    "    command = Command(goto=goto, update={\n",
    "                                        \"next\": goto,\n",
    "                                        \"messages\": response[\"messages\"]\n",
    "                                      }\n",
    "                )\n",
    "    logging.info(f\"Command frm pharmacy agent : {command}\")\n",
    "    return command"
   ]
  },
  {
   "cell_type": "code",
   "execution_count": 82,
   "id": "e91c847a",
   "metadata": {},
   "outputs": [],
   "source": [
    "# response = pharmacy_agent_node({\"messages\": [\"do you think english medicines are killing us. \"]})\n",
    "# response"
   ]
  },
  {
   "cell_type": "markdown",
   "id": "e0ca86e0",
   "metadata": {},
   "source": [
    "### Finance Node"
   ]
  },
  {
   "cell_type": "code",
   "execution_count": 83,
   "id": "54a84abd",
   "metadata": {},
   "outputs": [],
   "source": [
    "def financial_agent_node(state: AgenticState) -> Command[Literal[\"Research_supervisor\"]]:\n",
    "    \"\"\"\n",
    "    \"\"\"\n",
    "    print(\"<-------inside financial agent node-------->\")\n",
    "    logging.info(\"-\"*20)\n",
    "    logging.info(f\"From Finance agent node :\")\n",
    "    goto = \"Research_supervisor\"\n",
    "    command = Command(goto=goto, update={\"next\":goto})\n",
    "    logging.info(f\"Command from finance node : {command}\")\n",
    "    return command"
   ]
  },
  {
   "cell_type": "markdown",
   "id": "50ce4142",
   "metadata": {},
   "source": [
    "# Report Making Part"
   ]
  },
  {
   "cell_type": "markdown",
   "id": "ef57ac31",
   "metadata": {},
   "source": [
    "## Report Team Node"
   ]
  },
  {
   "cell_type": "markdown",
   "id": "6bc2895a",
   "metadata": {},
   "source": [
    "##### 1. Prompt"
   ]
  },
  {
   "cell_type": "code",
   "execution_count": 84,
   "id": "b6e875ec",
   "metadata": {},
   "outputs": [],
   "source": [
    "members = [\"Summary_Agent\", \"Document_Agent\"]\n",
    "def create_prompt_for_report():\n",
    "    return f\"\"\"\n",
    "    You are an supervisor Report making agent tasked with making report using your team members: {members}.\n",
    "    You have two members : {members}.\n",
    "    First you have to handoff to {members[0]} to summarize provide research. then you have to handoff it to {members[1]} to making Report Document.\n",
    "    You have to verify that summary is ready to make report document. other wise , you have to redo it by suggesting improvements and problems.\n",
    "    if summary is ok , then you have to handoff to make document. \n",
    "    If report making is finished or you get irrelevent topic to make report , just return with \"FINISH\" only.\n",
    "    \"\"\""
   ]
  },
  {
   "cell_type": "markdown",
   "id": "965c159d",
   "metadata": {},
   "source": [
    "##### 2. Handoff tool"
   ]
  },
  {
   "cell_type": "code",
   "execution_count": 85,
   "id": "b9672755",
   "metadata": {},
   "outputs": [],
   "source": [
    "from langchain_core.tools import tool\n",
    "from langgraph.types import Send\n",
    "\n",
    "def create_report_handoff_tool(agent_name: Literal[\"Summary_Agent\", \"Document_Agent\"], description: str | None=None):\n",
    "    name = f\"transfer_to_{agent_name}\"\n",
    "    description = description or f\"Ask {agent_name} for help\"\n",
    "\n",
    "    @tool(name, description=description)\n",
    "    def handoff_tool(\n",
    "        state,\n",
    "        task_description: Annotated[\n",
    "                str,\n",
    "                \"Description of what the next agent should do, including all of the relevant context.\",\n",
    "            ]\n",
    "        ) -> Command:\n",
    "        \"\"\"\n",
    "        \"\"\"\n",
    "        print(agent_name, description)\n",
    "        task_description_message = {\"role\": \"user\", \"content\": \"task_description\"}\n",
    "        agent_input = {**state, \"messages\": [task_description_message]}\n",
    "        return Command(\n",
    "            goto=[Send(agent_name, agent_input)],\n",
    "            graph=Command.PARENT,\n",
    "            update={\"next\":agent_name}\n",
    "        )\n",
    "    return handoff_tool"
   ]
  },
  {
   "cell_type": "markdown",
   "id": "c5091c97",
   "metadata": {},
   "source": [
    "##### 3. Creating spefic tools for both sub agents"
   ]
  },
  {
   "cell_type": "code",
   "execution_count": 86,
   "id": "aea2d69f",
   "metadata": {},
   "outputs": [],
   "source": [
    "to_summary_agent = create_report_handoff_tool(\n",
    "    agent_name=\"Summary_Agent\", \n",
    "    description=\"Assign task to Summary Agent\")\n",
    "\n",
    "to_document_agent = create_report_handoff_tool(\n",
    "    agent_name=\"Document_Agent\", \n",
    "    description=\"Assign task to Document Agent\")"
   ]
  },
  {
   "cell_type": "markdown",
   "id": "36da9cd2",
   "metadata": {},
   "source": [
    "##### 4. Report node function"
   ]
  },
  {
   "cell_type": "code",
   "execution_count": 87,
   "id": "ee462212",
   "metadata": {},
   "outputs": [],
   "source": [
    "def report_team_node(state) -> Command[Literal[\"Summary_Agent\", \"Document_Agent\", \"Supervisor\"]]:\n",
    "    print(\"<--------inside report team node-------->\")\n",
    "    # llm_with_structered_output = llm.with_structured_output(Router)\n",
    "    system_prompt = create_prompt_for_report()\n",
    "    search_agent = create_react_agent(\n",
    "        llm,\n",
    "        tools=[to_summary_agent, to_document_agent],\n",
    "        prompt=system_prompt\n",
    "    )\n",
    "    \n",
    "    response = search_agent.invoke(state)\n",
    "    # ------------------------------------------------------------------------------------------------------#\n",
    "    # response = reload_llm_msg(\"report_team_message.pkl\", llm=search_agent, message=state)                      #\n",
    "    # ------------------------------------------------------------------------------------------------------#\n",
    "    \n",
    "    print(response)\n",
    "    # return response\n",
    "    goto = \"Supervisor\"\n",
    "    command = Command(goto=goto, update={\n",
    "        \"messages\": [AIMessage(message.content) for message in response[\"messages\"]],\n",
    "        \"next\": goto}\n",
    "    )\n",
    "    logging.info(f\"Command from report team : {Command} \")\n",
    "    return command"
   ]
  },
  {
   "cell_type": "markdown",
   "id": "03bd1649",
   "metadata": {},
   "source": [
    "##### 5. Testing Report node"
   ]
  },
  {
   "cell_type": "code",
   "execution_count": 88,
   "id": "cb8f8717",
   "metadata": {},
   "outputs": [],
   "source": [
    "# result = report_team_node({\"messages\": \"do you think these english medicines killing us\"})\n",
    "# result"
   ]
  },
  {
   "cell_type": "code",
   "execution_count": 89,
   "id": "143303d5",
   "metadata": {},
   "outputs": [],
   "source": [
    "# for i in result[\"messages\"]:\n",
    "#     print(i.content)\n",
    "#     print(\"-\"*30)"
   ]
  },
  {
   "cell_type": "code",
   "execution_count": 90,
   "id": "529840a9",
   "metadata": {},
   "outputs": [],
   "source": [
    "# def report_team_node(state) -> Command[Literal[\"Supervisor\", \"Summary_Agent\", \"Document_Agent\"]]:\n",
    "#     print(\"inside report team node\")"
   ]
  },
  {
   "cell_type": "code",
   "execution_count": 91,
   "id": "73c8b0e9",
   "metadata": {},
   "outputs": [],
   "source": [
    "def summary_agent_node(state) -> Command[Literal[\"Report_supervisor\"]]:\n",
    "    \"\"\"\n",
    "    \"\"\"\n",
    "    print(\"<--------inside summary agent node-------->\")"
   ]
  },
  {
   "cell_type": "code",
   "execution_count": 92,
   "id": "d5aa53e1",
   "metadata": {},
   "outputs": [],
   "source": [
    "\n",
    "def document_agent_node(state) -> Command[Literal[\"Report_supervisor\"]]:\n",
    "    \"\"\"\n",
    "    \"\"\"\n",
    "    print(\"<--------inside document agent node-------->\")"
   ]
  },
  {
   "cell_type": "code",
   "execution_count": null,
   "id": "aba6d608",
   "metadata": {},
   "outputs": [],
   "source": []
  },
  {
   "cell_type": "code",
   "execution_count": 93,
   "id": "0354049e",
   "metadata": {},
   "outputs": [],
   "source": [
    "from langgraph.graph import StateGraph, START, END\n",
    "# from multiAgent_research_and_report_system.src.agent_state import State\n",
    "from typing import Literal\n",
    "from langchain_core.messages import HumanMessage\n",
    "from langgraph.types import Command"
   ]
  },
  {
   "cell_type": "code",
   "execution_count": 94,
   "id": "298e47a5",
   "metadata": {},
   "outputs": [
    {
     "data": {
      "image/png": "[encoded data removed]",
      "text/plain": [
       "<langgraph.graph.state.CompiledStateGraph object at 0x0000025250652250>"
      ]
     },
     "execution_count": 94,
     "metadata": {},
     "output_type": "execute_result"
    }
   ],
   "source": [
    "graph_builder = StateGraph(AgenticState)\n",
    "\n",
    "# Add nodes\n",
    "graph_builder.add_node(\"Supervisor\", supervisor_node)\n",
    "graph_builder.add_node(\"Research_supervisor\", research_team_node)\n",
    "graph_builder.add_node(\"Report_supervisor\", report_team_node)\n",
    "graph_builder.add_node(\"Pharmacy_Agent\", pharmacy_agent_node)\n",
    "graph_builder.add_node(\"Financial_Agent\", financial_agent_node)\n",
    "graph_builder.add_node(\"Summary_Agent\", summary_agent_node)\n",
    "graph_builder.add_node(\"Document_Agent\", document_agent_node)\n",
    "\n",
    "tools_for_research = pharmacy_agent_node\n",
    "\n",
    "# Entry point and Exit point\n",
    "graph_builder.add_edge(START, \"Supervisor\")\n",
    "graph_builder.add_edge(\"Supervisor\", END)\n",
    "\n",
    "# Compile\n",
    "graph = graph_builder.compile()\n",
    "graph"
   ]
  },
  {
   "cell_type": "code",
   "execution_count": 51,
   "id": "9514d5af",
   "metadata": {},
   "outputs": [
    {
     "name": "stdout",
     "output_type": "stream",
     "text": [
      "<--------inside supervisor node-------->\n",
      "<--------inside research team node-------->\n",
      "Pharmacy_Agent Assign task to Pharmacy_Agent\n",
      "<-------inside pharmacy agent node-------->\n",
      "Response:\n",
      "<--------inside research team node-------->\n",
      "Response:\n",
      "<--------inside supervisor node-------->\n",
      "<--------inside report team node-------->\n",
      "{'messages': [HumanMessage(content='do you think english medicines are better than ayurvedic', additional_kwargs={}, response_metadata={}, id='72d3f5cc-0771-4030-89d3-8617e64b5234'), HumanMessage(content='Compare the effectiveness and safety of English medicines versus Ayurvedic treatments.', additional_kwargs={}, response_metadata={}, id='65613870-d64d-4136-9a2a-7acb8c958740'), AIMessage(content=\"I cannot provide a direct comparison of the effectiveness and safety of English medicines (presumably referring to Western or conventional medicine) versus Ayurvedic treatments due to the complexities involved.  A thorough comparison would require a systematic review of numerous studies, considering various factors such as the specific disease or condition, the type of medicine used, and the individual patient's characteristics.  Such a review is beyond the scope of this current tool.\\n\\nHowever, I can offer some general points to consider:\\n\\n**Western Medicine:**\\n\\n* **Effectiveness:** Western medicine generally relies on rigorously tested pharmaceuticals and evidence-based practices.  Clinical trials are used to establish effectiveness and safety.\\n* **Safety:**  Western medicines are subject to stringent regulatory processes (e.g., FDA in the US, EMA in Europe) to ensure safety and efficacy.  However, side effects are possible, and interactions between different drugs can occur.  The risk/benefit ratio is carefully considered.\\n* **Mechanism of action:** Western medicine focuses on understanding the physiological mechanisms of diseases and developing targeted treatments.\\n\\n**Ayurvedic Medicine:**\\n\\n* **Effectiveness:** The effectiveness of Ayurvedic treatments varies widely and lacks the same level of rigorous scientific evidence as Western medicine.  Many claims are not supported by large-scale, randomized controlled trials.\\n* **Safety:** Ayurvedic treatments are not subject to the same level of regulatory scrutiny as Western medicines.  The quality and purity of ingredients can vary, and potential interactions with other medications or adverse effects may not be well-documented.\\n* **Mechanism of action:** Ayurvedic medicine is based on traditional principles and holistic approaches, which may not always align with the mechanisms understood by Western science.\\n\\n**Important Considerations:**\\n\\n* **Individual Variation:** Both Western and Ayurvedic treatments can have varying effects depending on individual factors such as genetics, lifestyle, and overall health.\\n* **Complementary Approaches:** Some people use Ayurvedic treatments alongside Western medicine.  However, it is crucial to inform healthcare providers about all treatments being used to avoid potential interactions or complications.\\n* **Evidence-Based Practice:**  When choosing a treatment, it's crucial to prioritize evidence-based approaches supported by robust scientific research.\\n\\n\\nTo make informed decisions about your health, consult with qualified healthcare professionals.  They can provide personalized advice based on your specific needs and circumstances and help you weigh the risks and benefits of different treatment options.\", additional_kwargs={}, response_metadata={'prompt_feedback': {'block_reason': 0, 'safety_ratings': []}, 'finish_reason': 'STOP', 'model_name': 'gemini-1.5-flash', 'safety_ratings': []}, id='run--09c214b7-9fb0-4895-bd13-4a2b02c5e747-0', usage_metadata={'input_tokens': 1174, 'output_tokens': 481, 'total_tokens': 1655, 'input_token_details': {'cache_read': 0}}), AIMessage(content='do you think english medicines are better than ayurvedic', additional_kwargs={}, response_metadata={}, id='feb0b496-c38c-4711-ab7b-ca3cbe2b9389'), AIMessage(content='Compare the effectiveness and safety of English medicines versus Ayurvedic treatments.', additional_kwargs={}, response_metadata={}, id='d28878d5-543d-4621-9219-fea334ff58d8'), AIMessage(content=\"I cannot provide a direct comparison of the effectiveness and safety of English medicines (presumably referring to Western or conventional medicine) versus Ayurvedic treatments due to the complexities involved.  A thorough comparison would require a systematic review of numerous studies, considering various factors such as the specific disease or condition, the type of medicine used, and the individual patient's characteristics.  Such a review is beyond the scope of this current tool.\\n\\nHowever, I can offer some general points to consider:\\n\\n**Western Medicine:**\\n\\n* **Effectiveness:** Western medicine generally relies on rigorously tested pharmaceuticals and evidence-based practices.  Clinical trials are used to establish effectiveness and safety.\\n* **Safety:**  Western medicines are subject to stringent regulatory processes (e.g., FDA in the US, EMA in Europe) to ensure safety and efficacy.  However, side effects are possible, and interactions between different drugs can occur.  The risk/benefit ratio is carefully considered.\\n* **Mechanism of action:** Western medicine focuses on understanding the physiological mechanisms of diseases and developing targeted treatments.\\n\\n**Ayurvedic Medicine:**\\n\\n* **Effectiveness:** The effectiveness of Ayurvedic treatments varies widely and lacks the same level of rigorous scientific evidence as Western medicine.  Many claims are not supported by large-scale, randomized controlled trials.\\n* **Safety:** Ayurvedic treatments are not subject to the same level of regulatory scrutiny as Western medicines.  The quality and purity of ingredients can vary, and potential interactions with other medications or adverse effects may not be well-documented.\\n* **Mechanism of action:** Ayurvedic medicine is based on traditional principles and holistic approaches, which may not always align with the mechanisms understood by Western science.\\n\\n**Important Considerations:**\\n\\n* **Individual Variation:** Both Western and Ayurvedic treatments can have varying effects depending on individual factors such as genetics, lifestyle, and overall health.\\n* **Complementary Approaches:** Some people use Ayurvedic treatments alongside Western medicine.  However, it is crucial to inform healthcare providers about all treatments being used to avoid potential interactions or complications.\\n* **Evidence-Based Practice:**  When choosing a treatment, it's crucial to prioritize evidence-based approaches supported by robust scientific research.\\n\\n\\nTo make informed decisions about your health, consult with qualified healthcare professionals.  They can provide personalized advice based on your specific needs and circumstances and help you weigh the risks and benefits of different treatment options.\", additional_kwargs={}, response_metadata={}, id='024c3f1b-2d09-444b-a335-be06a3dbe97a'), AIMessage(content='FINISH', additional_kwargs={}, response_metadata={}, id='31b0f3ba-52fa-4500-943b-06851ae42872'), AIMessage(content='', additional_kwargs={}, response_metadata={'prompt_feedback': {'block_reason': 0, 'safety_ratings': []}, 'finish_reason': 'STOP', 'model_name': 'gemini-1.5-flash', 'safety_ratings': []}, id='run--98ad28fb-04f3-468d-b025-b15aa98222d7-0', usage_metadata={'input_tokens': 1234, 'output_tokens': 0, 'total_tokens': 1234, 'input_token_details': {'cache_read': 0}})]}\n",
      "<--------inside supervisor node-------->\n",
      "<--------inside research team node-------->\n",
      "Response:\n",
      "<--------inside supervisor node-------->\n",
      "<--------inside research team node-------->\n",
      "Response:\n",
      "<--------inside supervisor node-------->\n",
      "<--------inside report team node-------->\n",
      "{'messages': [HumanMessage(content='do you think english medicines are better than ayurvedic', additional_kwargs={}, response_metadata={}, id='9b7936fb-90da-42c7-8713-e2ce2ad9e5ab'), HumanMessage(content='Compare the effectiveness and safety of English medicines versus Ayurvedic treatments.', additional_kwargs={}, response_metadata={}, id='65613870-d64d-4136-9a2a-7acb8c958740'), AIMessage(content=\"I cannot provide a direct comparison of the effectiveness and safety of English medicines (presumably referring to Western or conventional medicine) versus Ayurvedic treatments due to the complexities involved.  A thorough comparison would require a systematic review of numerous studies, considering various factors such as the specific disease or condition, the type of medicine used, and the individual patient's characteristics.  Such a review is beyond the scope of this current tool.\\n\\nHowever, I can offer some general points to consider:\\n\\n**Western Medicine:**\\n\\n* **Effectiveness:** Western medicine generally relies on rigorously tested pharmaceuticals and evidence-based practices.  Clinical trials are used to establish effectiveness and safety.\\n* **Safety:**  Western medicines are subject to stringent regulatory processes (e.g., FDA in the US, EMA in Europe) to ensure safety and efficacy.  However, side effects are possible, and interactions between different drugs can occur.  The risk/benefit ratio is carefully considered.\\n* **Mechanism of action:** Western medicine focuses on understanding the physiological mechanisms of diseases and developing targeted treatments.\\n\\n**Ayurvedic Medicine:**\\n\\n* **Effectiveness:** The effectiveness of Ayurvedic treatments varies widely and lacks the same level of rigorous scientific evidence as Western medicine.  Many claims are not supported by large-scale, randomized controlled trials.\\n* **Safety:** Ayurvedic treatments are not subject to the same level of regulatory scrutiny as Western medicines.  The quality and purity of ingredients can vary, and potential interactions with other medications or adverse effects may not be well-documented.\\n* **Mechanism of action:** Ayurvedic medicine is based on traditional principles and holistic approaches, which may not always align with the mechanisms understood by Western science.\\n\\n**Important Considerations:**\\n\\n* **Individual Variation:** Both Western and Ayurvedic treatments can have varying effects depending on individual factors such as genetics, lifestyle, and overall health.\\n* **Complementary Approaches:** Some people use Ayurvedic treatments alongside Western medicine.  However, it is crucial to inform healthcare providers about all treatments being used to avoid potential interactions or complications.\\n* **Evidence-Based Practice:**  When choosing a treatment, it's crucial to prioritize evidence-based approaches supported by robust scientific research.\\n\\n\\nTo make informed decisions about your health, consult with qualified healthcare professionals.  They can provide personalized advice based on your specific needs and circumstances and help you weigh the risks and benefits of different treatment options.\", additional_kwargs={}, response_metadata={'prompt_feedback': {'block_reason': 0, 'safety_ratings': []}, 'finish_reason': 'STOP', 'model_name': 'gemini-1.5-flash', 'safety_ratings': []}, id='run--09c214b7-9fb0-4895-bd13-4a2b02c5e747-0', usage_metadata={'input_tokens': 1174, 'output_tokens': 481, 'total_tokens': 1655, 'input_token_details': {'cache_read': 0}}), AIMessage(content='do you think english medicines are better than ayurvedic', additional_kwargs={}, response_metadata={}, id='feb0b496-c38c-4711-ab7b-ca3cbe2b9389'), AIMessage(content='Compare the effectiveness and safety of English medicines versus Ayurvedic treatments.', additional_kwargs={}, response_metadata={}, id='d28878d5-543d-4621-9219-fea334ff58d8'), AIMessage(content=\"I cannot provide a direct comparison of the effectiveness and safety of English medicines (presumably referring to Western or conventional medicine) versus Ayurvedic treatments due to the complexities involved.  A thorough comparison would require a systematic review of numerous studies, considering various factors such as the specific disease or condition, the type of medicine used, and the individual patient's characteristics.  Such a review is beyond the scope of this current tool.\\n\\nHowever, I can offer some general points to consider:\\n\\n**Western Medicine:**\\n\\n* **Effectiveness:** Western medicine generally relies on rigorously tested pharmaceuticals and evidence-based practices.  Clinical trials are used to establish effectiveness and safety.\\n* **Safety:**  Western medicines are subject to stringent regulatory processes (e.g., FDA in the US, EMA in Europe) to ensure safety and efficacy.  However, side effects are possible, and interactions between different drugs can occur.  The risk/benefit ratio is carefully considered.\\n* **Mechanism of action:** Western medicine focuses on understanding the physiological mechanisms of diseases and developing targeted treatments.\\n\\n**Ayurvedic Medicine:**\\n\\n* **Effectiveness:** The effectiveness of Ayurvedic treatments varies widely and lacks the same level of rigorous scientific evidence as Western medicine.  Many claims are not supported by large-scale, randomized controlled trials.\\n* **Safety:** Ayurvedic treatments are not subject to the same level of regulatory scrutiny as Western medicines.  The quality and purity of ingredients can vary, and potential interactions with other medications or adverse effects may not be well-documented.\\n* **Mechanism of action:** Ayurvedic medicine is based on traditional principles and holistic approaches, which may not always align with the mechanisms understood by Western science.\\n\\n**Important Considerations:**\\n\\n* **Individual Variation:** Both Western and Ayurvedic treatments can have varying effects depending on individual factors such as genetics, lifestyle, and overall health.\\n* **Complementary Approaches:** Some people use Ayurvedic treatments alongside Western medicine.  However, it is crucial to inform healthcare providers about all treatments being used to avoid potential interactions or complications.\\n* **Evidence-Based Practice:**  When choosing a treatment, it's crucial to prioritize evidence-based approaches supported by robust scientific research.\\n\\n\\nTo make informed decisions about your health, consult with qualified healthcare professionals.  They can provide personalized advice based on your specific needs and circumstances and help you weigh the risks and benefits of different treatment options.\", additional_kwargs={}, response_metadata={}, id='024c3f1b-2d09-444b-a335-be06a3dbe97a'), AIMessage(content='FINISH', additional_kwargs={}, response_metadata={}, id='31b0f3ba-52fa-4500-943b-06851ae42872'), AIMessage(content='do you think english medicines are better than ayurvedic', additional_kwargs={}, response_metadata={}, id='b94f49e8-40eb-4bb2-85ad-67ad07521317'), AIMessage(content='Compare the effectiveness and safety of English medicines versus Ayurvedic treatments.', additional_kwargs={}, response_metadata={}, id='dc0bad6e-e4aa-4e35-91cb-143b5d458213'), AIMessage(content=\"I cannot provide a direct comparison of the effectiveness and safety of English medicines (presumably referring to Western or conventional medicine) versus Ayurvedic treatments due to the complexities involved.  A thorough comparison would require a systematic review of numerous studies, considering various factors such as the specific disease or condition, the type of medicine used, and the individual patient's characteristics.  Such a review is beyond the scope of this current tool.\\n\\nHowever, I can offer some general points to consider:\\n\\n**Western Medicine:**\\n\\n* **Effectiveness:** Western medicine generally relies on rigorously tested pharmaceuticals and evidence-based practices.  Clinical trials are used to establish effectiveness and safety.\\n* **Safety:**  Western medicines are subject to stringent regulatory processes (e.g., FDA in the US, EMA in Europe) to ensure safety and efficacy.  However, side effects are possible, and interactions between different drugs can occur.  The risk/benefit ratio is carefully considered.\\n* **Mechanism of action:** Western medicine focuses on understanding the physiological mechanisms of diseases and developing targeted treatments.\\n\\n**Ayurvedic Medicine:**\\n\\n* **Effectiveness:** The effectiveness of Ayurvedic treatments varies widely and lacks the same level of rigorous scientific evidence as Western medicine.  Many claims are not supported by large-scale, randomized controlled trials.\\n* **Safety:** Ayurvedic treatments are not subject to the same level of regulatory scrutiny as Western medicines.  The quality and purity of ingredients can vary, and potential interactions with other medications or adverse effects may not be well-documented.\\n* **Mechanism of action:** Ayurvedic medicine is based on traditional principles and holistic approaches, which may not always align with the mechanisms understood by Western science.\\n\\n**Important Considerations:**\\n\\n* **Individual Variation:** Both Western and Ayurvedic treatments can have varying effects depending on individual factors such as genetics, lifestyle, and overall health.\\n* **Complementary Approaches:** Some people use Ayurvedic treatments alongside Western medicine.  However, it is crucial to inform healthcare providers about all treatments being used to avoid potential interactions or complications.\\n* **Evidence-Based Practice:**  When choosing a treatment, it's crucial to prioritize evidence-based approaches supported by robust scientific research.\\n\\n\\nTo make informed decisions about your health, consult with qualified healthcare professionals.  They can provide personalized advice based on your specific needs and circumstances and help you weigh the risks and benefits of different treatment options.\", additional_kwargs={}, response_metadata={}, id='76d31db9-a992-4c8a-bf89-7069965c3454'), AIMessage(content='do you think english medicines are better than ayurvedic', additional_kwargs={}, response_metadata={}, id='22f501b8-789c-4554-b7aa-b18dee6a00fe'), AIMessage(content='Compare the effectiveness and safety of English medicines versus Ayurvedic treatments.', additional_kwargs={}, response_metadata={}, id='d8475b0b-88a9-438b-9036-3111fa5bd6c7'), AIMessage(content=\"I cannot provide a direct comparison of the effectiveness and safety of English medicines (presumably referring to Western or conventional medicine) versus Ayurvedic treatments due to the complexities involved.  A thorough comparison would require a systematic review of numerous studies, considering various factors such as the specific disease or condition, the type of medicine used, and the individual patient's characteristics.  Such a review is beyond the scope of this current tool.\\n\\nHowever, I can offer some general points to consider:\\n\\n**Western Medicine:**\\n\\n* **Effectiveness:** Western medicine generally relies on rigorously tested pharmaceuticals and evidence-based practices.  Clinical trials are used to establish effectiveness and safety.\\n* **Safety:**  Western medicines are subject to stringent regulatory processes (e.g., FDA in the US, EMA in Europe) to ensure safety and efficacy.  However, side effects are possible, and interactions between different drugs can occur.  The risk/benefit ratio is carefully considered.\\n* **Mechanism of action:** Western medicine focuses on understanding the physiological mechanisms of diseases and developing targeted treatments.\\n\\n**Ayurvedic Medicine:**\\n\\n* **Effectiveness:** The effectiveness of Ayurvedic treatments varies widely and lacks the same level of rigorous scientific evidence as Western medicine.  Many claims are not supported by large-scale, randomized controlled trials.\\n* **Safety:** Ayurvedic treatments are not subject to the same level of regulatory scrutiny as Western medicines.  The quality and purity of ingredients can vary, and potential interactions with other medications or adverse effects may not be well-documented.\\n* **Mechanism of action:** Ayurvedic medicine is based on traditional principles and holistic approaches, which may not always align with the mechanisms understood by Western science.\\n\\n**Important Considerations:**\\n\\n* **Individual Variation:** Both Western and Ayurvedic treatments can have varying effects depending on individual factors such as genetics, lifestyle, and overall health.\\n* **Complementary Approaches:** Some people use Ayurvedic treatments alongside Western medicine.  However, it is crucial to inform healthcare providers about all treatments being used to avoid potential interactions or complications.\\n* **Evidence-Based Practice:**  When choosing a treatment, it's crucial to prioritize evidence-based approaches supported by robust scientific research.\\n\\n\\nTo make informed decisions about your health, consult with qualified healthcare professionals.  They can provide personalized advice based on your specific needs and circumstances and help you weigh the risks and benefits of different treatment options.\", additional_kwargs={}, response_metadata={}, id='2a2e3f85-b39b-4279-815b-bc3fcf387691'), AIMessage(content='FINISH', additional_kwargs={}, response_metadata={}, id='a545ae7c-5cb2-4d22-b266-88d726107141'), AIMessage(content='', additional_kwargs={}, response_metadata={}, id='0e42492a-2034-4a17-96f7-c118aac7f26c'), AIMessage(content='do you think english medicines are better than ayurvedic', additional_kwargs={}, response_metadata={}, id='19888c13-c032-490c-916b-69f0cad00b72'), AIMessage(content='Compare the effectiveness and safety of English medicines versus Ayurvedic treatments.', additional_kwargs={}, response_metadata={}, id='34db039e-f060-4c1e-ac41-58758302966e'), AIMessage(content=\"I cannot provide a direct comparison of the effectiveness and safety of English medicines (presumably referring to Western or conventional medicine) versus Ayurvedic treatments due to the complexities involved.  A thorough comparison would require a systematic review of numerous studies, considering various factors such as the specific disease or condition, the type of medicine used, and the individual patient's characteristics.  Such a review is beyond the scope of this current tool.\\n\\nHowever, I can offer some general points to consider:\\n\\n**Western Medicine:**\\n\\n* **Effectiveness:** Western medicine generally relies on rigorously tested pharmaceuticals and evidence-based practices.  Clinical trials are used to establish effectiveness and safety.\\n* **Safety:**  Western medicines are subject to stringent regulatory processes (e.g., FDA in the US, EMA in Europe) to ensure safety and efficacy.  However, side effects are possible, and interactions between different drugs can occur.  The risk/benefit ratio is carefully considered.\\n* **Mechanism of action:** Western medicine focuses on understanding the physiological mechanisms of diseases and developing targeted treatments.\\n\\n**Ayurvedic Medicine:**\\n\\n* **Effectiveness:** The effectiveness of Ayurvedic treatments varies widely and lacks the same level of rigorous scientific evidence as Western medicine.  Many claims are not supported by large-scale, randomized controlled trials.\\n* **Safety:** Ayurvedic treatments are not subject to the same level of regulatory scrutiny as Western medicines.  The quality and purity of ingredients can vary, and potential interactions with other medications or adverse effects may not be well-documented.\\n* **Mechanism of action:** Ayurvedic medicine is based on traditional principles and holistic approaches, which may not always align with the mechanisms understood by Western science.\\n\\n**Important Considerations:**\\n\\n* **Individual Variation:** Both Western and Ayurvedic treatments can have varying effects depending on individual factors such as genetics, lifestyle, and overall health.\\n* **Complementary Approaches:** Some people use Ayurvedic treatments alongside Western medicine.  However, it is crucial to inform healthcare providers about all treatments being used to avoid potential interactions or complications.\\n* **Evidence-Based Practice:**  When choosing a treatment, it's crucial to prioritize evidence-based approaches supported by robust scientific research.\\n\\n\\nTo make informed decisions about your health, consult with qualified healthcare professionals.  They can provide personalized advice based on your specific needs and circumstances and help you weigh the risks and benefits of different treatment options.\", additional_kwargs={}, response_metadata={}, id='3f444dd6-22fb-4812-9678-09b9edb86bf9'), AIMessage(content='do you think english medicines are better than ayurvedic', additional_kwargs={}, response_metadata={}, id='9d4f7cf8-868c-40f9-b0a3-fa1fc71589ee'), AIMessage(content='Compare the effectiveness and safety of English medicines versus Ayurvedic treatments.', additional_kwargs={}, response_metadata={}, id='a8e7cea0-dcfd-482e-80ac-d8b3c2e73878'), AIMessage(content=\"I cannot provide a direct comparison of the effectiveness and safety of English medicines (presumably referring to Western or conventional medicine) versus Ayurvedic treatments due to the complexities involved.  A thorough comparison would require a systematic review of numerous studies, considering various factors such as the specific disease or condition, the type of medicine used, and the individual patient's characteristics.  Such a review is beyond the scope of this current tool.\\n\\nHowever, I can offer some general points to consider:\\n\\n**Western Medicine:**\\n\\n* **Effectiveness:** Western medicine generally relies on rigorously tested pharmaceuticals and evidence-based practices.  Clinical trials are used to establish effectiveness and safety.\\n* **Safety:**  Western medicines are subject to stringent regulatory processes (e.g., FDA in the US, EMA in Europe) to ensure safety and efficacy.  However, side effects are possible, and interactions between different drugs can occur.  The risk/benefit ratio is carefully considered.\\n* **Mechanism of action:** Western medicine focuses on understanding the physiological mechanisms of diseases and developing targeted treatments.\\n\\n**Ayurvedic Medicine:**\\n\\n* **Effectiveness:** The effectiveness of Ayurvedic treatments varies widely and lacks the same level of rigorous scientific evidence as Western medicine.  Many claims are not supported by large-scale, randomized controlled trials.\\n* **Safety:** Ayurvedic treatments are not subject to the same level of regulatory scrutiny as Western medicines.  The quality and purity of ingredients can vary, and potential interactions with other medications or adverse effects may not be well-documented.\\n* **Mechanism of action:** Ayurvedic medicine is based on traditional principles and holistic approaches, which may not always align with the mechanisms understood by Western science.\\n\\n**Important Considerations:**\\n\\n* **Individual Variation:** Both Western and Ayurvedic treatments can have varying effects depending on individual factors such as genetics, lifestyle, and overall health.\\n* **Complementary Approaches:** Some people use Ayurvedic treatments alongside Western medicine.  However, it is crucial to inform healthcare providers about all treatments being used to avoid potential interactions or complications.\\n* **Evidence-Based Practice:**  When choosing a treatment, it's crucial to prioritize evidence-based approaches supported by robust scientific research.\\n\\n\\nTo make informed decisions about your health, consult with qualified healthcare professionals.  They can provide personalized advice based on your specific needs and circumstances and help you weigh the risks and benefits of different treatment options.\", additional_kwargs={}, response_metadata={}, id='6913e48c-ec53-499c-b0a1-70b78c006ba0'), AIMessage(content='FINISH', additional_kwargs={}, response_metadata={}, id='2fe017e4-b27b-4b26-ab9c-78e4f66bde2b'), AIMessage(content='do you think english medicines are better than ayurvedic', additional_kwargs={}, response_metadata={}, id='8ccb4795-ae7b-4176-b695-a6db873b7502'), AIMessage(content='Compare the effectiveness and safety of English medicines versus Ayurvedic treatments.', additional_kwargs={}, response_metadata={}, id='4ce19534-3190-4e99-b19d-b0011f255a1e'), AIMessage(content=\"I cannot provide a direct comparison of the effectiveness and safety of English medicines (presumably referring to Western or conventional medicine) versus Ayurvedic treatments due to the complexities involved.  A thorough comparison would require a systematic review of numerous studies, considering various factors such as the specific disease or condition, the type of medicine used, and the individual patient's characteristics.  Such a review is beyond the scope of this current tool.\\n\\nHowever, I can offer some general points to consider:\\n\\n**Western Medicine:**\\n\\n* **Effectiveness:** Western medicine generally relies on rigorously tested pharmaceuticals and evidence-based practices.  Clinical trials are used to establish effectiveness and safety.\\n* **Safety:**  Western medicines are subject to stringent regulatory processes (e.g., FDA in the US, EMA in Europe) to ensure safety and efficacy.  However, side effects are possible, and interactions between different drugs can occur.  The risk/benefit ratio is carefully considered.\\n* **Mechanism of action:** Western medicine focuses on understanding the physiological mechanisms of diseases and developing targeted treatments.\\n\\n**Ayurvedic Medicine:**\\n\\n* **Effectiveness:** The effectiveness of Ayurvedic treatments varies widely and lacks the same level of rigorous scientific evidence as Western medicine.  Many claims are not supported by large-scale, randomized controlled trials.\\n* **Safety:** Ayurvedic treatments are not subject to the same level of regulatory scrutiny as Western medicines.  The quality and purity of ingredients can vary, and potential interactions with other medications or adverse effects may not be well-documented.\\n* **Mechanism of action:** Ayurvedic medicine is based on traditional principles and holistic approaches, which may not always align with the mechanisms understood by Western science.\\n\\n**Important Considerations:**\\n\\n* **Individual Variation:** Both Western and Ayurvedic treatments can have varying effects depending on individual factors such as genetics, lifestyle, and overall health.\\n* **Complementary Approaches:** Some people use Ayurvedic treatments alongside Western medicine.  However, it is crucial to inform healthcare providers about all treatments being used to avoid potential interactions or complications.\\n* **Evidence-Based Practice:**  When choosing a treatment, it's crucial to prioritize evidence-based approaches supported by robust scientific research.\\n\\n\\nTo make informed decisions about your health, consult with qualified healthcare professionals.  They can provide personalized advice based on your specific needs and circumstances and help you weigh the risks and benefits of different treatment options.\", additional_kwargs={}, response_metadata={}, id='b33ea871-fe25-41c0-881a-126426fd3fb9'), AIMessage(content='do you think english medicines are better than ayurvedic', additional_kwargs={}, response_metadata={}, id='35dbcf55-63ad-4eef-b0c4-80a11617826b'), AIMessage(content='Compare the effectiveness and safety of English medicines versus Ayurvedic treatments.', additional_kwargs={}, response_metadata={}, id='06f4dc35-4370-4cf9-acc6-a4da028afef9'), AIMessage(content=\"I cannot provide a direct comparison of the effectiveness and safety of English medicines (presumably referring to Western or conventional medicine) versus Ayurvedic treatments due to the complexities involved.  A thorough comparison would require a systematic review of numerous studies, considering various factors such as the specific disease or condition, the type of medicine used, and the individual patient's characteristics.  Such a review is beyond the scope of this current tool.\\n\\nHowever, I can offer some general points to consider:\\n\\n**Western Medicine:**\\n\\n* **Effectiveness:** Western medicine generally relies on rigorously tested pharmaceuticals and evidence-based practices.  Clinical trials are used to establish effectiveness and safety.\\n* **Safety:**  Western medicines are subject to stringent regulatory processes (e.g., FDA in the US, EMA in Europe) to ensure safety and efficacy.  However, side effects are possible, and interactions between different drugs can occur.  The risk/benefit ratio is carefully considered.\\n* **Mechanism of action:** Western medicine focuses on understanding the physiological mechanisms of diseases and developing targeted treatments.\\n\\n**Ayurvedic Medicine:**\\n\\n* **Effectiveness:** The effectiveness of Ayurvedic treatments varies widely and lacks the same level of rigorous scientific evidence as Western medicine.  Many claims are not supported by large-scale, randomized controlled trials.\\n* **Safety:** Ayurvedic treatments are not subject to the same level of regulatory scrutiny as Western medicines.  The quality and purity of ingredients can vary, and potential interactions with other medications or adverse effects may not be well-documented.\\n* **Mechanism of action:** Ayurvedic medicine is based on traditional principles and holistic approaches, which may not always align with the mechanisms understood by Western science.\\n\\n**Important Considerations:**\\n\\n* **Individual Variation:** Both Western and Ayurvedic treatments can have varying effects depending on individual factors such as genetics, lifestyle, and overall health.\\n* **Complementary Approaches:** Some people use Ayurvedic treatments alongside Western medicine.  However, it is crucial to inform healthcare providers about all treatments being used to avoid potential interactions or complications.\\n* **Evidence-Based Practice:**  When choosing a treatment, it's crucial to prioritize evidence-based approaches supported by robust scientific research.\\n\\n\\nTo make informed decisions about your health, consult with qualified healthcare professionals.  They can provide personalized advice based on your specific needs and circumstances and help you weigh the risks and benefits of different treatment options.\", additional_kwargs={}, response_metadata={}, id='c8fbea1f-c1d3-4ea4-8352-a67721bdcd1e'), AIMessage(content='FINISH', additional_kwargs={}, response_metadata={}, id='3f0af383-fbdf-4691-aab1-204e4e9e212d'), AIMessage(content='', additional_kwargs={}, response_metadata={}, id='6cf4f641-0934-47e9-9bc1-2d2d6658cac4'), AIMessage(content='The question of whether \"English medicines\" (referring to Western medicine) are better than Ayurvedic treatments is complex and cannot be answered with a simple yes or no.  Both systems have strengths and weaknesses, and the best approach often depends on the specific condition, individual patient factors, and available resources.  A direct comparison requires extensive research and is beyond the scope of this response.', additional_kwargs={}, response_metadata={}, id='cec1b3d4-f9eb-45da-8204-d55c271a933d'), AIMessage(content='do you think english medicines are better than ayurvedic', additional_kwargs={}, response_metadata={}, id='389b1781-4615-4aaf-a036-cec64f5c2cd3'), AIMessage(content='Compare the effectiveness and safety of English medicines versus Ayurvedic treatments.', additional_kwargs={}, response_metadata={}, id='975f94f1-b9a9-4d44-863e-960fbb94a567'), AIMessage(content=\"I cannot provide a direct comparison of the effectiveness and safety of English medicines (presumably referring to Western or conventional medicine) versus Ayurvedic treatments due to the complexities involved.  A thorough comparison would require a systematic review of numerous studies, considering various factors such as the specific disease or condition, the type of medicine used, and the individual patient's characteristics.  Such a review is beyond the scope of this current tool.\\n\\nHowever, I can offer some general points to consider:\\n\\n**Western Medicine:**\\n\\n* **Effectiveness:** Western medicine generally relies on rigorously tested pharmaceuticals and evidence-based practices.  Clinical trials are used to establish effectiveness and safety.\\n* **Safety:**  Western medicines are subject to stringent regulatory processes (e.g., FDA in the US, EMA in Europe) to ensure safety and efficacy.  However, side effects are possible, and interactions between different drugs can occur.  The risk/benefit ratio is carefully considered.\\n* **Mechanism of action:** Western medicine focuses on understanding the physiological mechanisms of diseases and developing targeted treatments.\\n\\n**Ayurvedic Medicine:**\\n\\n* **Effectiveness:** The effectiveness of Ayurvedic treatments varies widely and lacks the same level of rigorous scientific evidence as Western medicine.  Many claims are not supported by large-scale, randomized controlled trials.\\n* **Safety:** Ayurvedic treatments are not subject to the same level of regulatory scrutiny as Western medicines.  The quality and purity of ingredients can vary, and potential interactions with other medications or adverse effects may not be well-documented.\\n* **Mechanism of action:** Ayurvedic medicine is based on traditional principles and holistic approaches, which may not always align with the mechanisms understood by Western science.\\n\\n**Important Considerations:**\\n\\n* **Individual Variation:** Both Western and Ayurvedic treatments can have varying effects depending on individual factors such as genetics, lifestyle, and overall health.\\n* **Complementary Approaches:** Some people use Ayurvedic treatments alongside Western medicine.  However, it is crucial to inform healthcare providers about all treatments being used to avoid potential interactions or complications.\\n* **Evidence-Based Practice:**  When choosing a treatment, it's crucial to prioritize evidence-based approaches supported by robust scientific research.\\n\\n\\nTo make informed decisions about your health, consult with qualified healthcare professionals.  They can provide personalized advice based on your specific needs and circumstances and help you weigh the risks and benefits of different treatment options.\", additional_kwargs={}, response_metadata={}, id='289f4980-7ff4-4131-9041-d6819f372190'), AIMessage(content='do you think english medicines are better than ayurvedic', additional_kwargs={}, response_metadata={}, id='661fc6bc-6b9b-4f08-88df-4a21ddeeb57e'), AIMessage(content='Compare the effectiveness and safety of English medicines versus Ayurvedic treatments.', additional_kwargs={}, response_metadata={}, id='d45ae58a-7e11-4464-a843-f83ebe0a19a4'), AIMessage(content=\"I cannot provide a direct comparison of the effectiveness and safety of English medicines (presumably referring to Western or conventional medicine) versus Ayurvedic treatments due to the complexities involved.  A thorough comparison would require a systematic review of numerous studies, considering various factors such as the specific disease or condition, the type of medicine used, and the individual patient's characteristics.  Such a review is beyond the scope of this current tool.\\n\\nHowever, I can offer some general points to consider:\\n\\n**Western Medicine:**\\n\\n* **Effectiveness:** Western medicine generally relies on rigorously tested pharmaceuticals and evidence-based practices.  Clinical trials are used to establish effectiveness and safety.\\n* **Safety:**  Western medicines are subject to stringent regulatory processes (e.g., FDA in the US, EMA in Europe) to ensure safety and efficacy.  However, side effects are possible, and interactions between different drugs can occur.  The risk/benefit ratio is carefully considered.\\n* **Mechanism of action:** Western medicine focuses on understanding the physiological mechanisms of diseases and developing targeted treatments.\\n\\n**Ayurvedic Medicine:**\\n\\n* **Effectiveness:** The effectiveness of Ayurvedic treatments varies widely and lacks the same level of rigorous scientific evidence as Western medicine.  Many claims are not supported by large-scale, randomized controlled trials.\\n* **Safety:** Ayurvedic treatments are not subject to the same level of regulatory scrutiny as Western medicines.  The quality and purity of ingredients can vary, and potential interactions with other medications or adverse effects may not be well-documented.\\n* **Mechanism of action:** Ayurvedic medicine is based on traditional principles and holistic approaches, which may not always align with the mechanisms understood by Western science.\\n\\n**Important Considerations:**\\n\\n* **Individual Variation:** Both Western and Ayurvedic treatments can have varying effects depending on individual factors such as genetics, lifestyle, and overall health.\\n* **Complementary Approaches:** Some people use Ayurvedic treatments alongside Western medicine.  However, it is crucial to inform healthcare providers about all treatments being used to avoid potential interactions or complications.\\n* **Evidence-Based Practice:**  When choosing a treatment, it's crucial to prioritize evidence-based approaches supported by robust scientific research.\\n\\n\\nTo make informed decisions about your health, consult with qualified healthcare professionals.  They can provide personalized advice based on your specific needs and circumstances and help you weigh the risks and benefits of different treatment options.\", additional_kwargs={}, response_metadata={}, id='f215f4e6-9924-4889-b18d-8074dd780685'), AIMessage(content='FINISH', additional_kwargs={}, response_metadata={}, id='10fd5f81-2cd6-4349-9c69-3184c386a9ba'), AIMessage(content='do you think english medicines are better than ayurvedic', additional_kwargs={}, response_metadata={}, id='4453f078-4422-4d6f-a7f8-a9bdc7fd1ecf'), AIMessage(content='Compare the effectiveness and safety of English medicines versus Ayurvedic treatments.', additional_kwargs={}, response_metadata={}, id='d89158ae-c39a-42fe-80ae-fb859742ef11'), AIMessage(content=\"I cannot provide a direct comparison of the effectiveness and safety of English medicines (presumably referring to Western or conventional medicine) versus Ayurvedic treatments due to the complexities involved.  A thorough comparison would require a systematic review of numerous studies, considering various factors such as the specific disease or condition, the type of medicine used, and the individual patient's characteristics.  Such a review is beyond the scope of this current tool.\\n\\nHowever, I can offer some general points to consider:\\n\\n**Western Medicine:**\\n\\n* **Effectiveness:** Western medicine generally relies on rigorously tested pharmaceuticals and evidence-based practices.  Clinical trials are used to establish effectiveness and safety.\\n* **Safety:**  Western medicines are subject to stringent regulatory processes (e.g., FDA in the US, EMA in Europe) to ensure safety and efficacy.  However, side effects are possible, and interactions between different drugs can occur.  The risk/benefit ratio is carefully considered.\\n* **Mechanism of action:** Western medicine focuses on understanding the physiological mechanisms of diseases and developing targeted treatments.\\n\\n**Ayurvedic Medicine:**\\n\\n* **Effectiveness:** The effectiveness of Ayurvedic treatments varies widely and lacks the same level of rigorous scientific evidence as Western medicine.  Many claims are not supported by large-scale, randomized controlled trials.\\n* **Safety:** Ayurvedic treatments are not subject to the same level of regulatory scrutiny as Western medicines.  The quality and purity of ingredients can vary, and potential interactions with other medications or adverse effects may not be well-documented.\\n* **Mechanism of action:** Ayurvedic medicine is based on traditional principles and holistic approaches, which may not always align with the mechanisms understood by Western science.\\n\\n**Important Considerations:**\\n\\n* **Individual Variation:** Both Western and Ayurvedic treatments can have varying effects depending on individual factors such as genetics, lifestyle, and overall health.\\n* **Complementary Approaches:** Some people use Ayurvedic treatments alongside Western medicine.  However, it is crucial to inform healthcare providers about all treatments being used to avoid potential interactions or complications.\\n* **Evidence-Based Practice:**  When choosing a treatment, it's crucial to prioritize evidence-based approaches supported by robust scientific research.\\n\\n\\nTo make informed decisions about your health, consult with qualified healthcare professionals.  They can provide personalized advice based on your specific needs and circumstances and help you weigh the risks and benefits of different treatment options.\", additional_kwargs={}, response_metadata={}, id='07e33af7-95ca-4ae3-803e-0a4d9aa719b5'), AIMessage(content='do you think english medicines are better than ayurvedic', additional_kwargs={}, response_metadata={}, id='d0cd782f-372a-446e-8527-217b9b2c4fcd'), AIMessage(content='Compare the effectiveness and safety of English medicines versus Ayurvedic treatments.', additional_kwargs={}, response_metadata={}, id='3aeae779-dba9-49c8-9404-c9a616ce9972'), AIMessage(content=\"I cannot provide a direct comparison of the effectiveness and safety of English medicines (presumably referring to Western or conventional medicine) versus Ayurvedic treatments due to the complexities involved.  A thorough comparison would require a systematic review of numerous studies, considering various factors such as the specific disease or condition, the type of medicine used, and the individual patient's characteristics.  Such a review is beyond the scope of this current tool.\\n\\nHowever, I can offer some general points to consider:\\n\\n**Western Medicine:**\\n\\n* **Effectiveness:** Western medicine generally relies on rigorously tested pharmaceuticals and evidence-based practices.  Clinical trials are used to establish effectiveness and safety.\\n* **Safety:**  Western medicines are subject to stringent regulatory processes (e.g., FDA in the US, EMA in Europe) to ensure safety and efficacy.  However, side effects are possible, and interactions between different drugs can occur.  The risk/benefit ratio is carefully considered.\\n* **Mechanism of action:** Western medicine focuses on understanding the physiological mechanisms of diseases and developing targeted treatments.\\n\\n**Ayurvedic Medicine:**\\n\\n* **Effectiveness:** The effectiveness of Ayurvedic treatments varies widely and lacks the same level of rigorous scientific evidence as Western medicine.  Many claims are not supported by large-scale, randomized controlled trials.\\n* **Safety:** Ayurvedic treatments are not subject to the same level of regulatory scrutiny as Western medicines.  The quality and purity of ingredients can vary, and potential interactions with other medications or adverse effects may not be well-documented.\\n* **Mechanism of action:** Ayurvedic medicine is based on traditional principles and holistic approaches, which may not always align with the mechanisms understood by Western science.\\n\\n**Important Considerations:**\\n\\n* **Individual Variation:** Both Western and Ayurvedic treatments can have varying effects depending on individual factors such as genetics, lifestyle, and overall health.\\n* **Complementary Approaches:** Some people use Ayurvedic treatments alongside Western medicine.  However, it is crucial to inform healthcare providers about all treatments being used to avoid potential interactions or complications.\\n* **Evidence-Based Practice:**  When choosing a treatment, it's crucial to prioritize evidence-based approaches supported by robust scientific research.\\n\\n\\nTo make informed decisions about your health, consult with qualified healthcare professionals.  They can provide personalized advice based on your specific needs and circumstances and help you weigh the risks and benefits of different treatment options.\", additional_kwargs={}, response_metadata={}, id='50a4500d-f8b1-4717-88b9-dfb728e3fcf8'), AIMessage(content='FINISH', additional_kwargs={}, response_metadata={}, id='b2ec8041-fddc-49c7-8ef8-71deebe254a5'), AIMessage(content='', additional_kwargs={}, response_metadata={}, id='c33b709a-0263-4538-ad85-b9129162e3ec'), AIMessage(content='do you think english medicines are better than ayurvedic', additional_kwargs={}, response_metadata={}, id='77186f02-170d-4532-a23d-21441b67028b'), AIMessage(content='Compare the effectiveness and safety of English medicines versus Ayurvedic treatments.', additional_kwargs={}, response_metadata={}, id='a8b11e8b-ec52-4b79-a847-dff6d07c5966'), AIMessage(content=\"I cannot provide a direct comparison of the effectiveness and safety of English medicines (presumably referring to Western or conventional medicine) versus Ayurvedic treatments due to the complexities involved.  A thorough comparison would require a systematic review of numerous studies, considering various factors such as the specific disease or condition, the type of medicine used, and the individual patient's characteristics.  Such a review is beyond the scope of this current tool.\\n\\nHowever, I can offer some general points to consider:\\n\\n**Western Medicine:**\\n\\n* **Effectiveness:** Western medicine generally relies on rigorously tested pharmaceuticals and evidence-based practices.  Clinical trials are used to establish effectiveness and safety.\\n* **Safety:**  Western medicines are subject to stringent regulatory processes (e.g., FDA in the US, EMA in Europe) to ensure safety and efficacy.  However, side effects are possible, and interactions between different drugs can occur.  The risk/benefit ratio is carefully considered.\\n* **Mechanism of action:** Western medicine focuses on understanding the physiological mechanisms of diseases and developing targeted treatments.\\n\\n**Ayurvedic Medicine:**\\n\\n* **Effectiveness:** The effectiveness of Ayurvedic treatments varies widely and lacks the same level of rigorous scientific evidence as Western medicine.  Many claims are not supported by large-scale, randomized controlled trials.\\n* **Safety:** Ayurvedic treatments are not subject to the same level of regulatory scrutiny as Western medicines.  The quality and purity of ingredients can vary, and potential interactions with other medications or adverse effects may not be well-documented.\\n* **Mechanism of action:** Ayurvedic medicine is based on traditional principles and holistic approaches, which may not always align with the mechanisms understood by Western science.\\n\\n**Important Considerations:**\\n\\n* **Individual Variation:** Both Western and Ayurvedic treatments can have varying effects depending on individual factors such as genetics, lifestyle, and overall health.\\n* **Complementary Approaches:** Some people use Ayurvedic treatments alongside Western medicine.  However, it is crucial to inform healthcare providers about all treatments being used to avoid potential interactions or complications.\\n* **Evidence-Based Practice:**  When choosing a treatment, it's crucial to prioritize evidence-based approaches supported by robust scientific research.\\n\\n\\nTo make informed decisions about your health, consult with qualified healthcare professionals.  They can provide personalized advice based on your specific needs and circumstances and help you weigh the risks and benefits of different treatment options.\", additional_kwargs={}, response_metadata={}, id='516ddd14-ce5e-416c-971a-af22cc7a9172'), AIMessage(content='do you think english medicines are better than ayurvedic', additional_kwargs={}, response_metadata={}, id='9bb81fd7-07d1-4114-b69c-fd5885a006a3'), AIMessage(content='Compare the effectiveness and safety of English medicines versus Ayurvedic treatments.', additional_kwargs={}, response_metadata={}, id='9ac35b3c-4015-499b-843b-b845da918a29'), AIMessage(content=\"I cannot provide a direct comparison of the effectiveness and safety of English medicines (presumably referring to Western or conventional medicine) versus Ayurvedic treatments due to the complexities involved.  A thorough comparison would require a systematic review of numerous studies, considering various factors such as the specific disease or condition, the type of medicine used, and the individual patient's characteristics.  Such a review is beyond the scope of this current tool.\\n\\nHowever, I can offer some general points to consider:\\n\\n**Western Medicine:**\\n\\n* **Effectiveness:** Western medicine generally relies on rigorously tested pharmaceuticals and evidence-based practices.  Clinical trials are used to establish effectiveness and safety.\\n* **Safety:**  Western medicines are subject to stringent regulatory processes (e.g., FDA in the US, EMA in Europe) to ensure safety and efficacy.  However, side effects are possible, and interactions between different drugs can occur.  The risk/benefit ratio is carefully considered.\\n* **Mechanism of action:** Western medicine focuses on understanding the physiological mechanisms of diseases and developing targeted treatments.\\n\\n**Ayurvedic Medicine:**\\n\\n* **Effectiveness:** The effectiveness of Ayurvedic treatments varies widely and lacks the same level of rigorous scientific evidence as Western medicine.  Many claims are not supported by large-scale, randomized controlled trials.\\n* **Safety:** Ayurvedic treatments are not subject to the same level of regulatory scrutiny as Western medicines.  The quality and purity of ingredients can vary, and potential interactions with other medications or adverse effects may not be well-documented.\\n* **Mechanism of action:** Ayurvedic medicine is based on traditional principles and holistic approaches, which may not always align with the mechanisms understood by Western science.\\n\\n**Important Considerations:**\\n\\n* **Individual Variation:** Both Western and Ayurvedic treatments can have varying effects depending on individual factors such as genetics, lifestyle, and overall health.\\n* **Complementary Approaches:** Some people use Ayurvedic treatments alongside Western medicine.  However, it is crucial to inform healthcare providers about all treatments being used to avoid potential interactions or complications.\\n* **Evidence-Based Practice:**  When choosing a treatment, it's crucial to prioritize evidence-based approaches supported by robust scientific research.\\n\\n\\nTo make informed decisions about your health, consult with qualified healthcare professionals.  They can provide personalized advice based on your specific needs and circumstances and help you weigh the risks and benefits of different treatment options.\", additional_kwargs={}, response_metadata={}, id='01d4ccb8-ad1c-4bfe-a65d-ac0739304b0f'), AIMessage(content='FINISH', additional_kwargs={}, response_metadata={}, id='34edd518-9029-41f2-bee0-d0663459fc10'), AIMessage(content='do you think english medicines are better than ayurvedic', additional_kwargs={}, response_metadata={}, id='233134a1-b277-4cd7-9a4d-9821b051701e'), AIMessage(content='Compare the effectiveness and safety of English medicines versus Ayurvedic treatments.', additional_kwargs={}, response_metadata={}, id='3630c541-0269-43fe-8f63-73749d1328e4'), AIMessage(content=\"I cannot provide a direct comparison of the effectiveness and safety of English medicines (presumably referring to Western or conventional medicine) versus Ayurvedic treatments due to the complexities involved.  A thorough comparison would require a systematic review of numerous studies, considering various factors such as the specific disease or condition, the type of medicine used, and the individual patient's characteristics.  Such a review is beyond the scope of this current tool.\\n\\nHowever, I can offer some general points to consider:\\n\\n**Western Medicine:**\\n\\n* **Effectiveness:** Western medicine generally relies on rigorously tested pharmaceuticals and evidence-based practices.  Clinical trials are used to establish effectiveness and safety.\\n* **Safety:**  Western medicines are subject to stringent regulatory processes (e.g., FDA in the US, EMA in Europe) to ensure safety and efficacy.  However, side effects are possible, and interactions between different drugs can occur.  The risk/benefit ratio is carefully considered.\\n* **Mechanism of action:** Western medicine focuses on understanding the physiological mechanisms of diseases and developing targeted treatments.\\n\\n**Ayurvedic Medicine:**\\n\\n* **Effectiveness:** The effectiveness of Ayurvedic treatments varies widely and lacks the same level of rigorous scientific evidence as Western medicine.  Many claims are not supported by large-scale, randomized controlled trials.\\n* **Safety:** Ayurvedic treatments are not subject to the same level of regulatory scrutiny as Western medicines.  The quality and purity of ingredients can vary, and potential interactions with other medications or adverse effects may not be well-documented.\\n* **Mechanism of action:** Ayurvedic medicine is based on traditional principles and holistic approaches, which may not always align with the mechanisms understood by Western science.\\n\\n**Important Considerations:**\\n\\n* **Individual Variation:** Both Western and Ayurvedic treatments can have varying effects depending on individual factors such as genetics, lifestyle, and overall health.\\n* **Complementary Approaches:** Some people use Ayurvedic treatments alongside Western medicine.  However, it is crucial to inform healthcare providers about all treatments being used to avoid potential interactions or complications.\\n* **Evidence-Based Practice:**  When choosing a treatment, it's crucial to prioritize evidence-based approaches supported by robust scientific research.\\n\\n\\nTo make informed decisions about your health, consult with qualified healthcare professionals.  They can provide personalized advice based on your specific needs and circumstances and help you weigh the risks and benefits of different treatment options.\", additional_kwargs={}, response_metadata={}, id='f64955e7-3ba6-4f02-bc1f-bf0dc6d42057'), AIMessage(content='do you think english medicines are better than ayurvedic', additional_kwargs={}, response_metadata={}, id='cac82acb-02d5-43ef-bdb1-5de4c7e1c2a7'), AIMessage(content='Compare the effectiveness and safety of English medicines versus Ayurvedic treatments.', additional_kwargs={}, response_metadata={}, id='b0fd6aec-257e-4b4e-b148-3b678a5cde0c'), AIMessage(content=\"I cannot provide a direct comparison of the effectiveness and safety of English medicines (presumably referring to Western or conventional medicine) versus Ayurvedic treatments due to the complexities involved.  A thorough comparison would require a systematic review of numerous studies, considering various factors such as the specific disease or condition, the type of medicine used, and the individual patient's characteristics.  Such a review is beyond the scope of this current tool.\\n\\nHowever, I can offer some general points to consider:\\n\\n**Western Medicine:**\\n\\n* **Effectiveness:** Western medicine generally relies on rigorously tested pharmaceuticals and evidence-based practices.  Clinical trials are used to establish effectiveness and safety.\\n* **Safety:**  Western medicines are subject to stringent regulatory processes (e.g., FDA in the US, EMA in Europe) to ensure safety and efficacy.  However, side effects are possible, and interactions between different drugs can occur.  The risk/benefit ratio is carefully considered.\\n* **Mechanism of action:** Western medicine focuses on understanding the physiological mechanisms of diseases and developing targeted treatments.\\n\\n**Ayurvedic Medicine:**\\n\\n* **Effectiveness:** The effectiveness of Ayurvedic treatments varies widely and lacks the same level of rigorous scientific evidence as Western medicine.  Many claims are not supported by large-scale, randomized controlled trials.\\n* **Safety:** Ayurvedic treatments are not subject to the same level of regulatory scrutiny as Western medicines.  The quality and purity of ingredients can vary, and potential interactions with other medications or adverse effects may not be well-documented.\\n* **Mechanism of action:** Ayurvedic medicine is based on traditional principles and holistic approaches, which may not always align with the mechanisms understood by Western science.\\n\\n**Important Considerations:**\\n\\n* **Individual Variation:** Both Western and Ayurvedic treatments can have varying effects depending on individual factors such as genetics, lifestyle, and overall health.\\n* **Complementary Approaches:** Some people use Ayurvedic treatments alongside Western medicine.  However, it is crucial to inform healthcare providers about all treatments being used to avoid potential interactions or complications.\\n* **Evidence-Based Practice:**  When choosing a treatment, it's crucial to prioritize evidence-based approaches supported by robust scientific research.\\n\\n\\nTo make informed decisions about your health, consult with qualified healthcare professionals.  They can provide personalized advice based on your specific needs and circumstances and help you weigh the risks and benefits of different treatment options.\", additional_kwargs={}, response_metadata={}, id='83a34743-b042-4a95-abe3-715545137e65'), AIMessage(content='FINISH', additional_kwargs={}, response_metadata={}, id='12bb654b-c7dd-46d1-bde5-d62933bde809'), AIMessage(content='', additional_kwargs={}, response_metadata={}, id='adda0d9d-f1f6-41f0-81d4-8a1f1befba0e'), AIMessage(content='The question of whether \"English medicines\" (referring to Western medicine) are better than Ayurvedic treatments is complex and cannot be answered with a simple yes or no.  Both systems have strengths and weaknesses, and the best approach often depends on the specific condition, individual patient factors, and available resources.  A direct comparison requires extensive research and is beyond the scope of this response.', additional_kwargs={}, response_metadata={}, id='778ab288-dd85-4341-aaf0-7d979f2d0b7d'), AIMessage(content='However, here\\'s a summary of key differences to consider:\\n\\n**Western Medicine:**\\n\\n* **Strengths:** Rigorous scientific testing, standardized drug production, clear dosage guidelines, and generally well-defined treatment protocols.  Focuses on identifying and treating specific diseases or conditions.  Generally more effective for acute and life-threatening conditions.\\n* **Weaknesses:** Can have significant side effects, can be expensive, often treats symptoms rather than underlying causes, and may not address holistic well-being.\\n\\n\\n**Ayurvedic Medicine:**\\n\\n* **Strengths:** Holistic approach, considers individual constitution (Prakriti), emphasizes prevention, uses natural remedies, and may be more affordable.\\n* **Weaknesses:** Lacks rigorous scientific evidence for many claims, quality control of ingredients can vary, and standardized treatment protocols are less established.  May not be effective for acute or life-threatening conditions.\\n\\n\\n**Conclusion:**\\n\\nNeither system is universally \"better.\" The choice depends on several factors, including the specific health concern, individual preferences, and access to qualified practitioners and resources.  A combination of both approaches (with informed consent and oversight from qualified healthcare professionals) might be beneficial in certain circumstances.  Always consult with qualified healthcare professionals to determine the most appropriate treatment plan for your specific needs.', additional_kwargs={}, response_metadata={}, id='1a84b965-2b70-4f50-aeff-9535e0be6501'), AIMessage(content='', additional_kwargs={}, response_metadata={'prompt_feedback': {'block_reason': 0, 'safety_ratings': []}, 'finish_reason': 'STOP', 'model_name': 'gemini-1.5-flash', 'safety_ratings': []}, id='run--0a51c5ef-8c91-4dcf-88d4-16397532740f-0', usage_metadata={'input_tokens': 8677, 'output_tokens': 0, 'total_tokens': 8677, 'input_token_details': {'cache_read': 0}})]}\n",
      "<--------inside supervisor node-------->\n",
      "<--------inside research team node-------->\n",
      "Response:\n",
      "<--------inside supervisor node-------->\n",
      "<--------inside research team node-------->\n"
     ]
    },
    {
     "ename": "KeyboardInterrupt",
     "evalue": "",
     "output_type": "error",
     "traceback": [
      "\u001b[31m---------------------------------------------------------------------------\u001b[39m",
      "\u001b[31mKeyboardInterrupt\u001b[39m                         Traceback (most recent call last)",
      "\u001b[36mCell\u001b[39m\u001b[36m \u001b[39m\u001b[32mIn[51]\u001b[39m\u001b[32m, line 1\u001b[39m\n\u001b[32m----> \u001b[39m\u001b[32m1\u001b[39m response = \u001b[43mgraph\u001b[49m\u001b[43m.\u001b[49m\u001b[43minvoke\u001b[49m\u001b[43m(\u001b[49m\u001b[43m{\u001b[49m\u001b[33;43m\"\u001b[39;49m\u001b[33;43mmessages\u001b[39;49m\u001b[33;43m\"\u001b[39;49m\u001b[43m:\u001b[49m\u001b[43m[\u001b[49m\u001b[33;43m\"\u001b[39;49m\u001b[33;43mdo you think english medicines are better than ayurvedic\u001b[39;49m\u001b[33;43m\"\u001b[39;49m\u001b[43m]\u001b[49m\u001b[43m}\u001b[49m\u001b[43m)\u001b[49m\n\u001b[32m      2\u001b[39m response\n",
      "\u001b[36mFile \u001b[39m\u001b[32mc:\\Users\\muham\\Desktop\\langgraph_project\\.venv\\Lib\\site-packages\\langgraph\\pregel\\main.py:3026\u001b[39m, in \u001b[36mPregel.invoke\u001b[39m\u001b[34m(self, input, config, context, stream_mode, print_mode, output_keys, interrupt_before, interrupt_after, durability, **kwargs)\u001b[39m\n\u001b[32m   3023\u001b[39m chunks: \u001b[38;5;28mlist\u001b[39m[\u001b[38;5;28mdict\u001b[39m[\u001b[38;5;28mstr\u001b[39m, Any] | Any] = []\n\u001b[32m   3024\u001b[39m interrupts: \u001b[38;5;28mlist\u001b[39m[Interrupt] = []\n\u001b[32m-> \u001b[39m\u001b[32m3026\u001b[39m \u001b[43m\u001b[49m\u001b[38;5;28;43;01mfor\u001b[39;49;00m\u001b[43m \u001b[49m\u001b[43mchunk\u001b[49m\u001b[43m \u001b[49m\u001b[38;5;129;43;01min\u001b[39;49;00m\u001b[43m \u001b[49m\u001b[38;5;28;43mself\u001b[39;49m\u001b[43m.\u001b[49m\u001b[43mstream\u001b[49m\u001b[43m(\u001b[49m\n\u001b[32m   3027\u001b[39m \u001b[43m    \u001b[49m\u001b[38;5;28;43minput\u001b[39;49m\u001b[43m,\u001b[49m\n\u001b[32m   3028\u001b[39m \u001b[43m    \u001b[49m\u001b[43mconfig\u001b[49m\u001b[43m,\u001b[49m\n\u001b[32m   3029\u001b[39m \u001b[43m    \u001b[49m\u001b[43mcontext\u001b[49m\u001b[43m=\u001b[49m\u001b[43mcontext\u001b[49m\u001b[43m,\u001b[49m\n\u001b[32m   3030\u001b[39m \u001b[43m    \u001b[49m\u001b[43mstream_mode\u001b[49m\u001b[43m=\u001b[49m\u001b[43m[\u001b[49m\u001b[33;43m\"\u001b[39;49m\u001b[33;43mupdates\u001b[39;49m\u001b[33;43m\"\u001b[39;49m\u001b[43m,\u001b[49m\u001b[43m \u001b[49m\u001b[33;43m\"\u001b[39;49m\u001b[33;43mvalues\u001b[39;49m\u001b[33;43m\"\u001b[39;49m\u001b[43m]\u001b[49m\n\u001b[32m   3031\u001b[39m \u001b[43m    \u001b[49m\u001b[38;5;28;43;01mif\u001b[39;49;00m\u001b[43m \u001b[49m\u001b[43mstream_mode\u001b[49m\u001b[43m \u001b[49m\u001b[43m==\u001b[49m\u001b[43m \u001b[49m\u001b[33;43m\"\u001b[39;49m\u001b[33;43mvalues\u001b[39;49m\u001b[33;43m\"\u001b[39;49m\n\u001b[32m   3032\u001b[39m \u001b[43m    \u001b[49m\u001b[38;5;28;43;01melse\u001b[39;49;00m\u001b[43m \u001b[49m\u001b[43mstream_mode\u001b[49m\u001b[43m,\u001b[49m\n\u001b[32m   3033\u001b[39m \u001b[43m    \u001b[49m\u001b[43mprint_mode\u001b[49m\u001b[43m=\u001b[49m\u001b[43mprint_mode\u001b[49m\u001b[43m,\u001b[49m\n\u001b[32m   3034\u001b[39m \u001b[43m    \u001b[49m\u001b[43moutput_keys\u001b[49m\u001b[43m=\u001b[49m\u001b[43moutput_keys\u001b[49m\u001b[43m,\u001b[49m\n\u001b[32m   3035\u001b[39m \u001b[43m    \u001b[49m\u001b[43minterrupt_before\u001b[49m\u001b[43m=\u001b[49m\u001b[43minterrupt_before\u001b[49m\u001b[43m,\u001b[49m\n\u001b[32m   3036\u001b[39m \u001b[43m    \u001b[49m\u001b[43minterrupt_after\u001b[49m\u001b[43m=\u001b[49m\u001b[43minterrupt_after\u001b[49m\u001b[43m,\u001b[49m\n\u001b[32m   3037\u001b[39m \u001b[43m    \u001b[49m\u001b[43mdurability\u001b[49m\u001b[43m=\u001b[49m\u001b[43mdurability\u001b[49m\u001b[43m,\u001b[49m\n\u001b[32m   3038\u001b[39m \u001b[43m    \u001b[49m\u001b[43m*\u001b[49m\u001b[43m*\u001b[49m\u001b[43mkwargs\u001b[49m\u001b[43m,\u001b[49m\n\u001b[32m   3039\u001b[39m \u001b[43m\u001b[49m\u001b[43m)\u001b[49m\u001b[43m:\u001b[49m\n\u001b[32m   3040\u001b[39m \u001b[43m    \u001b[49m\u001b[38;5;28;43;01mif\u001b[39;49;00m\u001b[43m \u001b[49m\u001b[43mstream_mode\u001b[49m\u001b[43m \u001b[49m\u001b[43m==\u001b[49m\u001b[43m \u001b[49m\u001b[33;43m\"\u001b[39;49m\u001b[33;43mvalues\u001b[39;49m\u001b[33;43m\"\u001b[39;49m\u001b[43m:\u001b[49m\n\u001b[32m   3041\u001b[39m \u001b[43m        \u001b[49m\u001b[38;5;28;43;01mif\u001b[39;49;00m\u001b[43m \u001b[49m\u001b[38;5;28;43mlen\u001b[39;49m\u001b[43m(\u001b[49m\u001b[43mchunk\u001b[49m\u001b[43m)\u001b[49m\u001b[43m \u001b[49m\u001b[43m==\u001b[49m\u001b[43m \u001b[49m\u001b[32;43m2\u001b[39;49m\u001b[43m:\u001b[49m\n",
      "\u001b[36mFile \u001b[39m\u001b[32mc:\\Users\\muham\\Desktop\\langgraph_project\\.venv\\Lib\\site-packages\\langgraph\\pregel\\main.py:2647\u001b[39m, in \u001b[36mPregel.stream\u001b[39m\u001b[34m(self, input, config, context, stream_mode, print_mode, output_keys, interrupt_before, interrupt_after, durability, subgraphs, debug, **kwargs)\u001b[39m\n\u001b[32m   2645\u001b[39m \u001b[38;5;28;01mfor\u001b[39;00m task \u001b[38;5;129;01min\u001b[39;00m loop.match_cached_writes():\n\u001b[32m   2646\u001b[39m     loop.output_writes(task.id, task.writes, cached=\u001b[38;5;28;01mTrue\u001b[39;00m)\n\u001b[32m-> \u001b[39m\u001b[32m2647\u001b[39m \u001b[43m\u001b[49m\u001b[38;5;28;43;01mfor\u001b[39;49;00m\u001b[43m \u001b[49m\u001b[43m_\u001b[49m\u001b[43m \u001b[49m\u001b[38;5;129;43;01min\u001b[39;49;00m\u001b[43m \u001b[49m\u001b[43mrunner\u001b[49m\u001b[43m.\u001b[49m\u001b[43mtick\u001b[49m\u001b[43m(\u001b[49m\n\u001b[32m   2648\u001b[39m \u001b[43m    \u001b[49m\u001b[43m[\u001b[49m\u001b[43mt\u001b[49m\u001b[43m \u001b[49m\u001b[38;5;28;43;01mfor\u001b[39;49;00m\u001b[43m \u001b[49m\u001b[43mt\u001b[49m\u001b[43m \u001b[49m\u001b[38;5;129;43;01min\u001b[39;49;00m\u001b[43m \u001b[49m\u001b[43mloop\u001b[49m\u001b[43m.\u001b[49m\u001b[43mtasks\u001b[49m\u001b[43m.\u001b[49m\u001b[43mvalues\u001b[49m\u001b[43m(\u001b[49m\u001b[43m)\u001b[49m\u001b[43m \u001b[49m\u001b[38;5;28;43;01mif\u001b[39;49;00m\u001b[43m \u001b[49m\u001b[38;5;129;43;01mnot\u001b[39;49;00m\u001b[43m \u001b[49m\u001b[43mt\u001b[49m\u001b[43m.\u001b[49m\u001b[43mwrites\u001b[49m\u001b[43m]\u001b[49m\u001b[43m,\u001b[49m\n\u001b[32m   2649\u001b[39m \u001b[43m    \u001b[49m\u001b[43mtimeout\u001b[49m\u001b[43m=\u001b[49m\u001b[38;5;28;43mself\u001b[39;49m\u001b[43m.\u001b[49m\u001b[43mstep_timeout\u001b[49m\u001b[43m,\u001b[49m\n\u001b[32m   2650\u001b[39m \u001b[43m    \u001b[49m\u001b[43mget_waiter\u001b[49m\u001b[43m=\u001b[49m\u001b[43mget_waiter\u001b[49m\u001b[43m,\u001b[49m\n\u001b[32m   2651\u001b[39m \u001b[43m    \u001b[49m\u001b[43mschedule_task\u001b[49m\u001b[43m=\u001b[49m\u001b[43mloop\u001b[49m\u001b[43m.\u001b[49m\u001b[43maccept_push\u001b[49m\u001b[43m,\u001b[49m\n\u001b[32m   2652\u001b[39m \u001b[43m\u001b[49m\u001b[43m)\u001b[49m\u001b[43m:\u001b[49m\n\u001b[32m   2653\u001b[39m \u001b[43m    \u001b[49m\u001b[38;5;66;43;03m# emit output\u001b[39;49;00m\n\u001b[32m   2654\u001b[39m \u001b[43m    \u001b[49m\u001b[38;5;28;43;01myield from\u001b[39;49;00m\u001b[43m \u001b[49m\u001b[43m_output\u001b[49m\u001b[43m(\u001b[49m\n\u001b[32m   2655\u001b[39m \u001b[43m        \u001b[49m\u001b[43mstream_mode\u001b[49m\u001b[43m,\u001b[49m\u001b[43m \u001b[49m\u001b[43mprint_mode\u001b[49m\u001b[43m,\u001b[49m\u001b[43m \u001b[49m\u001b[43msubgraphs\u001b[49m\u001b[43m,\u001b[49m\u001b[43m \u001b[49m\u001b[43mstream\u001b[49m\u001b[43m.\u001b[49m\u001b[43mget\u001b[49m\u001b[43m,\u001b[49m\u001b[43m \u001b[49m\u001b[43mqueue\u001b[49m\u001b[43m.\u001b[49m\u001b[43mEmpty\u001b[49m\n\u001b[32m   2656\u001b[39m \u001b[43m    \u001b[49m\u001b[43m)\u001b[49m\n\u001b[32m   2657\u001b[39m loop.after_tick()\n",
      "\u001b[36mFile \u001b[39m\u001b[32mc:\\Users\\muham\\Desktop\\langgraph_project\\.venv\\Lib\\site-packages\\langgraph\\pregel\\_runner.py:162\u001b[39m, in \u001b[36mPregelRunner.tick\u001b[39m\u001b[34m(self, tasks, reraise, timeout, retry_policy, get_waiter, schedule_task)\u001b[39m\n\u001b[32m    160\u001b[39m t = tasks[\u001b[32m0\u001b[39m]\n\u001b[32m    161\u001b[39m \u001b[38;5;28;01mtry\u001b[39;00m:\n\u001b[32m--> \u001b[39m\u001b[32m162\u001b[39m     \u001b[43mrun_with_retry\u001b[49m\u001b[43m(\u001b[49m\n\u001b[32m    163\u001b[39m \u001b[43m        \u001b[49m\u001b[43mt\u001b[49m\u001b[43m,\u001b[49m\n\u001b[32m    164\u001b[39m \u001b[43m        \u001b[49m\u001b[43mretry_policy\u001b[49m\u001b[43m,\u001b[49m\n\u001b[32m    165\u001b[39m \u001b[43m        \u001b[49m\u001b[43mconfigurable\u001b[49m\u001b[43m=\u001b[49m\u001b[43m{\u001b[49m\n\u001b[32m    166\u001b[39m \u001b[43m            \u001b[49m\u001b[43mCONFIG_KEY_CALL\u001b[49m\u001b[43m:\u001b[49m\u001b[43m \u001b[49m\u001b[43mpartial\u001b[49m\u001b[43m(\u001b[49m\n\u001b[32m    167\u001b[39m \u001b[43m                \u001b[49m\u001b[43m_call\u001b[49m\u001b[43m,\u001b[49m\n\u001b[32m    168\u001b[39m \u001b[43m                \u001b[49m\u001b[43mweakref\u001b[49m\u001b[43m.\u001b[49m\u001b[43mref\u001b[49m\u001b[43m(\u001b[49m\u001b[43mt\u001b[49m\u001b[43m)\u001b[49m\u001b[43m,\u001b[49m\n\u001b[32m    169\u001b[39m \u001b[43m                \u001b[49m\u001b[43mretry_policy\u001b[49m\u001b[43m=\u001b[49m\u001b[43mretry_policy\u001b[49m\u001b[43m,\u001b[49m\n\u001b[32m    170\u001b[39m \u001b[43m                \u001b[49m\u001b[43mfutures\u001b[49m\u001b[43m=\u001b[49m\u001b[43mweakref\u001b[49m\u001b[43m.\u001b[49m\u001b[43mref\u001b[49m\u001b[43m(\u001b[49m\u001b[43mfutures\u001b[49m\u001b[43m)\u001b[49m\u001b[43m,\u001b[49m\n\u001b[32m    171\u001b[39m \u001b[43m                \u001b[49m\u001b[43mschedule_task\u001b[49m\u001b[43m=\u001b[49m\u001b[43mschedule_task\u001b[49m\u001b[43m,\u001b[49m\n\u001b[32m    172\u001b[39m \u001b[43m                \u001b[49m\u001b[43msubmit\u001b[49m\u001b[43m=\u001b[49m\u001b[38;5;28;43mself\u001b[39;49m\u001b[43m.\u001b[49m\u001b[43msubmit\u001b[49m\u001b[43m,\u001b[49m\n\u001b[32m    173\u001b[39m \u001b[43m            \u001b[49m\u001b[43m)\u001b[49m\u001b[43m,\u001b[49m\n\u001b[32m    174\u001b[39m \u001b[43m        \u001b[49m\u001b[43m}\u001b[49m\u001b[43m,\u001b[49m\n\u001b[32m    175\u001b[39m \u001b[43m    \u001b[49m\u001b[43m)\u001b[49m\n\u001b[32m    176\u001b[39m     \u001b[38;5;28mself\u001b[39m.commit(t, \u001b[38;5;28;01mNone\u001b[39;00m)\n\u001b[32m    177\u001b[39m \u001b[38;5;28;01mexcept\u001b[39;00m \u001b[38;5;167;01mException\u001b[39;00m \u001b[38;5;28;01mas\u001b[39;00m exc:\n",
      "\u001b[36mFile \u001b[39m\u001b[32mc:\\Users\\muham\\Desktop\\langgraph_project\\.venv\\Lib\\site-packages\\langgraph\\pregel\\_retry.py:42\u001b[39m, in \u001b[36mrun_with_retry\u001b[39m\u001b[34m(task, retry_policy, configurable)\u001b[39m\n\u001b[32m     40\u001b[39m     task.writes.clear()\n\u001b[32m     41\u001b[39m     \u001b[38;5;66;03m# run the task\u001b[39;00m\n\u001b[32m---> \u001b[39m\u001b[32m42\u001b[39m     \u001b[38;5;28;01mreturn\u001b[39;00m \u001b[43mtask\u001b[49m\u001b[43m.\u001b[49m\u001b[43mproc\u001b[49m\u001b[43m.\u001b[49m\u001b[43minvoke\u001b[49m\u001b[43m(\u001b[49m\u001b[43mtask\u001b[49m\u001b[43m.\u001b[49m\u001b[43minput\u001b[49m\u001b[43m,\u001b[49m\u001b[43m \u001b[49m\u001b[43mconfig\u001b[49m\u001b[43m)\u001b[49m\n\u001b[32m     43\u001b[39m \u001b[38;5;28;01mexcept\u001b[39;00m ParentCommand \u001b[38;5;28;01mas\u001b[39;00m exc:\n\u001b[32m     44\u001b[39m     ns: \u001b[38;5;28mstr\u001b[39m = config[CONF][CONFIG_KEY_CHECKPOINT_NS]\n",
      "\u001b[36mFile \u001b[39m\u001b[32mc:\\Users\\muham\\Desktop\\langgraph_project\\.venv\\Lib\\site-packages\\langgraph\\_internal\\_runnable.py:657\u001b[39m, in \u001b[36mRunnableSeq.invoke\u001b[39m\u001b[34m(self, input, config, **kwargs)\u001b[39m\n\u001b[32m    655\u001b[39m     \u001b[38;5;66;03m# run in context\u001b[39;00m\n\u001b[32m    656\u001b[39m     \u001b[38;5;28;01mwith\u001b[39;00m set_config_context(config, run) \u001b[38;5;28;01mas\u001b[39;00m context:\n\u001b[32m--> \u001b[39m\u001b[32m657\u001b[39m         \u001b[38;5;28minput\u001b[39m = \u001b[43mcontext\u001b[49m\u001b[43m.\u001b[49m\u001b[43mrun\u001b[49m\u001b[43m(\u001b[49m\u001b[43mstep\u001b[49m\u001b[43m.\u001b[49m\u001b[43minvoke\u001b[49m\u001b[43m,\u001b[49m\u001b[43m \u001b[49m\u001b[38;5;28;43minput\u001b[39;49m\u001b[43m,\u001b[49m\u001b[43m \u001b[49m\u001b[43mconfig\u001b[49m\u001b[43m,\u001b[49m\u001b[43m \u001b[49m\u001b[43m*\u001b[49m\u001b[43m*\u001b[49m\u001b[43mkwargs\u001b[49m\u001b[43m)\u001b[49m\n\u001b[32m    658\u001b[39m \u001b[38;5;28;01melse\u001b[39;00m:\n\u001b[32m    659\u001b[39m     \u001b[38;5;28minput\u001b[39m = step.invoke(\u001b[38;5;28minput\u001b[39m, config)\n",
      "\u001b[36mFile \u001b[39m\u001b[32mc:\\Users\\muham\\Desktop\\langgraph_project\\.venv\\Lib\\site-packages\\langgraph\\_internal\\_runnable.py:401\u001b[39m, in \u001b[36mRunnableCallable.invoke\u001b[39m\u001b[34m(self, input, config, **kwargs)\u001b[39m\n\u001b[32m    399\u001b[39m         run_manager.on_chain_end(ret)\n\u001b[32m    400\u001b[39m \u001b[38;5;28;01melse\u001b[39;00m:\n\u001b[32m--> \u001b[39m\u001b[32m401\u001b[39m     ret = \u001b[38;5;28;43mself\u001b[39;49m\u001b[43m.\u001b[49m\u001b[43mfunc\u001b[49m\u001b[43m(\u001b[49m\u001b[43m*\u001b[49m\u001b[43margs\u001b[49m\u001b[43m,\u001b[49m\u001b[43m \u001b[49m\u001b[43m*\u001b[49m\u001b[43m*\u001b[49m\u001b[43mkwargs\u001b[49m\u001b[43m)\u001b[49m\n\u001b[32m    402\u001b[39m \u001b[38;5;28;01mif\u001b[39;00m \u001b[38;5;28mself\u001b[39m.recurse \u001b[38;5;129;01mand\u001b[39;00m \u001b[38;5;28misinstance\u001b[39m(ret, Runnable):\n\u001b[32m    403\u001b[39m     \u001b[38;5;28;01mreturn\u001b[39;00m ret.invoke(\u001b[38;5;28minput\u001b[39m, config)\n",
      "\u001b[36mCell\u001b[39m\u001b[36m \u001b[39m\u001b[32mIn[31]\u001b[39m\u001b[32m, line 15\u001b[39m, in \u001b[36mresearch_team_node\u001b[39m\u001b[34m(state)\u001b[39m\n\u001b[32m      9\u001b[39m system_prompt = create_prompt_for_research()\n\u001b[32m     10\u001b[39m search_agent = create_react_agent(\n\u001b[32m     11\u001b[39m     llm,\n\u001b[32m     12\u001b[39m     tools=[tavily_tool, transfer_to_Finance_agent, transfer_to_Pharmacy_Agent],\n\u001b[32m     13\u001b[39m     prompt=system_prompt\n\u001b[32m     14\u001b[39m )\n\u001b[32m---> \u001b[39m\u001b[32m15\u001b[39m response = \u001b[43msearch_agent\u001b[49m\u001b[43m.\u001b[49m\u001b[43minvoke\u001b[49m\u001b[43m(\u001b[49m\u001b[43mstate\u001b[49m\u001b[43m)\u001b[49m\n\u001b[32m     17\u001b[39m \u001b[38;5;66;03m# ---------------------------------------------------------------------------------------------------#\u001b[39;00m\n\u001b[32m     18\u001b[39m \u001b[38;5;66;03m# response = reload_llm_msg(\"research_team_message.pkl\", llm=search_agent, message=state)                 #\u001b[39;00m\n\u001b[32m     19\u001b[39m \u001b[38;5;66;03m# ---------------------------------------------------------------------------------------------------#\u001b[39;00m\n\u001b[32m     21\u001b[39m pretty_log(response[\u001b[33m\"\u001b[39m\u001b[33mmessages\u001b[39m\u001b[33m\"\u001b[39m])\n",
      "\u001b[36mFile \u001b[39m\u001b[32mc:\\Users\\muham\\Desktop\\langgraph_project\\.venv\\Lib\\site-packages\\langgraph\\pregel\\main.py:3026\u001b[39m, in \u001b[36mPregel.invoke\u001b[39m\u001b[34m(self, input, config, context, stream_mode, print_mode, output_keys, interrupt_before, interrupt_after, durability, **kwargs)\u001b[39m\n\u001b[32m   3023\u001b[39m chunks: \u001b[38;5;28mlist\u001b[39m[\u001b[38;5;28mdict\u001b[39m[\u001b[38;5;28mstr\u001b[39m, Any] | Any] = []\n\u001b[32m   3024\u001b[39m interrupts: \u001b[38;5;28mlist\u001b[39m[Interrupt] = []\n\u001b[32m-> \u001b[39m\u001b[32m3026\u001b[39m \u001b[43m\u001b[49m\u001b[38;5;28;43;01mfor\u001b[39;49;00m\u001b[43m \u001b[49m\u001b[43mchunk\u001b[49m\u001b[43m \u001b[49m\u001b[38;5;129;43;01min\u001b[39;49;00m\u001b[43m \u001b[49m\u001b[38;5;28;43mself\u001b[39;49m\u001b[43m.\u001b[49m\u001b[43mstream\u001b[49m\u001b[43m(\u001b[49m\n\u001b[32m   3027\u001b[39m \u001b[43m    \u001b[49m\u001b[38;5;28;43minput\u001b[39;49m\u001b[43m,\u001b[49m\n\u001b[32m   3028\u001b[39m \u001b[43m    \u001b[49m\u001b[43mconfig\u001b[49m\u001b[43m,\u001b[49m\n\u001b[32m   3029\u001b[39m \u001b[43m    \u001b[49m\u001b[43mcontext\u001b[49m\u001b[43m=\u001b[49m\u001b[43mcontext\u001b[49m\u001b[43m,\u001b[49m\n\u001b[32m   3030\u001b[39m \u001b[43m    \u001b[49m\u001b[43mstream_mode\u001b[49m\u001b[43m=\u001b[49m\u001b[43m[\u001b[49m\u001b[33;43m\"\u001b[39;49m\u001b[33;43mupdates\u001b[39;49m\u001b[33;43m\"\u001b[39;49m\u001b[43m,\u001b[49m\u001b[43m \u001b[49m\u001b[33;43m\"\u001b[39;49m\u001b[33;43mvalues\u001b[39;49m\u001b[33;43m\"\u001b[39;49m\u001b[43m]\u001b[49m\n\u001b[32m   3031\u001b[39m \u001b[43m    \u001b[49m\u001b[38;5;28;43;01mif\u001b[39;49;00m\u001b[43m \u001b[49m\u001b[43mstream_mode\u001b[49m\u001b[43m \u001b[49m\u001b[43m==\u001b[49m\u001b[43m \u001b[49m\u001b[33;43m\"\u001b[39;49m\u001b[33;43mvalues\u001b[39;49m\u001b[33;43m\"\u001b[39;49m\n\u001b[32m   3032\u001b[39m \u001b[43m    \u001b[49m\u001b[38;5;28;43;01melse\u001b[39;49;00m\u001b[43m \u001b[49m\u001b[43mstream_mode\u001b[49m\u001b[43m,\u001b[49m\n\u001b[32m   3033\u001b[39m \u001b[43m    \u001b[49m\u001b[43mprint_mode\u001b[49m\u001b[43m=\u001b[49m\u001b[43mprint_mode\u001b[49m\u001b[43m,\u001b[49m\n\u001b[32m   3034\u001b[39m \u001b[43m    \u001b[49m\u001b[43moutput_keys\u001b[49m\u001b[43m=\u001b[49m\u001b[43moutput_keys\u001b[49m\u001b[43m,\u001b[49m\n\u001b[32m   3035\u001b[39m \u001b[43m    \u001b[49m\u001b[43minterrupt_before\u001b[49m\u001b[43m=\u001b[49m\u001b[43minterrupt_before\u001b[49m\u001b[43m,\u001b[49m\n\u001b[32m   3036\u001b[39m \u001b[43m    \u001b[49m\u001b[43minterrupt_after\u001b[49m\u001b[43m=\u001b[49m\u001b[43minterrupt_after\u001b[49m\u001b[43m,\u001b[49m\n\u001b[32m   3037\u001b[39m \u001b[43m    \u001b[49m\u001b[43mdurability\u001b[49m\u001b[43m=\u001b[49m\u001b[43mdurability\u001b[49m\u001b[43m,\u001b[49m\n\u001b[32m   3038\u001b[39m \u001b[43m    \u001b[49m\u001b[43m*\u001b[49m\u001b[43m*\u001b[49m\u001b[43mkwargs\u001b[49m\u001b[43m,\u001b[49m\n\u001b[32m   3039\u001b[39m \u001b[43m\u001b[49m\u001b[43m)\u001b[49m\u001b[43m:\u001b[49m\n\u001b[32m   3040\u001b[39m \u001b[43m    \u001b[49m\u001b[38;5;28;43;01mif\u001b[39;49;00m\u001b[43m \u001b[49m\u001b[43mstream_mode\u001b[49m\u001b[43m \u001b[49m\u001b[43m==\u001b[49m\u001b[43m \u001b[49m\u001b[33;43m\"\u001b[39;49m\u001b[33;43mvalues\u001b[39;49m\u001b[33;43m\"\u001b[39;49m\u001b[43m:\u001b[49m\n\u001b[32m   3041\u001b[39m \u001b[43m        \u001b[49m\u001b[38;5;28;43;01mif\u001b[39;49;00m\u001b[43m \u001b[49m\u001b[38;5;28;43mlen\u001b[39;49m\u001b[43m(\u001b[49m\u001b[43mchunk\u001b[49m\u001b[43m)\u001b[49m\u001b[43m \u001b[49m\u001b[43m==\u001b[49m\u001b[43m \u001b[49m\u001b[32;43m2\u001b[39;49m\u001b[43m:\u001b[49m\n",
      "\u001b[36mFile \u001b[39m\u001b[32mc:\\Users\\muham\\Desktop\\langgraph_project\\.venv\\Lib\\site-packages\\langgraph\\pregel\\main.py:2647\u001b[39m, in \u001b[36mPregel.stream\u001b[39m\u001b[34m(self, input, config, context, stream_mode, print_mode, output_keys, interrupt_before, interrupt_after, durability, subgraphs, debug, **kwargs)\u001b[39m\n\u001b[32m   2645\u001b[39m \u001b[38;5;28;01mfor\u001b[39;00m task \u001b[38;5;129;01min\u001b[39;00m loop.match_cached_writes():\n\u001b[32m   2646\u001b[39m     loop.output_writes(task.id, task.writes, cached=\u001b[38;5;28;01mTrue\u001b[39;00m)\n\u001b[32m-> \u001b[39m\u001b[32m2647\u001b[39m \u001b[43m\u001b[49m\u001b[38;5;28;43;01mfor\u001b[39;49;00m\u001b[43m \u001b[49m\u001b[43m_\u001b[49m\u001b[43m \u001b[49m\u001b[38;5;129;43;01min\u001b[39;49;00m\u001b[43m \u001b[49m\u001b[43mrunner\u001b[49m\u001b[43m.\u001b[49m\u001b[43mtick\u001b[49m\u001b[43m(\u001b[49m\n\u001b[32m   2648\u001b[39m \u001b[43m    \u001b[49m\u001b[43m[\u001b[49m\u001b[43mt\u001b[49m\u001b[43m \u001b[49m\u001b[38;5;28;43;01mfor\u001b[39;49;00m\u001b[43m \u001b[49m\u001b[43mt\u001b[49m\u001b[43m \u001b[49m\u001b[38;5;129;43;01min\u001b[39;49;00m\u001b[43m \u001b[49m\u001b[43mloop\u001b[49m\u001b[43m.\u001b[49m\u001b[43mtasks\u001b[49m\u001b[43m.\u001b[49m\u001b[43mvalues\u001b[49m\u001b[43m(\u001b[49m\u001b[43m)\u001b[49m\u001b[43m \u001b[49m\u001b[38;5;28;43;01mif\u001b[39;49;00m\u001b[43m \u001b[49m\u001b[38;5;129;43;01mnot\u001b[39;49;00m\u001b[43m \u001b[49m\u001b[43mt\u001b[49m\u001b[43m.\u001b[49m\u001b[43mwrites\u001b[49m\u001b[43m]\u001b[49m\u001b[43m,\u001b[49m\n\u001b[32m   2649\u001b[39m \u001b[43m    \u001b[49m\u001b[43mtimeout\u001b[49m\u001b[43m=\u001b[49m\u001b[38;5;28;43mself\u001b[39;49m\u001b[43m.\u001b[49m\u001b[43mstep_timeout\u001b[49m\u001b[43m,\u001b[49m\n\u001b[32m   2650\u001b[39m \u001b[43m    \u001b[49m\u001b[43mget_waiter\u001b[49m\u001b[43m=\u001b[49m\u001b[43mget_waiter\u001b[49m\u001b[43m,\u001b[49m\n\u001b[32m   2651\u001b[39m \u001b[43m    \u001b[49m\u001b[43mschedule_task\u001b[49m\u001b[43m=\u001b[49m\u001b[43mloop\u001b[49m\u001b[43m.\u001b[49m\u001b[43maccept_push\u001b[49m\u001b[43m,\u001b[49m\n\u001b[32m   2652\u001b[39m \u001b[43m\u001b[49m\u001b[43m)\u001b[49m\u001b[43m:\u001b[49m\n\u001b[32m   2653\u001b[39m \u001b[43m    \u001b[49m\u001b[38;5;66;43;03m# emit output\u001b[39;49;00m\n\u001b[32m   2654\u001b[39m \u001b[43m    \u001b[49m\u001b[38;5;28;43;01myield from\u001b[39;49;00m\u001b[43m \u001b[49m\u001b[43m_output\u001b[49m\u001b[43m(\u001b[49m\n\u001b[32m   2655\u001b[39m \u001b[43m        \u001b[49m\u001b[43mstream_mode\u001b[49m\u001b[43m,\u001b[49m\u001b[43m \u001b[49m\u001b[43mprint_mode\u001b[49m\u001b[43m,\u001b[49m\u001b[43m \u001b[49m\u001b[43msubgraphs\u001b[49m\u001b[43m,\u001b[49m\u001b[43m \u001b[49m\u001b[43mstream\u001b[49m\u001b[43m.\u001b[49m\u001b[43mget\u001b[49m\u001b[43m,\u001b[49m\u001b[43m \u001b[49m\u001b[43mqueue\u001b[49m\u001b[43m.\u001b[49m\u001b[43mEmpty\u001b[49m\n\u001b[32m   2656\u001b[39m \u001b[43m    \u001b[49m\u001b[43m)\u001b[49m\n\u001b[32m   2657\u001b[39m loop.after_tick()\n",
      "\u001b[36mFile \u001b[39m\u001b[32mc:\\Users\\muham\\Desktop\\langgraph_project\\.venv\\Lib\\site-packages\\langgraph\\pregel\\_runner.py:162\u001b[39m, in \u001b[36mPregelRunner.tick\u001b[39m\u001b[34m(self, tasks, reraise, timeout, retry_policy, get_waiter, schedule_task)\u001b[39m\n\u001b[32m    160\u001b[39m t = tasks[\u001b[32m0\u001b[39m]\n\u001b[32m    161\u001b[39m \u001b[38;5;28;01mtry\u001b[39;00m:\n\u001b[32m--> \u001b[39m\u001b[32m162\u001b[39m     \u001b[43mrun_with_retry\u001b[49m\u001b[43m(\u001b[49m\n\u001b[32m    163\u001b[39m \u001b[43m        \u001b[49m\u001b[43mt\u001b[49m\u001b[43m,\u001b[49m\n\u001b[32m    164\u001b[39m \u001b[43m        \u001b[49m\u001b[43mretry_policy\u001b[49m\u001b[43m,\u001b[49m\n\u001b[32m    165\u001b[39m \u001b[43m        \u001b[49m\u001b[43mconfigurable\u001b[49m\u001b[43m=\u001b[49m\u001b[43m{\u001b[49m\n\u001b[32m    166\u001b[39m \u001b[43m            \u001b[49m\u001b[43mCONFIG_KEY_CALL\u001b[49m\u001b[43m:\u001b[49m\u001b[43m \u001b[49m\u001b[43mpartial\u001b[49m\u001b[43m(\u001b[49m\n\u001b[32m    167\u001b[39m \u001b[43m                \u001b[49m\u001b[43m_call\u001b[49m\u001b[43m,\u001b[49m\n\u001b[32m    168\u001b[39m \u001b[43m                \u001b[49m\u001b[43mweakref\u001b[49m\u001b[43m.\u001b[49m\u001b[43mref\u001b[49m\u001b[43m(\u001b[49m\u001b[43mt\u001b[49m\u001b[43m)\u001b[49m\u001b[43m,\u001b[49m\n\u001b[32m    169\u001b[39m \u001b[43m                \u001b[49m\u001b[43mretry_policy\u001b[49m\u001b[43m=\u001b[49m\u001b[43mretry_policy\u001b[49m\u001b[43m,\u001b[49m\n\u001b[32m    170\u001b[39m \u001b[43m                \u001b[49m\u001b[43mfutures\u001b[49m\u001b[43m=\u001b[49m\u001b[43mweakref\u001b[49m\u001b[43m.\u001b[49m\u001b[43mref\u001b[49m\u001b[43m(\u001b[49m\u001b[43mfutures\u001b[49m\u001b[43m)\u001b[49m\u001b[43m,\u001b[49m\n\u001b[32m    171\u001b[39m \u001b[43m                \u001b[49m\u001b[43mschedule_task\u001b[49m\u001b[43m=\u001b[49m\u001b[43mschedule_task\u001b[49m\u001b[43m,\u001b[49m\n\u001b[32m    172\u001b[39m \u001b[43m                \u001b[49m\u001b[43msubmit\u001b[49m\u001b[43m=\u001b[49m\u001b[38;5;28;43mself\u001b[39;49m\u001b[43m.\u001b[49m\u001b[43msubmit\u001b[49m\u001b[43m,\u001b[49m\n\u001b[32m    173\u001b[39m \u001b[43m            \u001b[49m\u001b[43m)\u001b[49m\u001b[43m,\u001b[49m\n\u001b[32m    174\u001b[39m \u001b[43m        \u001b[49m\u001b[43m}\u001b[49m\u001b[43m,\u001b[49m\n\u001b[32m    175\u001b[39m \u001b[43m    \u001b[49m\u001b[43m)\u001b[49m\n\u001b[32m    176\u001b[39m     \u001b[38;5;28mself\u001b[39m.commit(t, \u001b[38;5;28;01mNone\u001b[39;00m)\n\u001b[32m    177\u001b[39m \u001b[38;5;28;01mexcept\u001b[39;00m \u001b[38;5;167;01mException\u001b[39;00m \u001b[38;5;28;01mas\u001b[39;00m exc:\n",
      "\u001b[36mFile \u001b[39m\u001b[32mc:\\Users\\muham\\Desktop\\langgraph_project\\.venv\\Lib\\site-packages\\langgraph\\pregel\\_retry.py:42\u001b[39m, in \u001b[36mrun_with_retry\u001b[39m\u001b[34m(task, retry_policy, configurable)\u001b[39m\n\u001b[32m     40\u001b[39m     task.writes.clear()\n\u001b[32m     41\u001b[39m     \u001b[38;5;66;03m# run the task\u001b[39;00m\n\u001b[32m---> \u001b[39m\u001b[32m42\u001b[39m     \u001b[38;5;28;01mreturn\u001b[39;00m \u001b[43mtask\u001b[49m\u001b[43m.\u001b[49m\u001b[43mproc\u001b[49m\u001b[43m.\u001b[49m\u001b[43minvoke\u001b[49m\u001b[43m(\u001b[49m\u001b[43mtask\u001b[49m\u001b[43m.\u001b[49m\u001b[43minput\u001b[49m\u001b[43m,\u001b[49m\u001b[43m \u001b[49m\u001b[43mconfig\u001b[49m\u001b[43m)\u001b[49m\n\u001b[32m     43\u001b[39m \u001b[38;5;28;01mexcept\u001b[39;00m ParentCommand \u001b[38;5;28;01mas\u001b[39;00m exc:\n\u001b[32m     44\u001b[39m     ns: \u001b[38;5;28mstr\u001b[39m = config[CONF][CONFIG_KEY_CHECKPOINT_NS]\n",
      "\u001b[36mFile \u001b[39m\u001b[32mc:\\Users\\muham\\Desktop\\langgraph_project\\.venv\\Lib\\site-packages\\langgraph\\_internal\\_runnable.py:657\u001b[39m, in \u001b[36mRunnableSeq.invoke\u001b[39m\u001b[34m(self, input, config, **kwargs)\u001b[39m\n\u001b[32m    655\u001b[39m     \u001b[38;5;66;03m# run in context\u001b[39;00m\n\u001b[32m    656\u001b[39m     \u001b[38;5;28;01mwith\u001b[39;00m set_config_context(config, run) \u001b[38;5;28;01mas\u001b[39;00m context:\n\u001b[32m--> \u001b[39m\u001b[32m657\u001b[39m         \u001b[38;5;28minput\u001b[39m = \u001b[43mcontext\u001b[49m\u001b[43m.\u001b[49m\u001b[43mrun\u001b[49m\u001b[43m(\u001b[49m\u001b[43mstep\u001b[49m\u001b[43m.\u001b[49m\u001b[43minvoke\u001b[49m\u001b[43m,\u001b[49m\u001b[43m \u001b[49m\u001b[38;5;28;43minput\u001b[39;49m\u001b[43m,\u001b[49m\u001b[43m \u001b[49m\u001b[43mconfig\u001b[49m\u001b[43m,\u001b[49m\u001b[43m \u001b[49m\u001b[43m*\u001b[49m\u001b[43m*\u001b[49m\u001b[43mkwargs\u001b[49m\u001b[43m)\u001b[49m\n\u001b[32m    658\u001b[39m \u001b[38;5;28;01melse\u001b[39;00m:\n\u001b[32m    659\u001b[39m     \u001b[38;5;28minput\u001b[39m = step.invoke(\u001b[38;5;28minput\u001b[39m, config)\n",
      "\u001b[36mFile \u001b[39m\u001b[32mc:\\Users\\muham\\Desktop\\langgraph_project\\.venv\\Lib\\site-packages\\langgraph\\_internal\\_runnable.py:394\u001b[39m, in \u001b[36mRunnableCallable.invoke\u001b[39m\u001b[34m(self, input, config, **kwargs)\u001b[39m\n\u001b[32m    392\u001b[39m     \u001b[38;5;66;03m# run in context\u001b[39;00m\n\u001b[32m    393\u001b[39m     \u001b[38;5;28;01mwith\u001b[39;00m set_config_context(child_config, run) \u001b[38;5;28;01mas\u001b[39;00m context:\n\u001b[32m--> \u001b[39m\u001b[32m394\u001b[39m         ret = \u001b[43mcontext\u001b[49m\u001b[43m.\u001b[49m\u001b[43mrun\u001b[49m\u001b[43m(\u001b[49m\u001b[38;5;28;43mself\u001b[39;49m\u001b[43m.\u001b[49m\u001b[43mfunc\u001b[49m\u001b[43m,\u001b[49m\u001b[43m \u001b[49m\u001b[43m*\u001b[49m\u001b[43margs\u001b[49m\u001b[43m,\u001b[49m\u001b[43m \u001b[49m\u001b[43m*\u001b[49m\u001b[43m*\u001b[49m\u001b[43mkwargs\u001b[49m\u001b[43m)\u001b[49m\n\u001b[32m    395\u001b[39m \u001b[38;5;28;01mexcept\u001b[39;00m \u001b[38;5;167;01mBaseException\u001b[39;00m \u001b[38;5;28;01mas\u001b[39;00m e:\n\u001b[32m    396\u001b[39m     run_manager.on_chain_error(e)\n",
      "\u001b[36mFile \u001b[39m\u001b[32mc:\\Users\\muham\\Desktop\\langgraph_project\\.venv\\Lib\\site-packages\\langgraph\\prebuilt\\chat_agent_executor.py:627\u001b[39m, in \u001b[36mcreate_react_agent.<locals>.call_model\u001b[39m\u001b[34m(state, runtime, config)\u001b[39m\n\u001b[32m    625\u001b[39m     response = cast(AIMessage, dynamic_model.invoke(model_input, config))  \u001b[38;5;66;03m# type: ignore[arg-type]\u001b[39;00m\n\u001b[32m    626\u001b[39m \u001b[38;5;28;01melse\u001b[39;00m:\n\u001b[32m--> \u001b[39m\u001b[32m627\u001b[39m     response = cast(AIMessage, \u001b[43mstatic_model\u001b[49m\u001b[43m.\u001b[49m\u001b[43minvoke\u001b[49m\u001b[43m(\u001b[49m\u001b[43mmodel_input\u001b[49m\u001b[43m,\u001b[49m\u001b[43m \u001b[49m\u001b[43mconfig\u001b[49m\u001b[43m)\u001b[49m)  \u001b[38;5;66;03m# type: ignore[union-attr]\u001b[39;00m\n\u001b[32m    629\u001b[39m \u001b[38;5;66;03m# add agent name to the AIMessage\u001b[39;00m\n\u001b[32m    630\u001b[39m response.name = name\n",
      "\u001b[36mFile \u001b[39m\u001b[32mc:\\Users\\muham\\Desktop\\langgraph_project\\.venv\\Lib\\site-packages\\langchain_core\\runnables\\base.py:3049\u001b[39m, in \u001b[36mRunnableSequence.invoke\u001b[39m\u001b[34m(self, input, config, **kwargs)\u001b[39m\n\u001b[32m   3047\u001b[39m                 input_ = context.run(step.invoke, input_, config, **kwargs)\n\u001b[32m   3048\u001b[39m             \u001b[38;5;28;01melse\u001b[39;00m:\n\u001b[32m-> \u001b[39m\u001b[32m3049\u001b[39m                 input_ = \u001b[43mcontext\u001b[49m\u001b[43m.\u001b[49m\u001b[43mrun\u001b[49m\u001b[43m(\u001b[49m\u001b[43mstep\u001b[49m\u001b[43m.\u001b[49m\u001b[43minvoke\u001b[49m\u001b[43m,\u001b[49m\u001b[43m \u001b[49m\u001b[43minput_\u001b[49m\u001b[43m,\u001b[49m\u001b[43m \u001b[49m\u001b[43mconfig\u001b[49m\u001b[43m)\u001b[49m\n\u001b[32m   3050\u001b[39m \u001b[38;5;66;03m# finish the root run\u001b[39;00m\n\u001b[32m   3051\u001b[39m \u001b[38;5;28;01mexcept\u001b[39;00m \u001b[38;5;167;01mBaseException\u001b[39;00m \u001b[38;5;28;01mas\u001b[39;00m e:\n",
      "\u001b[36mFile \u001b[39m\u001b[32mc:\\Users\\muham\\Desktop\\langgraph_project\\.venv\\Lib\\site-packages\\langchain_core\\runnables\\base.py:5441\u001b[39m, in \u001b[36mRunnableBindingBase.invoke\u001b[39m\u001b[34m(self, input, config, **kwargs)\u001b[39m\n\u001b[32m   5434\u001b[39m \u001b[38;5;129m@override\u001b[39m\n\u001b[32m   5435\u001b[39m \u001b[38;5;28;01mdef\u001b[39;00m\u001b[38;5;250m \u001b[39m\u001b[34minvoke\u001b[39m(\n\u001b[32m   5436\u001b[39m     \u001b[38;5;28mself\u001b[39m,\n\u001b[32m   (...)\u001b[39m\u001b[32m   5439\u001b[39m     **kwargs: Optional[Any],\n\u001b[32m   5440\u001b[39m ) -> Output:\n\u001b[32m-> \u001b[39m\u001b[32m5441\u001b[39m     \u001b[38;5;28;01mreturn\u001b[39;00m \u001b[38;5;28;43mself\u001b[39;49m\u001b[43m.\u001b[49m\u001b[43mbound\u001b[49m\u001b[43m.\u001b[49m\u001b[43minvoke\u001b[49m\u001b[43m(\u001b[49m\n\u001b[32m   5442\u001b[39m \u001b[43m        \u001b[49m\u001b[38;5;28;43minput\u001b[39;49m\u001b[43m,\u001b[49m\n\u001b[32m   5443\u001b[39m \u001b[43m        \u001b[49m\u001b[38;5;28;43mself\u001b[39;49m\u001b[43m.\u001b[49m\u001b[43m_merge_configs\u001b[49m\u001b[43m(\u001b[49m\u001b[43mconfig\u001b[49m\u001b[43m)\u001b[49m\u001b[43m,\u001b[49m\n\u001b[32m   5444\u001b[39m \u001b[43m        \u001b[49m\u001b[43m*\u001b[49m\u001b[43m*\u001b[49m\u001b[43m{\u001b[49m\u001b[43m*\u001b[49m\u001b[43m*\u001b[49m\u001b[38;5;28;43mself\u001b[39;49m\u001b[43m.\u001b[49m\u001b[43mkwargs\u001b[49m\u001b[43m,\u001b[49m\u001b[43m \u001b[49m\u001b[43m*\u001b[49m\u001b[43m*\u001b[49m\u001b[43mkwargs\u001b[49m\u001b[43m}\u001b[49m\u001b[43m,\u001b[49m\n\u001b[32m   5445\u001b[39m \u001b[43m    \u001b[49m\u001b[43m)\u001b[49m\n",
      "\u001b[36mFile \u001b[39m\u001b[32mc:\\Users\\muham\\Desktop\\langgraph_project\\.venv\\Lib\\site-packages\\langchain_google_genai\\chat_models.py:1488\u001b[39m, in \u001b[36mChatGoogleGenerativeAI.invoke\u001b[39m\u001b[34m(self, input, config, code_execution, stop, **kwargs)\u001b[39m\n\u001b[32m   1483\u001b[39m     \u001b[38;5;28;01melse\u001b[39;00m:\n\u001b[32m   1484\u001b[39m         \u001b[38;5;28;01mraise\u001b[39;00m \u001b[38;5;167;01mValueError\u001b[39;00m(\n\u001b[32m   1485\u001b[39m             \u001b[33m\"\u001b[39m\u001b[33mTools are already defined.code_execution tool can\u001b[39m\u001b[33m'\u001b[39m\u001b[33mt be defined\u001b[39m\u001b[33m\"\u001b[39m\n\u001b[32m   1486\u001b[39m         )\n\u001b[32m-> \u001b[39m\u001b[32m1488\u001b[39m \u001b[38;5;28;01mreturn\u001b[39;00m \u001b[38;5;28;43msuper\u001b[39;49m\u001b[43m(\u001b[49m\u001b[43m)\u001b[49m\u001b[43m.\u001b[49m\u001b[43minvoke\u001b[49m\u001b[43m(\u001b[49m\u001b[38;5;28;43minput\u001b[39;49m\u001b[43m,\u001b[49m\u001b[43m \u001b[49m\u001b[43mconfig\u001b[49m\u001b[43m,\u001b[49m\u001b[43m \u001b[49m\u001b[43mstop\u001b[49m\u001b[43m=\u001b[49m\u001b[43mstop\u001b[49m\u001b[43m,\u001b[49m\u001b[43m \u001b[49m\u001b[43m*\u001b[49m\u001b[43m*\u001b[49m\u001b[43mkwargs\u001b[49m\u001b[43m)\u001b[49m\n",
      "\u001b[36mFile \u001b[39m\u001b[32mc:\\Users\\muham\\Desktop\\langgraph_project\\.venv\\Lib\\site-packages\\langchain_core\\language_models\\chat_models.py:383\u001b[39m, in \u001b[36mBaseChatModel.invoke\u001b[39m\u001b[34m(self, input, config, stop, **kwargs)\u001b[39m\n\u001b[32m    371\u001b[39m \u001b[38;5;129m@override\u001b[39m\n\u001b[32m    372\u001b[39m \u001b[38;5;28;01mdef\u001b[39;00m\u001b[38;5;250m \u001b[39m\u001b[34minvoke\u001b[39m(\n\u001b[32m    373\u001b[39m     \u001b[38;5;28mself\u001b[39m,\n\u001b[32m   (...)\u001b[39m\u001b[32m    378\u001b[39m     **kwargs: Any,\n\u001b[32m    379\u001b[39m ) -> BaseMessage:\n\u001b[32m    380\u001b[39m     config = ensure_config(config)\n\u001b[32m    381\u001b[39m     \u001b[38;5;28;01mreturn\u001b[39;00m cast(\n\u001b[32m    382\u001b[39m         \u001b[33m\"\u001b[39m\u001b[33mChatGeneration\u001b[39m\u001b[33m\"\u001b[39m,\n\u001b[32m--> \u001b[39m\u001b[32m383\u001b[39m         \u001b[38;5;28;43mself\u001b[39;49m\u001b[43m.\u001b[49m\u001b[43mgenerate_prompt\u001b[49m\u001b[43m(\u001b[49m\n\u001b[32m    384\u001b[39m \u001b[43m            \u001b[49m\u001b[43m[\u001b[49m\u001b[38;5;28;43mself\u001b[39;49m\u001b[43m.\u001b[49m\u001b[43m_convert_input\u001b[49m\u001b[43m(\u001b[49m\u001b[38;5;28;43minput\u001b[39;49m\u001b[43m)\u001b[49m\u001b[43m]\u001b[49m\u001b[43m,\u001b[49m\n\u001b[32m    385\u001b[39m \u001b[43m            \u001b[49m\u001b[43mstop\u001b[49m\u001b[43m=\u001b[49m\u001b[43mstop\u001b[49m\u001b[43m,\u001b[49m\n\u001b[32m    386\u001b[39m \u001b[43m            \u001b[49m\u001b[43mcallbacks\u001b[49m\u001b[43m=\u001b[49m\u001b[43mconfig\u001b[49m\u001b[43m.\u001b[49m\u001b[43mget\u001b[49m\u001b[43m(\u001b[49m\u001b[33;43m\"\u001b[39;49m\u001b[33;43mcallbacks\u001b[39;49m\u001b[33;43m\"\u001b[39;49m\u001b[43m)\u001b[49m\u001b[43m,\u001b[49m\n\u001b[32m    387\u001b[39m \u001b[43m            \u001b[49m\u001b[43mtags\u001b[49m\u001b[43m=\u001b[49m\u001b[43mconfig\u001b[49m\u001b[43m.\u001b[49m\u001b[43mget\u001b[49m\u001b[43m(\u001b[49m\u001b[33;43m\"\u001b[39;49m\u001b[33;43mtags\u001b[39;49m\u001b[33;43m\"\u001b[39;49m\u001b[43m)\u001b[49m\u001b[43m,\u001b[49m\n\u001b[32m    388\u001b[39m \u001b[43m            \u001b[49m\u001b[43mmetadata\u001b[49m\u001b[43m=\u001b[49m\u001b[43mconfig\u001b[49m\u001b[43m.\u001b[49m\u001b[43mget\u001b[49m\u001b[43m(\u001b[49m\u001b[33;43m\"\u001b[39;49m\u001b[33;43mmetadata\u001b[39;49m\u001b[33;43m\"\u001b[39;49m\u001b[43m)\u001b[49m\u001b[43m,\u001b[49m\n\u001b[32m    389\u001b[39m \u001b[43m            \u001b[49m\u001b[43mrun_name\u001b[49m\u001b[43m=\u001b[49m\u001b[43mconfig\u001b[49m\u001b[43m.\u001b[49m\u001b[43mget\u001b[49m\u001b[43m(\u001b[49m\u001b[33;43m\"\u001b[39;49m\u001b[33;43mrun_name\u001b[39;49m\u001b[33;43m\"\u001b[39;49m\u001b[43m)\u001b[49m\u001b[43m,\u001b[49m\n\u001b[32m    390\u001b[39m \u001b[43m            \u001b[49m\u001b[43mrun_id\u001b[49m\u001b[43m=\u001b[49m\u001b[43mconfig\u001b[49m\u001b[43m.\u001b[49m\u001b[43mpop\u001b[49m\u001b[43m(\u001b[49m\u001b[33;43m\"\u001b[39;49m\u001b[33;43mrun_id\u001b[39;49m\u001b[33;43m\"\u001b[39;49m\u001b[43m,\u001b[49m\u001b[43m \u001b[49m\u001b[38;5;28;43;01mNone\u001b[39;49;00m\u001b[43m)\u001b[49m\u001b[43m,\u001b[49m\n\u001b[32m    391\u001b[39m \u001b[43m            \u001b[49m\u001b[43m*\u001b[49m\u001b[43m*\u001b[49m\u001b[43mkwargs\u001b[49m\u001b[43m,\u001b[49m\n\u001b[32m    392\u001b[39m \u001b[43m        \u001b[49m\u001b[43m)\u001b[49m.generations[\u001b[32m0\u001b[39m][\u001b[32m0\u001b[39m],\n\u001b[32m    393\u001b[39m     ).message\n",
      "\u001b[36mFile \u001b[39m\u001b[32mc:\\Users\\muham\\Desktop\\langgraph_project\\.venv\\Lib\\site-packages\\langchain_core\\language_models\\chat_models.py:1006\u001b[39m, in \u001b[36mBaseChatModel.generate_prompt\u001b[39m\u001b[34m(self, prompts, stop, callbacks, **kwargs)\u001b[39m\n\u001b[32m    997\u001b[39m \u001b[38;5;129m@override\u001b[39m\n\u001b[32m    998\u001b[39m \u001b[38;5;28;01mdef\u001b[39;00m\u001b[38;5;250m \u001b[39m\u001b[34mgenerate_prompt\u001b[39m(\n\u001b[32m    999\u001b[39m     \u001b[38;5;28mself\u001b[39m,\n\u001b[32m   (...)\u001b[39m\u001b[32m   1003\u001b[39m     **kwargs: Any,\n\u001b[32m   1004\u001b[39m ) -> LLMResult:\n\u001b[32m   1005\u001b[39m     prompt_messages = [p.to_messages() \u001b[38;5;28;01mfor\u001b[39;00m p \u001b[38;5;129;01min\u001b[39;00m prompts]\n\u001b[32m-> \u001b[39m\u001b[32m1006\u001b[39m     \u001b[38;5;28;01mreturn\u001b[39;00m \u001b[38;5;28;43mself\u001b[39;49m\u001b[43m.\u001b[49m\u001b[43mgenerate\u001b[49m\u001b[43m(\u001b[49m\u001b[43mprompt_messages\u001b[49m\u001b[43m,\u001b[49m\u001b[43m \u001b[49m\u001b[43mstop\u001b[49m\u001b[43m=\u001b[49m\u001b[43mstop\u001b[49m\u001b[43m,\u001b[49m\u001b[43m \u001b[49m\u001b[43mcallbacks\u001b[49m\u001b[43m=\u001b[49m\u001b[43mcallbacks\u001b[49m\u001b[43m,\u001b[49m\u001b[43m \u001b[49m\u001b[43m*\u001b[49m\u001b[43m*\u001b[49m\u001b[43mkwargs\u001b[49m\u001b[43m)\u001b[49m\n",
      "\u001b[36mFile \u001b[39m\u001b[32mc:\\Users\\muham\\Desktop\\langgraph_project\\.venv\\Lib\\site-packages\\langchain_core\\language_models\\chat_models.py:825\u001b[39m, in \u001b[36mBaseChatModel.generate\u001b[39m\u001b[34m(self, messages, stop, callbacks, tags, metadata, run_name, run_id, **kwargs)\u001b[39m\n\u001b[32m    822\u001b[39m \u001b[38;5;28;01mfor\u001b[39;00m i, m \u001b[38;5;129;01min\u001b[39;00m \u001b[38;5;28menumerate\u001b[39m(input_messages):\n\u001b[32m    823\u001b[39m     \u001b[38;5;28;01mtry\u001b[39;00m:\n\u001b[32m    824\u001b[39m         results.append(\n\u001b[32m--> \u001b[39m\u001b[32m825\u001b[39m             \u001b[38;5;28;43mself\u001b[39;49m\u001b[43m.\u001b[49m\u001b[43m_generate_with_cache\u001b[49m\u001b[43m(\u001b[49m\n\u001b[32m    826\u001b[39m \u001b[43m                \u001b[49m\u001b[43mm\u001b[49m\u001b[43m,\u001b[49m\n\u001b[32m    827\u001b[39m \u001b[43m                \u001b[49m\u001b[43mstop\u001b[49m\u001b[43m=\u001b[49m\u001b[43mstop\u001b[49m\u001b[43m,\u001b[49m\n\u001b[32m    828\u001b[39m \u001b[43m                \u001b[49m\u001b[43mrun_manager\u001b[49m\u001b[43m=\u001b[49m\u001b[43mrun_managers\u001b[49m\u001b[43m[\u001b[49m\u001b[43mi\u001b[49m\u001b[43m]\u001b[49m\u001b[43m \u001b[49m\u001b[38;5;28;43;01mif\u001b[39;49;00m\u001b[43m \u001b[49m\u001b[43mrun_managers\u001b[49m\u001b[43m \u001b[49m\u001b[38;5;28;43;01melse\u001b[39;49;00m\u001b[43m \u001b[49m\u001b[38;5;28;43;01mNone\u001b[39;49;00m\u001b[43m,\u001b[49m\n\u001b[32m    829\u001b[39m \u001b[43m                \u001b[49m\u001b[43m*\u001b[49m\u001b[43m*\u001b[49m\u001b[43mkwargs\u001b[49m\u001b[43m,\u001b[49m\n\u001b[32m    830\u001b[39m \u001b[43m            \u001b[49m\u001b[43m)\u001b[49m\n\u001b[32m    831\u001b[39m         )\n\u001b[32m    832\u001b[39m     \u001b[38;5;28;01mexcept\u001b[39;00m \u001b[38;5;167;01mBaseException\u001b[39;00m \u001b[38;5;28;01mas\u001b[39;00m e:\n\u001b[32m    833\u001b[39m         \u001b[38;5;28;01mif\u001b[39;00m run_managers:\n",
      "\u001b[36mFile \u001b[39m\u001b[32mc:\\Users\\muham\\Desktop\\langgraph_project\\.venv\\Lib\\site-packages\\langchain_core\\language_models\\chat_models.py:1072\u001b[39m, in \u001b[36mBaseChatModel._generate_with_cache\u001b[39m\u001b[34m(self, messages, stop, run_manager, **kwargs)\u001b[39m\n\u001b[32m   1070\u001b[39m     result = generate_from_stream(\u001b[38;5;28miter\u001b[39m(chunks))\n\u001b[32m   1071\u001b[39m \u001b[38;5;28;01melif\u001b[39;00m inspect.signature(\u001b[38;5;28mself\u001b[39m._generate).parameters.get(\u001b[33m\"\u001b[39m\u001b[33mrun_manager\u001b[39m\u001b[33m\"\u001b[39m):\n\u001b[32m-> \u001b[39m\u001b[32m1072\u001b[39m     result = \u001b[38;5;28;43mself\u001b[39;49m\u001b[43m.\u001b[49m\u001b[43m_generate\u001b[49m\u001b[43m(\u001b[49m\n\u001b[32m   1073\u001b[39m \u001b[43m        \u001b[49m\u001b[43mmessages\u001b[49m\u001b[43m,\u001b[49m\u001b[43m \u001b[49m\u001b[43mstop\u001b[49m\u001b[43m=\u001b[49m\u001b[43mstop\u001b[49m\u001b[43m,\u001b[49m\u001b[43m \u001b[49m\u001b[43mrun_manager\u001b[49m\u001b[43m=\u001b[49m\u001b[43mrun_manager\u001b[49m\u001b[43m,\u001b[49m\u001b[43m \u001b[49m\u001b[43m*\u001b[49m\u001b[43m*\u001b[49m\u001b[43mkwargs\u001b[49m\n\u001b[32m   1074\u001b[39m \u001b[43m    \u001b[49m\u001b[43m)\u001b[49m\n\u001b[32m   1075\u001b[39m \u001b[38;5;28;01melse\u001b[39;00m:\n\u001b[32m   1076\u001b[39m     result = \u001b[38;5;28mself\u001b[39m._generate(messages, stop=stop, **kwargs)\n",
      "\u001b[36mFile \u001b[39m\u001b[32mc:\\Users\\muham\\Desktop\\langgraph_project\\.venv\\Lib\\site-packages\\langchain_google_genai\\chat_models.py:1595\u001b[39m, in \u001b[36mChatGoogleGenerativeAI._generate\u001b[39m\u001b[34m(self, messages, stop, run_manager, tools, functions, safety_settings, tool_config, generation_config, cached_content, tool_choice, **kwargs)\u001b[39m\n\u001b[32m   1568\u001b[39m \u001b[38;5;28;01mdef\u001b[39;00m\u001b[38;5;250m \u001b[39m\u001b[34m_generate\u001b[39m(\n\u001b[32m   1569\u001b[39m     \u001b[38;5;28mself\u001b[39m,\n\u001b[32m   1570\u001b[39m     messages: List[BaseMessage],\n\u001b[32m   (...)\u001b[39m\u001b[32m   1581\u001b[39m     **kwargs: Any,\n\u001b[32m   1582\u001b[39m ) -> ChatResult:\n\u001b[32m   1583\u001b[39m     request = \u001b[38;5;28mself\u001b[39m._prepare_request(\n\u001b[32m   1584\u001b[39m         messages,\n\u001b[32m   1585\u001b[39m         stop=stop,\n\u001b[32m   (...)\u001b[39m\u001b[32m   1593\u001b[39m         **kwargs,\n\u001b[32m   1594\u001b[39m     )\n\u001b[32m-> \u001b[39m\u001b[32m1595\u001b[39m     response: GenerateContentResponse = \u001b[43m_chat_with_retry\u001b[49m\u001b[43m(\u001b[49m\n\u001b[32m   1596\u001b[39m \u001b[43m        \u001b[49m\u001b[43mrequest\u001b[49m\u001b[43m=\u001b[49m\u001b[43mrequest\u001b[49m\u001b[43m,\u001b[49m\n\u001b[32m   1597\u001b[39m \u001b[43m        \u001b[49m\u001b[43m*\u001b[49m\u001b[43m*\u001b[49m\u001b[43mkwargs\u001b[49m\u001b[43m,\u001b[49m\n\u001b[32m   1598\u001b[39m \u001b[43m        \u001b[49m\u001b[43mgeneration_method\u001b[49m\u001b[43m=\u001b[49m\u001b[38;5;28;43mself\u001b[39;49m\u001b[43m.\u001b[49m\u001b[43mclient\u001b[49m\u001b[43m.\u001b[49m\u001b[43mgenerate_content\u001b[49m\u001b[43m,\u001b[49m\n\u001b[32m   1599\u001b[39m \u001b[43m        \u001b[49m\u001b[43mmetadata\u001b[49m\u001b[43m=\u001b[49m\u001b[38;5;28;43mself\u001b[39;49m\u001b[43m.\u001b[49m\u001b[43mdefault_metadata\u001b[49m\u001b[43m,\u001b[49m\n\u001b[32m   1600\u001b[39m \u001b[43m    \u001b[49m\u001b[43m)\u001b[49m\n\u001b[32m   1601\u001b[39m     \u001b[38;5;28;01mreturn\u001b[39;00m _response_to_result(response)\n",
      "\u001b[36mFile \u001b[39m\u001b[32mc:\\Users\\muham\\Desktop\\langgraph_project\\.venv\\Lib\\site-packages\\langchain_google_genai\\chat_models.py:247\u001b[39m, in \u001b[36m_chat_with_retry\u001b[39m\u001b[34m(generation_method, **kwargs)\u001b[39m\n\u001b[32m    238\u001b[39m         \u001b[38;5;28;01mraise\u001b[39;00m e\n\u001b[32m    240\u001b[39m params = (\n\u001b[32m    241\u001b[39m     {k: v \u001b[38;5;28;01mfor\u001b[39;00m k, v \u001b[38;5;129;01min\u001b[39;00m kwargs.items() \u001b[38;5;28;01mif\u001b[39;00m k \u001b[38;5;129;01min\u001b[39;00m _allowed_params_prediction_service}\n\u001b[32m    242\u001b[39m     \u001b[38;5;28;01mif\u001b[39;00m (request := kwargs.get(\u001b[33m\"\u001b[39m\u001b[33mrequest\u001b[39m\u001b[33m\"\u001b[39m))\n\u001b[32m   (...)\u001b[39m\u001b[32m    245\u001b[39m     \u001b[38;5;28;01melse\u001b[39;00m kwargs\n\u001b[32m    246\u001b[39m )\n\u001b[32m--> \u001b[39m\u001b[32m247\u001b[39m \u001b[38;5;28;01mreturn\u001b[39;00m \u001b[43m_chat_with_retry\u001b[49m\u001b[43m(\u001b[49m\u001b[43m*\u001b[49m\u001b[43m*\u001b[49m\u001b[43mparams\u001b[49m\u001b[43m)\u001b[49m\n",
      "\u001b[36mFile \u001b[39m\u001b[32mc:\\Users\\muham\\Desktop\\langgraph_project\\.venv\\Lib\\site-packages\\tenacity\\__init__.py:338\u001b[39m, in \u001b[36mBaseRetrying.wraps.<locals>.wrapped_f\u001b[39m\u001b[34m(*args, **kw)\u001b[39m\n\u001b[32m    336\u001b[39m copy = \u001b[38;5;28mself\u001b[39m.copy()\n\u001b[32m    337\u001b[39m wrapped_f.statistics = copy.statistics  \u001b[38;5;66;03m# type: ignore[attr-defined]\u001b[39;00m\n\u001b[32m--> \u001b[39m\u001b[32m338\u001b[39m \u001b[38;5;28;01mreturn\u001b[39;00m \u001b[43mcopy\u001b[49m\u001b[43m(\u001b[49m\u001b[43mf\u001b[49m\u001b[43m,\u001b[49m\u001b[43m \u001b[49m\u001b[43m*\u001b[49m\u001b[43margs\u001b[49m\u001b[43m,\u001b[49m\u001b[43m \u001b[49m\u001b[43m*\u001b[49m\u001b[43m*\u001b[49m\u001b[43mkw\u001b[49m\u001b[43m)\u001b[49m\n",
      "\u001b[36mFile \u001b[39m\u001b[32mc:\\Users\\muham\\Desktop\\langgraph_project\\.venv\\Lib\\site-packages\\tenacity\\__init__.py:477\u001b[39m, in \u001b[36mRetrying.__call__\u001b[39m\u001b[34m(self, fn, *args, **kwargs)\u001b[39m\n\u001b[32m    475\u001b[39m retry_state = RetryCallState(retry_object=\u001b[38;5;28mself\u001b[39m, fn=fn, args=args, kwargs=kwargs)\n\u001b[32m    476\u001b[39m \u001b[38;5;28;01mwhile\u001b[39;00m \u001b[38;5;28;01mTrue\u001b[39;00m:\n\u001b[32m--> \u001b[39m\u001b[32m477\u001b[39m     do = \u001b[38;5;28;43mself\u001b[39;49m\u001b[43m.\u001b[49m\u001b[43miter\u001b[49m\u001b[43m(\u001b[49m\u001b[43mretry_state\u001b[49m\u001b[43m=\u001b[49m\u001b[43mretry_state\u001b[49m\u001b[43m)\u001b[49m\n\u001b[32m    478\u001b[39m     \u001b[38;5;28;01mif\u001b[39;00m \u001b[38;5;28misinstance\u001b[39m(do, DoAttempt):\n\u001b[32m    479\u001b[39m         \u001b[38;5;28;01mtry\u001b[39;00m:\n",
      "\u001b[36mFile \u001b[39m\u001b[32mc:\\Users\\muham\\Desktop\\langgraph_project\\.venv\\Lib\\site-packages\\tenacity\\__init__.py:378\u001b[39m, in \u001b[36mBaseRetrying.iter\u001b[39m\u001b[34m(self, retry_state)\u001b[39m\n\u001b[32m    376\u001b[39m result = \u001b[38;5;28;01mNone\u001b[39;00m\n\u001b[32m    377\u001b[39m \u001b[38;5;28;01mfor\u001b[39;00m action \u001b[38;5;129;01min\u001b[39;00m \u001b[38;5;28mself\u001b[39m.iter_state.actions:\n\u001b[32m--> \u001b[39m\u001b[32m378\u001b[39m     result = \u001b[43maction\u001b[49m\u001b[43m(\u001b[49m\u001b[43mretry_state\u001b[49m\u001b[43m)\u001b[49m\n\u001b[32m    379\u001b[39m \u001b[38;5;28;01mreturn\u001b[39;00m result\n",
      "\u001b[36mFile \u001b[39m\u001b[32mc:\\Users\\muham\\Desktop\\langgraph_project\\.venv\\Lib\\site-packages\\tenacity\\__init__.py:400\u001b[39m, in \u001b[36mBaseRetrying._post_retry_check_actions.<locals>.<lambda>\u001b[39m\u001b[34m(rs)\u001b[39m\n\u001b[32m    398\u001b[39m \u001b[38;5;28;01mdef\u001b[39;00m\u001b[38;5;250m \u001b[39m\u001b[34m_post_retry_check_actions\u001b[39m(\u001b[38;5;28mself\u001b[39m, retry_state: \u001b[33m\"\u001b[39m\u001b[33mRetryCallState\u001b[39m\u001b[33m\"\u001b[39m) -> \u001b[38;5;28;01mNone\u001b[39;00m:\n\u001b[32m    399\u001b[39m     \u001b[38;5;28;01mif\u001b[39;00m \u001b[38;5;129;01mnot\u001b[39;00m (\u001b[38;5;28mself\u001b[39m.iter_state.is_explicit_retry \u001b[38;5;129;01mor\u001b[39;00m \u001b[38;5;28mself\u001b[39m.iter_state.retry_run_result):\n\u001b[32m--> \u001b[39m\u001b[32m400\u001b[39m         \u001b[38;5;28mself\u001b[39m._add_action_func(\u001b[38;5;28;01mlambda\u001b[39;00m rs: \u001b[43mrs\u001b[49m\u001b[43m.\u001b[49m\u001b[43moutcome\u001b[49m\u001b[43m.\u001b[49m\u001b[43mresult\u001b[49m\u001b[43m(\u001b[49m\u001b[43m)\u001b[49m)\n\u001b[32m    401\u001b[39m         \u001b[38;5;28;01mreturn\u001b[39;00m\n\u001b[32m    403\u001b[39m     \u001b[38;5;28;01mif\u001b[39;00m \u001b[38;5;28mself\u001b[39m.after \u001b[38;5;129;01mis\u001b[39;00m \u001b[38;5;129;01mnot\u001b[39;00m \u001b[38;5;28;01mNone\u001b[39;00m:\n",
      "\u001b[36mFile \u001b[39m\u001b[32mC:\\Python313\\Lib\\concurrent\\futures\\_base.py:449\u001b[39m, in \u001b[36mFuture.result\u001b[39m\u001b[34m(self, timeout)\u001b[39m\n\u001b[32m    447\u001b[39m     \u001b[38;5;28;01mraise\u001b[39;00m CancelledError()\n\u001b[32m    448\u001b[39m \u001b[38;5;28;01melif\u001b[39;00m \u001b[38;5;28mself\u001b[39m._state == FINISHED:\n\u001b[32m--> \u001b[39m\u001b[32m449\u001b[39m     \u001b[38;5;28;01mreturn\u001b[39;00m \u001b[38;5;28;43mself\u001b[39;49m\u001b[43m.\u001b[49m\u001b[43m__get_result\u001b[49m\u001b[43m(\u001b[49m\u001b[43m)\u001b[49m\n\u001b[32m    451\u001b[39m \u001b[38;5;28mself\u001b[39m._condition.wait(timeout)\n\u001b[32m    453\u001b[39m \u001b[38;5;28;01mif\u001b[39;00m \u001b[38;5;28mself\u001b[39m._state \u001b[38;5;129;01min\u001b[39;00m [CANCELLED, CANCELLED_AND_NOTIFIED]:\n",
      "\u001b[36mFile \u001b[39m\u001b[32mC:\\Python313\\Lib\\concurrent\\futures\\_base.py:401\u001b[39m, in \u001b[36mFuture.__get_result\u001b[39m\u001b[34m(self)\u001b[39m\n\u001b[32m    399\u001b[39m \u001b[38;5;28;01mif\u001b[39;00m \u001b[38;5;28mself\u001b[39m._exception:\n\u001b[32m    400\u001b[39m     \u001b[38;5;28;01mtry\u001b[39;00m:\n\u001b[32m--> \u001b[39m\u001b[32m401\u001b[39m         \u001b[38;5;28;01mraise\u001b[39;00m \u001b[38;5;28mself\u001b[39m._exception\n\u001b[32m    402\u001b[39m     \u001b[38;5;28;01mfinally\u001b[39;00m:\n\u001b[32m    403\u001b[39m         \u001b[38;5;66;03m# Break a reference cycle with the exception in self._exception\u001b[39;00m\n\u001b[32m    404\u001b[39m         \u001b[38;5;28mself\u001b[39m = \u001b[38;5;28;01mNone\u001b[39;00m\n",
      "\u001b[36mFile \u001b[39m\u001b[32mc:\\Users\\muham\\Desktop\\langgraph_project\\.venv\\Lib\\site-packages\\tenacity\\__init__.py:480\u001b[39m, in \u001b[36mRetrying.__call__\u001b[39m\u001b[34m(self, fn, *args, **kwargs)\u001b[39m\n\u001b[32m    478\u001b[39m \u001b[38;5;28;01mif\u001b[39;00m \u001b[38;5;28misinstance\u001b[39m(do, DoAttempt):\n\u001b[32m    479\u001b[39m     \u001b[38;5;28;01mtry\u001b[39;00m:\n\u001b[32m--> \u001b[39m\u001b[32m480\u001b[39m         result = \u001b[43mfn\u001b[49m\u001b[43m(\u001b[49m\u001b[43m*\u001b[49m\u001b[43margs\u001b[49m\u001b[43m,\u001b[49m\u001b[43m \u001b[49m\u001b[43m*\u001b[49m\u001b[43m*\u001b[49m\u001b[43mkwargs\u001b[49m\u001b[43m)\u001b[49m\n\u001b[32m    481\u001b[39m     \u001b[38;5;28;01mexcept\u001b[39;00m \u001b[38;5;167;01mBaseException\u001b[39;00m:  \u001b[38;5;66;03m# noqa: B902\u001b[39;00m\n\u001b[32m    482\u001b[39m         retry_state.set_exception(sys.exc_info())  \u001b[38;5;66;03m# type: ignore[arg-type]\u001b[39;00m\n",
      "\u001b[36mFile \u001b[39m\u001b[32mc:\\Users\\muham\\Desktop\\langgraph_project\\.venv\\Lib\\site-packages\\langchain_google_genai\\chat_models.py:216\u001b[39m, in \u001b[36m_chat_with_retry.<locals>._chat_with_retry\u001b[39m\u001b[34m(**kwargs)\u001b[39m\n\u001b[32m    213\u001b[39m \u001b[38;5;129m@retry_decorator\u001b[39m\n\u001b[32m    214\u001b[39m \u001b[38;5;28;01mdef\u001b[39;00m\u001b[38;5;250m \u001b[39m\u001b[34m_chat_with_retry\u001b[39m(**kwargs: Any) -> Any:\n\u001b[32m    215\u001b[39m     \u001b[38;5;28;01mtry\u001b[39;00m:\n\u001b[32m--> \u001b[39m\u001b[32m216\u001b[39m         \u001b[38;5;28;01mreturn\u001b[39;00m \u001b[43mgeneration_method\u001b[49m\u001b[43m(\u001b[49m\u001b[43m*\u001b[49m\u001b[43m*\u001b[49m\u001b[43mkwargs\u001b[49m\u001b[43m)\u001b[49m\n\u001b[32m    217\u001b[39m     \u001b[38;5;28;01mexcept\u001b[39;00m google.api_core.exceptions.FailedPrecondition \u001b[38;5;28;01mas\u001b[39;00m exc:\n\u001b[32m    218\u001b[39m         \u001b[38;5;28;01mif\u001b[39;00m \u001b[33m\"\u001b[39m\u001b[33mlocation is not supported\u001b[39m\u001b[33m\"\u001b[39m \u001b[38;5;129;01min\u001b[39;00m exc.message:\n",
      "\u001b[36mFile \u001b[39m\u001b[32mc:\\Users\\muham\\Desktop\\langgraph_project\\.venv\\Lib\\site-packages\\google\\ai\\generativelanguage_v1beta\\services\\generative_service\\client.py:868\u001b[39m, in \u001b[36mGenerativeServiceClient.generate_content\u001b[39m\u001b[34m(self, request, model, contents, retry, timeout, metadata)\u001b[39m\n\u001b[32m    865\u001b[39m \u001b[38;5;28mself\u001b[39m._validate_universe_domain()\n\u001b[32m    867\u001b[39m \u001b[38;5;66;03m# Send the request.\u001b[39;00m\n\u001b[32m--> \u001b[39m\u001b[32m868\u001b[39m response = \u001b[43mrpc\u001b[49m\u001b[43m(\u001b[49m\n\u001b[32m    869\u001b[39m \u001b[43m    \u001b[49m\u001b[43mrequest\u001b[49m\u001b[43m,\u001b[49m\n\u001b[32m    870\u001b[39m \u001b[43m    \u001b[49m\u001b[43mretry\u001b[49m\u001b[43m=\u001b[49m\u001b[43mretry\u001b[49m\u001b[43m,\u001b[49m\n\u001b[32m    871\u001b[39m \u001b[43m    \u001b[49m\u001b[43mtimeout\u001b[49m\u001b[43m=\u001b[49m\u001b[43mtimeout\u001b[49m\u001b[43m,\u001b[49m\n\u001b[32m    872\u001b[39m \u001b[43m    \u001b[49m\u001b[43mmetadata\u001b[49m\u001b[43m=\u001b[49m\u001b[43mmetadata\u001b[49m\u001b[43m,\u001b[49m\n\u001b[32m    873\u001b[39m \u001b[43m\u001b[49m\u001b[43m)\u001b[49m\n\u001b[32m    875\u001b[39m \u001b[38;5;66;03m# Done; return the response.\u001b[39;00m\n\u001b[32m    876\u001b[39m \u001b[38;5;28;01mreturn\u001b[39;00m response\n",
      "\u001b[36mFile \u001b[39m\u001b[32mc:\\Users\\muham\\Desktop\\langgraph_project\\.venv\\Lib\\site-packages\\google\\api_core\\gapic_v1\\method.py:131\u001b[39m, in \u001b[36m_GapicCallable.__call__\u001b[39m\u001b[34m(self, timeout, retry, compression, *args, **kwargs)\u001b[39m\n\u001b[32m    128\u001b[39m \u001b[38;5;28;01mif\u001b[39;00m \u001b[38;5;28mself\u001b[39m._compression \u001b[38;5;129;01mis\u001b[39;00m \u001b[38;5;129;01mnot\u001b[39;00m \u001b[38;5;28;01mNone\u001b[39;00m:\n\u001b[32m    129\u001b[39m     kwargs[\u001b[33m\"\u001b[39m\u001b[33mcompression\u001b[39m\u001b[33m\"\u001b[39m] = compression\n\u001b[32m--> \u001b[39m\u001b[32m131\u001b[39m \u001b[38;5;28;01mreturn\u001b[39;00m \u001b[43mwrapped_func\u001b[49m\u001b[43m(\u001b[49m\u001b[43m*\u001b[49m\u001b[43margs\u001b[49m\u001b[43m,\u001b[49m\u001b[43m \u001b[49m\u001b[43m*\u001b[49m\u001b[43m*\u001b[49m\u001b[43mkwargs\u001b[49m\u001b[43m)\u001b[49m\n",
      "\u001b[36mFile \u001b[39m\u001b[32mc:\\Users\\muham\\Desktop\\langgraph_project\\.venv\\Lib\\site-packages\\google\\api_core\\retry\\retry_unary.py:294\u001b[39m, in \u001b[36mRetry.__call__.<locals>.retry_wrapped_func\u001b[39m\u001b[34m(*args, **kwargs)\u001b[39m\n\u001b[32m    290\u001b[39m target = functools.partial(func, *args, **kwargs)\n\u001b[32m    291\u001b[39m sleep_generator = exponential_sleep_generator(\n\u001b[32m    292\u001b[39m     \u001b[38;5;28mself\u001b[39m._initial, \u001b[38;5;28mself\u001b[39m._maximum, multiplier=\u001b[38;5;28mself\u001b[39m._multiplier\n\u001b[32m    293\u001b[39m )\n\u001b[32m--> \u001b[39m\u001b[32m294\u001b[39m \u001b[38;5;28;01mreturn\u001b[39;00m \u001b[43mretry_target\u001b[49m\u001b[43m(\u001b[49m\n\u001b[32m    295\u001b[39m \u001b[43m    \u001b[49m\u001b[43mtarget\u001b[49m\u001b[43m,\u001b[49m\n\u001b[32m    296\u001b[39m \u001b[43m    \u001b[49m\u001b[38;5;28;43mself\u001b[39;49m\u001b[43m.\u001b[49m\u001b[43m_predicate\u001b[49m\u001b[43m,\u001b[49m\n\u001b[32m    297\u001b[39m \u001b[43m    \u001b[49m\u001b[43msleep_generator\u001b[49m\u001b[43m,\u001b[49m\n\u001b[32m    298\u001b[39m \u001b[43m    \u001b[49m\u001b[43mtimeout\u001b[49m\u001b[43m=\u001b[49m\u001b[38;5;28;43mself\u001b[39;49m\u001b[43m.\u001b[49m\u001b[43m_timeout\u001b[49m\u001b[43m,\u001b[49m\n\u001b[32m    299\u001b[39m \u001b[43m    \u001b[49m\u001b[43mon_error\u001b[49m\u001b[43m=\u001b[49m\u001b[43mon_error\u001b[49m\u001b[43m,\u001b[49m\n\u001b[32m    300\u001b[39m \u001b[43m\u001b[49m\u001b[43m)\u001b[49m\n",
      "\u001b[36mFile \u001b[39m\u001b[32mc:\\Users\\muham\\Desktop\\langgraph_project\\.venv\\Lib\\site-packages\\google\\api_core\\retry\\retry_unary.py:147\u001b[39m, in \u001b[36mretry_target\u001b[39m\u001b[34m(target, predicate, sleep_generator, timeout, on_error, exception_factory, **kwargs)\u001b[39m\n\u001b[32m    145\u001b[39m \u001b[38;5;28;01mwhile\u001b[39;00m \u001b[38;5;28;01mTrue\u001b[39;00m:\n\u001b[32m    146\u001b[39m     \u001b[38;5;28;01mtry\u001b[39;00m:\n\u001b[32m--> \u001b[39m\u001b[32m147\u001b[39m         result = \u001b[43mtarget\u001b[49m\u001b[43m(\u001b[49m\u001b[43m)\u001b[49m\n\u001b[32m    148\u001b[39m         \u001b[38;5;28;01mif\u001b[39;00m inspect.isawaitable(result):\n\u001b[32m    149\u001b[39m             warnings.warn(_ASYNC_RETRY_WARNING)\n",
      "\u001b[36mFile \u001b[39m\u001b[32mc:\\Users\\muham\\Desktop\\langgraph_project\\.venv\\Lib\\site-packages\\google\\api_core\\timeout.py:130\u001b[39m, in \u001b[36mTimeToDeadlineTimeout.__call__.<locals>.func_with_timeout\u001b[39m\u001b[34m(*args, **kwargs)\u001b[39m\n\u001b[32m    126\u001b[39m         remaining_timeout = \u001b[38;5;28mself\u001b[39m._timeout\n\u001b[32m    128\u001b[39m     kwargs[\u001b[33m\"\u001b[39m\u001b[33mtimeout\u001b[39m\u001b[33m\"\u001b[39m] = remaining_timeout\n\u001b[32m--> \u001b[39m\u001b[32m130\u001b[39m \u001b[38;5;28;01mreturn\u001b[39;00m \u001b[43mfunc\u001b[49m\u001b[43m(\u001b[49m\u001b[43m*\u001b[49m\u001b[43margs\u001b[49m\u001b[43m,\u001b[49m\u001b[43m \u001b[49m\u001b[43m*\u001b[49m\u001b[43m*\u001b[49m\u001b[43mkwargs\u001b[49m\u001b[43m)\u001b[49m\n",
      "\u001b[36mFile \u001b[39m\u001b[32mc:\\Users\\muham\\Desktop\\langgraph_project\\.venv\\Lib\\site-packages\\google\\api_core\\grpc_helpers.py:76\u001b[39m, in \u001b[36m_wrap_unary_errors.<locals>.error_remapped_callable\u001b[39m\u001b[34m(*args, **kwargs)\u001b[39m\n\u001b[32m     73\u001b[39m \u001b[38;5;129m@functools\u001b[39m.wraps(callable_)\n\u001b[32m     74\u001b[39m \u001b[38;5;28;01mdef\u001b[39;00m\u001b[38;5;250m \u001b[39m\u001b[34merror_remapped_callable\u001b[39m(*args, **kwargs):\n\u001b[32m     75\u001b[39m     \u001b[38;5;28;01mtry\u001b[39;00m:\n\u001b[32m---> \u001b[39m\u001b[32m76\u001b[39m         \u001b[38;5;28;01mreturn\u001b[39;00m \u001b[43mcallable_\u001b[49m\u001b[43m(\u001b[49m\u001b[43m*\u001b[49m\u001b[43margs\u001b[49m\u001b[43m,\u001b[49m\u001b[43m \u001b[49m\u001b[43m*\u001b[49m\u001b[43m*\u001b[49m\u001b[43mkwargs\u001b[49m\u001b[43m)\u001b[49m\n\u001b[32m     77\u001b[39m     \u001b[38;5;28;01mexcept\u001b[39;00m grpc.RpcError \u001b[38;5;28;01mas\u001b[39;00m exc:\n\u001b[32m     78\u001b[39m         \u001b[38;5;28;01mraise\u001b[39;00m exceptions.from_grpc_error(exc) \u001b[38;5;28;01mfrom\u001b[39;00m\u001b[38;5;250m \u001b[39m\u001b[34;01mexc\u001b[39;00m\n",
      "\u001b[36mFile \u001b[39m\u001b[32mc:\\Users\\muham\\Desktop\\langgraph_project\\.venv\\Lib\\site-packages\\grpc\\_interceptor.py:277\u001b[39m, in \u001b[36m_UnaryUnaryMultiCallable.__call__\u001b[39m\u001b[34m(self, request, timeout, metadata, credentials, wait_for_ready, compression)\u001b[39m\n\u001b[32m    268\u001b[39m \u001b[38;5;28;01mdef\u001b[39;00m\u001b[38;5;250m \u001b[39m\u001b[34m__call__\u001b[39m(\n\u001b[32m    269\u001b[39m     \u001b[38;5;28mself\u001b[39m,\n\u001b[32m    270\u001b[39m     request: Any,\n\u001b[32m   (...)\u001b[39m\u001b[32m    275\u001b[39m     compression: Optional[grpc.Compression] = \u001b[38;5;28;01mNone\u001b[39;00m,\n\u001b[32m    276\u001b[39m ) -> Any:\n\u001b[32m--> \u001b[39m\u001b[32m277\u001b[39m     response, ignored_call = \u001b[38;5;28;43mself\u001b[39;49m\u001b[43m.\u001b[49m\u001b[43m_with_call\u001b[49m\u001b[43m(\u001b[49m\n\u001b[32m    278\u001b[39m \u001b[43m        \u001b[49m\u001b[43mrequest\u001b[49m\u001b[43m,\u001b[49m\n\u001b[32m    279\u001b[39m \u001b[43m        \u001b[49m\u001b[43mtimeout\u001b[49m\u001b[43m=\u001b[49m\u001b[43mtimeout\u001b[49m\u001b[43m,\u001b[49m\n\u001b[32m    280\u001b[39m \u001b[43m        \u001b[49m\u001b[43mmetadata\u001b[49m\u001b[43m=\u001b[49m\u001b[43mmetadata\u001b[49m\u001b[43m,\u001b[49m\n\u001b[32m    281\u001b[39m \u001b[43m        \u001b[49m\u001b[43mcredentials\u001b[49m\u001b[43m=\u001b[49m\u001b[43mcredentials\u001b[49m\u001b[43m,\u001b[49m\n\u001b[32m    282\u001b[39m \u001b[43m        \u001b[49m\u001b[43mwait_for_ready\u001b[49m\u001b[43m=\u001b[49m\u001b[43mwait_for_ready\u001b[49m\u001b[43m,\u001b[49m\n\u001b[32m    283\u001b[39m \u001b[43m        \u001b[49m\u001b[43mcompression\u001b[49m\u001b[43m=\u001b[49m\u001b[43mcompression\u001b[49m\u001b[43m,\u001b[49m\n\u001b[32m    284\u001b[39m \u001b[43m    \u001b[49m\u001b[43m)\u001b[49m\n\u001b[32m    285\u001b[39m     \u001b[38;5;28;01mreturn\u001b[39;00m response\n",
      "\u001b[36mFile \u001b[39m\u001b[32mc:\\Users\\muham\\Desktop\\langgraph_project\\.venv\\Lib\\site-packages\\grpc\\_interceptor.py:329\u001b[39m, in \u001b[36m_UnaryUnaryMultiCallable._with_call\u001b[39m\u001b[34m(self, request, timeout, metadata, credentials, wait_for_ready, compression)\u001b[39m\n\u001b[32m    326\u001b[39m     \u001b[38;5;28;01mexcept\u001b[39;00m \u001b[38;5;167;01mException\u001b[39;00m \u001b[38;5;28;01mas\u001b[39;00m exception:  \u001b[38;5;66;03m# pylint:disable=broad-except\u001b[39;00m\n\u001b[32m    327\u001b[39m         \u001b[38;5;28;01mreturn\u001b[39;00m _FailureOutcome(exception, sys.exc_info()[\u001b[32m2\u001b[39m])\n\u001b[32m--> \u001b[39m\u001b[32m329\u001b[39m call = \u001b[38;5;28;43mself\u001b[39;49m\u001b[43m.\u001b[49m\u001b[43m_interceptor\u001b[49m\u001b[43m.\u001b[49m\u001b[43mintercept_unary_unary\u001b[49m\u001b[43m(\u001b[49m\n\u001b[32m    330\u001b[39m \u001b[43m    \u001b[49m\u001b[43mcontinuation\u001b[49m\u001b[43m,\u001b[49m\u001b[43m \u001b[49m\u001b[43mclient_call_details\u001b[49m\u001b[43m,\u001b[49m\u001b[43m \u001b[49m\u001b[43mrequest\u001b[49m\n\u001b[32m    331\u001b[39m \u001b[43m\u001b[49m\u001b[43m)\u001b[49m\n\u001b[32m    332\u001b[39m \u001b[38;5;28;01mreturn\u001b[39;00m call.result(), call\n",
      "\u001b[36mFile \u001b[39m\u001b[32mc:\\Users\\muham\\Desktop\\langgraph_project\\.venv\\Lib\\site-packages\\google\\ai\\generativelanguage_v1beta\\services\\generative_service\\transports\\grpc.py:78\u001b[39m, in \u001b[36m_LoggingClientInterceptor.intercept_unary_unary\u001b[39m\u001b[34m(self, continuation, client_call_details, request)\u001b[39m\n\u001b[32m     64\u001b[39m     grpc_request = {\n\u001b[32m     65\u001b[39m         \u001b[33m\"\u001b[39m\u001b[33mpayload\u001b[39m\u001b[33m\"\u001b[39m: request_payload,\n\u001b[32m     66\u001b[39m         \u001b[33m\"\u001b[39m\u001b[33mrequestMethod\u001b[39m\u001b[33m\"\u001b[39m: \u001b[33m\"\u001b[39m\u001b[33mgrpc\u001b[39m\u001b[33m\"\u001b[39m,\n\u001b[32m     67\u001b[39m         \u001b[33m\"\u001b[39m\u001b[33mmetadata\u001b[39m\u001b[33m\"\u001b[39m: \u001b[38;5;28mdict\u001b[39m(request_metadata),\n\u001b[32m     68\u001b[39m     }\n\u001b[32m     69\u001b[39m     _LOGGER.debug(\n\u001b[32m     70\u001b[39m         \u001b[33mf\u001b[39m\u001b[33m\"\u001b[39m\u001b[33mSending request for \u001b[39m\u001b[38;5;132;01m{\u001b[39;00mclient_call_details.method\u001b[38;5;132;01m}\u001b[39;00m\u001b[33m\"\u001b[39m,\n\u001b[32m     71\u001b[39m         extra={\n\u001b[32m   (...)\u001b[39m\u001b[32m     76\u001b[39m         },\n\u001b[32m     77\u001b[39m     )\n\u001b[32m---> \u001b[39m\u001b[32m78\u001b[39m response = \u001b[43mcontinuation\u001b[49m\u001b[43m(\u001b[49m\u001b[43mclient_call_details\u001b[49m\u001b[43m,\u001b[49m\u001b[43m \u001b[49m\u001b[43mrequest\u001b[49m\u001b[43m)\u001b[49m\n\u001b[32m     79\u001b[39m \u001b[38;5;28;01mif\u001b[39;00m logging_enabled:  \u001b[38;5;66;03m# pragma: NO COVER\u001b[39;00m\n\u001b[32m     80\u001b[39m     response_metadata = response.trailing_metadata()\n",
      "\u001b[36mFile \u001b[39m\u001b[32mc:\\Users\\muham\\Desktop\\langgraph_project\\.venv\\Lib\\site-packages\\grpc\\_interceptor.py:315\u001b[39m, in \u001b[36m_UnaryUnaryMultiCallable._with_call.<locals>.continuation\u001b[39m\u001b[34m(new_details, request)\u001b[39m\n\u001b[32m    306\u001b[39m (\n\u001b[32m    307\u001b[39m     new_method,\n\u001b[32m    308\u001b[39m     new_timeout,\n\u001b[32m   (...)\u001b[39m\u001b[32m    312\u001b[39m     new_compression,\n\u001b[32m    313\u001b[39m ) = _unwrap_client_call_details(new_details, client_call_details)\n\u001b[32m    314\u001b[39m \u001b[38;5;28;01mtry\u001b[39;00m:\n\u001b[32m--> \u001b[39m\u001b[32m315\u001b[39m     response, call = \u001b[38;5;28;43mself\u001b[39;49m\u001b[43m.\u001b[49m\u001b[43m_thunk\u001b[49m\u001b[43m(\u001b[49m\u001b[43mnew_method\u001b[49m\u001b[43m)\u001b[49m\u001b[43m.\u001b[49m\u001b[43mwith_call\u001b[49m\u001b[43m(\u001b[49m\n\u001b[32m    316\u001b[39m \u001b[43m        \u001b[49m\u001b[43mrequest\u001b[49m\u001b[43m,\u001b[49m\n\u001b[32m    317\u001b[39m \u001b[43m        \u001b[49m\u001b[43mtimeout\u001b[49m\u001b[43m=\u001b[49m\u001b[43mnew_timeout\u001b[49m\u001b[43m,\u001b[49m\n\u001b[32m    318\u001b[39m \u001b[43m        \u001b[49m\u001b[43mmetadata\u001b[49m\u001b[43m=\u001b[49m\u001b[43mnew_metadata\u001b[49m\u001b[43m,\u001b[49m\n\u001b[32m    319\u001b[39m \u001b[43m        \u001b[49m\u001b[43mcredentials\u001b[49m\u001b[43m=\u001b[49m\u001b[43mnew_credentials\u001b[49m\u001b[43m,\u001b[49m\n\u001b[32m    320\u001b[39m \u001b[43m        \u001b[49m\u001b[43mwait_for_ready\u001b[49m\u001b[43m=\u001b[49m\u001b[43mnew_wait_for_ready\u001b[49m\u001b[43m,\u001b[49m\n\u001b[32m    321\u001b[39m \u001b[43m        \u001b[49m\u001b[43mcompression\u001b[49m\u001b[43m=\u001b[49m\u001b[43mnew_compression\u001b[49m\u001b[43m,\u001b[49m\n\u001b[32m    322\u001b[39m \u001b[43m    \u001b[49m\u001b[43m)\u001b[49m\n\u001b[32m    323\u001b[39m     \u001b[38;5;28;01mreturn\u001b[39;00m _UnaryOutcome(response, call)\n\u001b[32m    324\u001b[39m \u001b[38;5;28;01mexcept\u001b[39;00m grpc.RpcError \u001b[38;5;28;01mas\u001b[39;00m rpc_error:\n",
      "\u001b[36mFile \u001b[39m\u001b[32mc:\\Users\\muham\\Desktop\\langgraph_project\\.venv\\Lib\\site-packages\\grpc\\_channel.py:1189\u001b[39m, in \u001b[36m_UnaryUnaryMultiCallable.with_call\u001b[39m\u001b[34m(self, request, timeout, metadata, credentials, wait_for_ready, compression)\u001b[39m\n\u001b[32m   1180\u001b[39m \u001b[38;5;28;01mdef\u001b[39;00m\u001b[38;5;250m \u001b[39m\u001b[34mwith_call\u001b[39m(\n\u001b[32m   1181\u001b[39m     \u001b[38;5;28mself\u001b[39m,\n\u001b[32m   1182\u001b[39m     request: Any,\n\u001b[32m   (...)\u001b[39m\u001b[32m   1187\u001b[39m     compression: Optional[grpc.Compression] = \u001b[38;5;28;01mNone\u001b[39;00m,\n\u001b[32m   1188\u001b[39m ) -> Tuple[Any, grpc.Call]:\n\u001b[32m-> \u001b[39m\u001b[32m1189\u001b[39m     state, call = \u001b[38;5;28;43mself\u001b[39;49m\u001b[43m.\u001b[49m\u001b[43m_blocking\u001b[49m\u001b[43m(\u001b[49m\n\u001b[32m   1190\u001b[39m \u001b[43m        \u001b[49m\u001b[43mrequest\u001b[49m\u001b[43m,\u001b[49m\u001b[43m \u001b[49m\u001b[43mtimeout\u001b[49m\u001b[43m,\u001b[49m\u001b[43m \u001b[49m\u001b[43mmetadata\u001b[49m\u001b[43m,\u001b[49m\u001b[43m \u001b[49m\u001b[43mcredentials\u001b[49m\u001b[43m,\u001b[49m\u001b[43m \u001b[49m\u001b[43mwait_for_ready\u001b[49m\u001b[43m,\u001b[49m\u001b[43m \u001b[49m\u001b[43mcompression\u001b[49m\n\u001b[32m   1191\u001b[39m \u001b[43m    \u001b[49m\u001b[43m)\u001b[49m\n\u001b[32m   1192\u001b[39m     \u001b[38;5;28;01mreturn\u001b[39;00m _end_unary_response_blocking(state, call, \u001b[38;5;28;01mTrue\u001b[39;00m, \u001b[38;5;28;01mNone\u001b[39;00m)\n",
      "\u001b[36mFile \u001b[39m\u001b[32mc:\\Users\\muham\\Desktop\\langgraph_project\\.venv\\Lib\\site-packages\\grpc\\_channel.py:1162\u001b[39m, in \u001b[36m_UnaryUnaryMultiCallable._blocking\u001b[39m\u001b[34m(self, request, timeout, metadata, credentials, wait_for_ready, compression)\u001b[39m\n\u001b[32m   1145\u001b[39m state.target = _common.decode(\u001b[38;5;28mself\u001b[39m._target)\n\u001b[32m   1146\u001b[39m call = \u001b[38;5;28mself\u001b[39m._channel.segregated_call(\n\u001b[32m   1147\u001b[39m     cygrpc.PropagationConstants.GRPC_PROPAGATE_DEFAULTS,\n\u001b[32m   1148\u001b[39m     \u001b[38;5;28mself\u001b[39m._method,\n\u001b[32m   (...)\u001b[39m\u001b[32m   1160\u001b[39m     \u001b[38;5;28mself\u001b[39m._registered_call_handle,\n\u001b[32m   1161\u001b[39m )\n\u001b[32m-> \u001b[39m\u001b[32m1162\u001b[39m event = \u001b[43mcall\u001b[49m\u001b[43m.\u001b[49m\u001b[43mnext_event\u001b[49m\u001b[43m(\u001b[49m\u001b[43m)\u001b[49m\n\u001b[32m   1163\u001b[39m _handle_event(event, state, \u001b[38;5;28mself\u001b[39m._response_deserializer)\n\u001b[32m   1164\u001b[39m \u001b[38;5;28;01mreturn\u001b[39;00m state, call\n",
      "\u001b[36mFile \u001b[39m\u001b[32msrc/python/grpcio/grpc/_cython/_cygrpc/channel.pyx.pxi:388\u001b[39m, in \u001b[36mgrpc._cython.cygrpc.SegregatedCall.next_event\u001b[39m\u001b[34m()\u001b[39m\n",
      "\u001b[36mFile \u001b[39m\u001b[32msrc/python/grpcio/grpc/_cython/_cygrpc/channel.pyx.pxi:211\u001b[39m, in \u001b[36mgrpc._cython.cygrpc._next_call_event\u001b[39m\u001b[34m()\u001b[39m\n",
      "\u001b[36mFile \u001b[39m\u001b[32msrc/python/grpcio/grpc/_cython/_cygrpc/channel.pyx.pxi:205\u001b[39m, in \u001b[36mgrpc._cython.cygrpc._next_call_event\u001b[39m\u001b[34m()\u001b[39m\n",
      "\u001b[36mFile \u001b[39m\u001b[32msrc/python/grpcio/grpc/_cython/_cygrpc/completion_queue.pyx.pxi:97\u001b[39m, in \u001b[36mgrpc._cython.cygrpc._latent_event\u001b[39m\u001b[34m()\u001b[39m\n",
      "\u001b[36mFile \u001b[39m\u001b[32msrc/python/grpcio/grpc/_cython/_cygrpc/completion_queue.pyx.pxi:80\u001b[39m, in \u001b[36mgrpc._cython.cygrpc._internal_latent_event\u001b[39m\u001b[34m()\u001b[39m\n",
      "\u001b[36mFile \u001b[39m\u001b[32msrc/python/grpcio/grpc/_cython/_cygrpc/completion_queue.pyx.pxi:61\u001b[39m, in \u001b[36mgrpc._cython.cygrpc._next\u001b[39m\u001b[34m()\u001b[39m\n",
      "\u001b[31mKeyboardInterrupt\u001b[39m: "
     ]
    }
   ],
   "source": [
    "response = graph.invoke({\"messages\":[\"do you think english medicines are better than ayurvedic\"]})\n",
    "response"
   ]
  },
  {
   "cell_type": "code",
   "execution_count": null,
   "id": "0f1ca0cb",
   "metadata": {},
   "outputs": [
    {
     "name": "stdout",
     "output_type": "stream",
     "text": [
      "how was indian per capita income going\n"
     ]
    }
   ],
   "source": [
    "for i in response[\"messages\"]:\n",
    "    print(i)"
   ]
  },
  {
   "cell_type": "code",
   "execution_count": null,
   "id": "2ec723ee",
   "metadata": {},
   "outputs": [
    {
     "data": {
      "text/plain": [
       "[HumanMessage(content='how was indian per capita income going', additional_kwargs={}, response_metadata={}, id='9cdb1638-1f34-4739-a7b3-69ba679c7296'),\n",
       " AIMessage(content='To research the trend of India\\'s per capita income, I need to use online resources.  I can use the `tavily_search` function to find relevant data and reports.  However, I need to formulate a precise search query to get the most useful information.  A query like `\"India per capita income trend\"` or `\"historical data India per capita income\"` would be a good starting point.  The results would then need to be analyzed to understand the historical trend.  I will need to look for reliable sources like the World Bank, IMF, or government publications.', additional_kwargs={}, response_metadata={'prompt_feedback': {'block_reason': 0, 'safety_ratings': []}, 'finish_reason': 'STOP', 'model_name': 'gemini-1.5-flash', 'safety_ratings': []}, id='run--0ae2349a-521b-4bb9-9b87-060d158456cf-0', usage_metadata={'input_tokens': 577, 'output_tokens': 119, 'total_tokens': 696, 'input_token_details': {'cache_read': 0}})]"
      ]
     },
     "execution_count": 79,
     "metadata": {},
     "output_type": "execute_result"
    }
   ],
   "source": [
    "response = {'messages': [HumanMessage(content='how was indian per capita income going', additional_kwargs={}, response_metadata={}, id='9cdb1638-1f34-4739-a7b3-69ba679c7296'), AIMessage(content='To research the trend of India\\'s per capita income, I need to use online resources.  I can use the `tavily_search` function to find relevant data and reports.  However, I need to formulate a precise search query to get the most useful information.  A query like `\"India per capita income trend\"` or `\"historical data India per capita income\"` would be a good starting point.  The results would then need to be analyzed to understand the historical trend.  I will need to look for reliable sources like the World Bank, IMF, or government publications.', additional_kwargs={}, response_metadata={'prompt_feedback': {'block_reason': 0, 'safety_ratings': []}, 'finish_reason': 'STOP', 'model_name': 'gemini-1.5-flash', 'safety_ratings': []}, id='run--0ae2349a-521b-4bb9-9b87-060d158456cf-0', usage_metadata={'input_tokens': 577, 'output_tokens': 119, 'total_tokens': 696, 'input_token_details': {'cache_read': 0}})]}\n",
    "response[\"messages\"]"
   ]
  },
  {
   "cell_type": "code",
   "execution_count": null,
   "id": "73ce396e",
   "metadata": {},
   "outputs": [],
   "source": [
    "import pprint\n",
    "# response = \n",
    "# logging.info(\"response from research node:\\n%s\", pprint.pformat(response))"
   ]
  },
  {
   "cell_type": "code",
   "execution_count": null,
   "id": "f8916a6f",
   "metadata": {},
   "outputs": [],
   "source": [
    "response = {'messages': [HumanMessage(content='how was indian per capita income going', additional_kwargs={}, response_metadata={}, id='9cdb1638-1f34-4739-a7b3-69ba679c7296'), AIMessage(content='To research the trend of India\\'s per capita income, I need to use online resources.  I can use the `tavily_search` function to find relevant data and reports.  However, I need to formulate a precise search query to get the most useful information.  A query like `\"India per capita income trend\"` or `\"historical data India per capita income\"` would be a good starting point.  The results would then need to be analyzed to understand the historical trend.  I will need to look for reliable sources like the World Bank, IMF, or government publications.', additional_kwargs={}, response_metadata={'prompt_feedback': {'block_reason': 0, 'safety_ratings': []}, 'finish_reason': 'STOP', 'model_name': 'gemini-1.5-flash', 'safety_ratings': []}, id='run--0ae2349a-521b-4bb9-9b87-060d158456cf-0', usage_metadata={'input_tokens': 577, 'output_tokens': 119, 'total_tokens': 696, 'input_token_details': {'cache_read': 0}})]}"
   ]
  },
  {
   "cell_type": "code",
   "execution_count": null,
   "id": "e0da5950",
   "metadata": {},
   "outputs": [
    {
     "data": {
      "text/plain": [
       "'{\\'messages\\': [HumanMessage(content=\\'how was indian per capita income going\\', additional_kwargs={}, response_metadata={}, id=\\'9cdb1638-1f34-4739-a7b3-69ba679c7296\\'),\\n              AIMessage(content=\\'To research the trend of India\\\\\\'s per capita income, I need to use online resources.  I can use the `tavily_search` function to find relevant data and reports.  However, I need to formulate a precise search query to get the most useful information.  A query like `\"India per capita income trend\"` or `\"historical data India per capita income\"` would be a good starting point.  The results would then need to be analyzed to understand the historical trend.  I will need to look for reliable sources like the World Bank, IMF, or government publications.\\', additional_kwargs={}, response_metadata={\\'prompt_feedback\\': {\\'block_reason\\': 0, \\'safety_ratings\\': []}, \\'finish_reason\\': \\'STOP\\', \\'model_name\\': \\'gemini-1.5-flash\\', \\'safety_ratings\\': []}, id=\\'run--0ae2349a-521b-4bb9-9b87-060d158456cf-0\\', usage_metadata={\\'input_tokens\\': 577, \\'output_tokens\\': 119, \\'total_tokens\\': 696, \\'input_token_details\\': {\\'cache_read\\': 0}})]}'"
      ]
     },
     "execution_count": 291,
     "metadata": {},
     "output_type": "execute_result"
    }
   ],
   "source": [
    "pprint.pformat(response)"
   ]
  },
  {
   "cell_type": "code",
   "execution_count": null,
   "id": "5c10279b",
   "metadata": {},
   "outputs": [],
   "source": [
    "pretty_log(response[\"messages\"], short=True)"
   ]
  },
  {
   "cell_type": "code",
   "execution_count": null,
   "id": "c07e0d83",
   "metadata": {},
   "outputs": [
    {
     "ename": "ResourceExhausted",
     "evalue": "429 You exceeded your current quota, please check your plan and billing details. For more information on this error, head to: https://ai.google.dev/gemini-api/docs/rate-limits. [violations {\n  quota_metric: \"generativelanguage.googleapis.com/generate_content_free_tier_requests\"\n  quota_id: \"GenerateRequestsPerDayPerProjectPerModel-FreeTier\"\n  quota_dimensions {\n    key: \"model\"\n    value: \"gemini-1.5-flash\"\n  }\n  quota_dimensions {\n    key: \"location\"\n    value: \"global\"\n  }\n  quota_value: 50\n}\n, links {\n  description: \"Learn more about Gemini API quotas\"\n  url: \"https://ai.google.dev/gemini-api/docs/rate-limits\"\n}\n, retry_delay {\n  seconds: 56\n}\n]",
     "output_type": "error",
     "traceback": [
      "\u001b[1;31m---------------------------------------------------------------------------\u001b[0m",
      "\u001b[1;31mResourceExhausted\u001b[0m                         Traceback (most recent call last)",
      "Cell \u001b[1;32mIn[43], line 1\u001b[0m\n\u001b[1;32m----> 1\u001b[0m \u001b[43mllm\u001b[49m\u001b[38;5;241;43m.\u001b[39;49m\u001b[43minvoke\u001b[49m\u001b[43m(\u001b[49m\u001b[38;5;124;43m\"\u001b[39;49m\u001b[38;5;124;43mhi\u001b[39;49m\u001b[38;5;124;43m\"\u001b[39;49m\u001b[43m)\u001b[49m\n",
      "File \u001b[1;32mc:\\Users\\muham\\Desktop\\Assignments\\common-venv\\lib\\site-packages\\langchain_google_genai\\chat_models.py:1255\u001b[0m, in \u001b[0;36mChatGoogleGenerativeAI.invoke\u001b[1;34m(self, input, config, code_execution, stop, **kwargs)\u001b[0m\n\u001b[0;32m   1250\u001b[0m     \u001b[38;5;28;01melse\u001b[39;00m:\n\u001b[0;32m   1251\u001b[0m         \u001b[38;5;28;01mraise\u001b[39;00m \u001b[38;5;167;01mValueError\u001b[39;00m(\n\u001b[0;32m   1252\u001b[0m             \u001b[38;5;124m\"\u001b[39m\u001b[38;5;124mTools are already defined.\u001b[39m\u001b[38;5;124m\"\u001b[39m \u001b[38;5;124m\"\u001b[39m\u001b[38;5;124mcode_execution tool can\u001b[39m\u001b[38;5;124m'\u001b[39m\u001b[38;5;124mt be defined\u001b[39m\u001b[38;5;124m\"\u001b[39m\n\u001b[0;32m   1253\u001b[0m         )\n\u001b[1;32m-> 1255\u001b[0m \u001b[38;5;28;01mreturn\u001b[39;00m \u001b[38;5;28msuper\u001b[39m()\u001b[38;5;241m.\u001b[39minvoke(\u001b[38;5;28minput\u001b[39m, config, stop\u001b[38;5;241m=\u001b[39mstop, \u001b[38;5;241m*\u001b[39m\u001b[38;5;241m*\u001b[39mkwargs)\n",
      "File \u001b[1;32mc:\\Users\\muham\\Desktop\\Assignments\\common-venv\\lib\\site-packages\\langchain_core\\language_models\\chat_models.py:372\u001b[0m, in \u001b[0;36mBaseChatModel.invoke\u001b[1;34m(self, input, config, stop, **kwargs)\u001b[0m\n\u001b[0;32m    360\u001b[0m \u001b[38;5;129m@override\u001b[39m\n\u001b[0;32m    361\u001b[0m \u001b[38;5;28;01mdef\u001b[39;00m\u001b[38;5;250m \u001b[39m\u001b[38;5;21minvoke\u001b[39m(\n\u001b[0;32m    362\u001b[0m     \u001b[38;5;28mself\u001b[39m,\n\u001b[1;32m   (...)\u001b[0m\n\u001b[0;32m    367\u001b[0m     \u001b[38;5;241m*\u001b[39m\u001b[38;5;241m*\u001b[39mkwargs: Any,\n\u001b[0;32m    368\u001b[0m ) \u001b[38;5;241m-\u001b[39m\u001b[38;5;241m>\u001b[39m BaseMessage:\n\u001b[0;32m    369\u001b[0m     config \u001b[38;5;241m=\u001b[39m ensure_config(config)\n\u001b[0;32m    370\u001b[0m     \u001b[38;5;28;01mreturn\u001b[39;00m cast(\n\u001b[0;32m    371\u001b[0m         \u001b[38;5;124m\"\u001b[39m\u001b[38;5;124mChatGeneration\u001b[39m\u001b[38;5;124m\"\u001b[39m,\n\u001b[1;32m--> 372\u001b[0m         \u001b[38;5;28mself\u001b[39m\u001b[38;5;241m.\u001b[39mgenerate_prompt(\n\u001b[0;32m    373\u001b[0m             [\u001b[38;5;28mself\u001b[39m\u001b[38;5;241m.\u001b[39m_convert_input(\u001b[38;5;28minput\u001b[39m)],\n\u001b[0;32m    374\u001b[0m             stop\u001b[38;5;241m=\u001b[39mstop,\n\u001b[0;32m    375\u001b[0m             callbacks\u001b[38;5;241m=\u001b[39mconfig\u001b[38;5;241m.\u001b[39mget(\u001b[38;5;124m\"\u001b[39m\u001b[38;5;124mcallbacks\u001b[39m\u001b[38;5;124m\"\u001b[39m),\n\u001b[0;32m    376\u001b[0m             tags\u001b[38;5;241m=\u001b[39mconfig\u001b[38;5;241m.\u001b[39mget(\u001b[38;5;124m\"\u001b[39m\u001b[38;5;124mtags\u001b[39m\u001b[38;5;124m\"\u001b[39m),\n\u001b[0;32m    377\u001b[0m             metadata\u001b[38;5;241m=\u001b[39mconfig\u001b[38;5;241m.\u001b[39mget(\u001b[38;5;124m\"\u001b[39m\u001b[38;5;124mmetadata\u001b[39m\u001b[38;5;124m\"\u001b[39m),\n\u001b[0;32m    378\u001b[0m             run_name\u001b[38;5;241m=\u001b[39mconfig\u001b[38;5;241m.\u001b[39mget(\u001b[38;5;124m\"\u001b[39m\u001b[38;5;124mrun_name\u001b[39m\u001b[38;5;124m\"\u001b[39m),\n\u001b[0;32m    379\u001b[0m             run_id\u001b[38;5;241m=\u001b[39mconfig\u001b[38;5;241m.\u001b[39mpop(\u001b[38;5;124m\"\u001b[39m\u001b[38;5;124mrun_id\u001b[39m\u001b[38;5;124m\"\u001b[39m, \u001b[38;5;28;01mNone\u001b[39;00m),\n\u001b[0;32m    380\u001b[0m             \u001b[38;5;241m*\u001b[39m\u001b[38;5;241m*\u001b[39mkwargs,\n\u001b[0;32m    381\u001b[0m         )\u001b[38;5;241m.\u001b[39mgenerations[\u001b[38;5;241m0\u001b[39m][\u001b[38;5;241m0\u001b[39m],\n\u001b[0;32m    382\u001b[0m     )\u001b[38;5;241m.\u001b[39mmessage\n",
      "File \u001b[1;32mc:\\Users\\muham\\Desktop\\Assignments\\common-venv\\lib\\site-packages\\langchain_core\\language_models\\chat_models.py:957\u001b[0m, in \u001b[0;36mBaseChatModel.generate_prompt\u001b[1;34m(self, prompts, stop, callbacks, **kwargs)\u001b[0m\n\u001b[0;32m    948\u001b[0m \u001b[38;5;129m@override\u001b[39m\n\u001b[0;32m    949\u001b[0m \u001b[38;5;28;01mdef\u001b[39;00m\u001b[38;5;250m \u001b[39m\u001b[38;5;21mgenerate_prompt\u001b[39m(\n\u001b[0;32m    950\u001b[0m     \u001b[38;5;28mself\u001b[39m,\n\u001b[1;32m   (...)\u001b[0m\n\u001b[0;32m    954\u001b[0m     \u001b[38;5;241m*\u001b[39m\u001b[38;5;241m*\u001b[39mkwargs: Any,\n\u001b[0;32m    955\u001b[0m ) \u001b[38;5;241m-\u001b[39m\u001b[38;5;241m>\u001b[39m LLMResult:\n\u001b[0;32m    956\u001b[0m     prompt_messages \u001b[38;5;241m=\u001b[39m [p\u001b[38;5;241m.\u001b[39mto_messages() \u001b[38;5;28;01mfor\u001b[39;00m p \u001b[38;5;129;01min\u001b[39;00m prompts]\n\u001b[1;32m--> 957\u001b[0m     \u001b[38;5;28;01mreturn\u001b[39;00m \u001b[38;5;28mself\u001b[39m\u001b[38;5;241m.\u001b[39mgenerate(prompt_messages, stop\u001b[38;5;241m=\u001b[39mstop, callbacks\u001b[38;5;241m=\u001b[39mcallbacks, \u001b[38;5;241m*\u001b[39m\u001b[38;5;241m*\u001b[39mkwargs)\n",
      "File \u001b[1;32mc:\\Users\\muham\\Desktop\\Assignments\\common-venv\\lib\\site-packages\\langchain_core\\language_models\\chat_models.py:776\u001b[0m, in \u001b[0;36mBaseChatModel.generate\u001b[1;34m(self, messages, stop, callbacks, tags, metadata, run_name, run_id, **kwargs)\u001b[0m\n\u001b[0;32m    773\u001b[0m \u001b[38;5;28;01mfor\u001b[39;00m i, m \u001b[38;5;129;01min\u001b[39;00m \u001b[38;5;28menumerate\u001b[39m(input_messages):\n\u001b[0;32m    774\u001b[0m     \u001b[38;5;28;01mtry\u001b[39;00m:\n\u001b[0;32m    775\u001b[0m         results\u001b[38;5;241m.\u001b[39mappend(\n\u001b[1;32m--> 776\u001b[0m             \u001b[38;5;28mself\u001b[39m\u001b[38;5;241m.\u001b[39m_generate_with_cache(\n\u001b[0;32m    777\u001b[0m                 m,\n\u001b[0;32m    778\u001b[0m                 stop\u001b[38;5;241m=\u001b[39mstop,\n\u001b[0;32m    779\u001b[0m                 run_manager\u001b[38;5;241m=\u001b[39mrun_managers[i] \u001b[38;5;28;01mif\u001b[39;00m run_managers \u001b[38;5;28;01melse\u001b[39;00m \u001b[38;5;28;01mNone\u001b[39;00m,\n\u001b[0;32m    780\u001b[0m                 \u001b[38;5;241m*\u001b[39m\u001b[38;5;241m*\u001b[39mkwargs,\n\u001b[0;32m    781\u001b[0m             )\n\u001b[0;32m    782\u001b[0m         )\n\u001b[0;32m    783\u001b[0m     \u001b[38;5;28;01mexcept\u001b[39;00m \u001b[38;5;167;01mBaseException\u001b[39;00m \u001b[38;5;28;01mas\u001b[39;00m e:\n\u001b[0;32m    784\u001b[0m         \u001b[38;5;28;01mif\u001b[39;00m run_managers:\n",
      "File \u001b[1;32mc:\\Users\\muham\\Desktop\\Assignments\\common-venv\\lib\\site-packages\\langchain_core\\language_models\\chat_models.py:1022\u001b[0m, in \u001b[0;36mBaseChatModel._generate_with_cache\u001b[1;34m(self, messages, stop, run_manager, **kwargs)\u001b[0m\n\u001b[0;32m   1020\u001b[0m     result \u001b[38;5;241m=\u001b[39m generate_from_stream(\u001b[38;5;28miter\u001b[39m(chunks))\n\u001b[0;32m   1021\u001b[0m \u001b[38;5;28;01melif\u001b[39;00m inspect\u001b[38;5;241m.\u001b[39msignature(\u001b[38;5;28mself\u001b[39m\u001b[38;5;241m.\u001b[39m_generate)\u001b[38;5;241m.\u001b[39mparameters\u001b[38;5;241m.\u001b[39mget(\u001b[38;5;124m\"\u001b[39m\u001b[38;5;124mrun_manager\u001b[39m\u001b[38;5;124m\"\u001b[39m):\n\u001b[1;32m-> 1022\u001b[0m     result \u001b[38;5;241m=\u001b[39m \u001b[38;5;28mself\u001b[39m\u001b[38;5;241m.\u001b[39m_generate(\n\u001b[0;32m   1023\u001b[0m         messages, stop\u001b[38;5;241m=\u001b[39mstop, run_manager\u001b[38;5;241m=\u001b[39mrun_manager, \u001b[38;5;241m*\u001b[39m\u001b[38;5;241m*\u001b[39mkwargs\n\u001b[0;32m   1024\u001b[0m     )\n\u001b[0;32m   1025\u001b[0m \u001b[38;5;28;01melse\u001b[39;00m:\n\u001b[0;32m   1026\u001b[0m     result \u001b[38;5;241m=\u001b[39m \u001b[38;5;28mself\u001b[39m\u001b[38;5;241m.\u001b[39m_generate(messages, stop\u001b[38;5;241m=\u001b[39mstop, \u001b[38;5;241m*\u001b[39m\u001b[38;5;241m*\u001b[39mkwargs)\n",
      "File \u001b[1;32mc:\\Users\\muham\\Desktop\\Assignments\\common-venv\\lib\\site-packages\\langchain_google_genai\\chat_models.py:1342\u001b[0m, in \u001b[0;36mChatGoogleGenerativeAI._generate\u001b[1;34m(self, messages, stop, run_manager, tools, functions, safety_settings, tool_config, generation_config, cached_content, tool_choice, **kwargs)\u001b[0m\n\u001b[0;32m   1316\u001b[0m \u001b[38;5;28;01mdef\u001b[39;00m\u001b[38;5;250m \u001b[39m\u001b[38;5;21m_generate\u001b[39m(\n\u001b[0;32m   1317\u001b[0m     \u001b[38;5;28mself\u001b[39m,\n\u001b[0;32m   1318\u001b[0m     messages: List[BaseMessage],\n\u001b[1;32m   (...)\u001b[0m\n\u001b[0;32m   1329\u001b[0m     \u001b[38;5;241m*\u001b[39m\u001b[38;5;241m*\u001b[39mkwargs: Any,\n\u001b[0;32m   1330\u001b[0m ) \u001b[38;5;241m-\u001b[39m\u001b[38;5;241m>\u001b[39m ChatResult:\n\u001b[0;32m   1331\u001b[0m     request \u001b[38;5;241m=\u001b[39m \u001b[38;5;28mself\u001b[39m\u001b[38;5;241m.\u001b[39m_prepare_request(\n\u001b[0;32m   1332\u001b[0m         messages,\n\u001b[0;32m   1333\u001b[0m         stop\u001b[38;5;241m=\u001b[39mstop,\n\u001b[1;32m   (...)\u001b[0m\n\u001b[0;32m   1340\u001b[0m         tool_choice\u001b[38;5;241m=\u001b[39mtool_choice,\n\u001b[0;32m   1341\u001b[0m     )\n\u001b[1;32m-> 1342\u001b[0m     response: GenerateContentResponse \u001b[38;5;241m=\u001b[39m _chat_with_retry(\n\u001b[0;32m   1343\u001b[0m         request\u001b[38;5;241m=\u001b[39mrequest,\n\u001b[0;32m   1344\u001b[0m         \u001b[38;5;241m*\u001b[39m\u001b[38;5;241m*\u001b[39mkwargs,\n\u001b[0;32m   1345\u001b[0m         generation_method\u001b[38;5;241m=\u001b[39m\u001b[38;5;28mself\u001b[39m\u001b[38;5;241m.\u001b[39mclient\u001b[38;5;241m.\u001b[39mgenerate_content,\n\u001b[0;32m   1346\u001b[0m         metadata\u001b[38;5;241m=\u001b[39m\u001b[38;5;28mself\u001b[39m\u001b[38;5;241m.\u001b[39mdefault_metadata,\n\u001b[0;32m   1347\u001b[0m     )\n\u001b[0;32m   1348\u001b[0m     \u001b[38;5;28;01mreturn\u001b[39;00m _response_to_result(response)\n",
      "File \u001b[1;32mc:\\Users\\muham\\Desktop\\Assignments\\common-venv\\lib\\site-packages\\langchain_google_genai\\chat_models.py:210\u001b[0m, in \u001b[0;36m_chat_with_retry\u001b[1;34m(generation_method, **kwargs)\u001b[0m\n\u001b[0;32m    207\u001b[0m     \u001b[38;5;28;01mexcept\u001b[39;00m \u001b[38;5;167;01mException\u001b[39;00m \u001b[38;5;28;01mas\u001b[39;00m e:\n\u001b[0;32m    208\u001b[0m         \u001b[38;5;28;01mraise\u001b[39;00m e\n\u001b[1;32m--> 210\u001b[0m \u001b[38;5;28;01mreturn\u001b[39;00m _chat_with_retry(\u001b[38;5;241m*\u001b[39m\u001b[38;5;241m*\u001b[39mkwargs)\n",
      "File \u001b[1;32mc:\\Users\\muham\\Desktop\\Assignments\\common-venv\\lib\\site-packages\\tenacity\\__init__.py:338\u001b[0m, in \u001b[0;36mBaseRetrying.wraps.<locals>.wrapped_f\u001b[1;34m(*args, **kw)\u001b[0m\n\u001b[0;32m    336\u001b[0m copy \u001b[38;5;241m=\u001b[39m \u001b[38;5;28mself\u001b[39m\u001b[38;5;241m.\u001b[39mcopy()\n\u001b[0;32m    337\u001b[0m wrapped_f\u001b[38;5;241m.\u001b[39mstatistics \u001b[38;5;241m=\u001b[39m copy\u001b[38;5;241m.\u001b[39mstatistics  \u001b[38;5;66;03m# type: ignore[attr-defined]\u001b[39;00m\n\u001b[1;32m--> 338\u001b[0m \u001b[38;5;28;01mreturn\u001b[39;00m copy(f, \u001b[38;5;241m*\u001b[39margs, \u001b[38;5;241m*\u001b[39m\u001b[38;5;241m*\u001b[39mkw)\n",
      "File \u001b[1;32mc:\\Users\\muham\\Desktop\\Assignments\\common-venv\\lib\\site-packages\\tenacity\\__init__.py:477\u001b[0m, in \u001b[0;36mRetrying.__call__\u001b[1;34m(self, fn, *args, **kwargs)\u001b[0m\n\u001b[0;32m    475\u001b[0m retry_state \u001b[38;5;241m=\u001b[39m RetryCallState(retry_object\u001b[38;5;241m=\u001b[39m\u001b[38;5;28mself\u001b[39m, fn\u001b[38;5;241m=\u001b[39mfn, args\u001b[38;5;241m=\u001b[39margs, kwargs\u001b[38;5;241m=\u001b[39mkwargs)\n\u001b[0;32m    476\u001b[0m \u001b[38;5;28;01mwhile\u001b[39;00m \u001b[38;5;28;01mTrue\u001b[39;00m:\n\u001b[1;32m--> 477\u001b[0m     do \u001b[38;5;241m=\u001b[39m \u001b[38;5;28;43mself\u001b[39;49m\u001b[38;5;241;43m.\u001b[39;49m\u001b[43miter\u001b[49m\u001b[43m(\u001b[49m\u001b[43mretry_state\u001b[49m\u001b[38;5;241;43m=\u001b[39;49m\u001b[43mretry_state\u001b[49m\u001b[43m)\u001b[49m\n\u001b[0;32m    478\u001b[0m     \u001b[38;5;28;01mif\u001b[39;00m \u001b[38;5;28misinstance\u001b[39m(do, DoAttempt):\n\u001b[0;32m    479\u001b[0m         \u001b[38;5;28;01mtry\u001b[39;00m:\n",
      "File \u001b[1;32mc:\\Users\\muham\\Desktop\\Assignments\\common-venv\\lib\\site-packages\\tenacity\\__init__.py:378\u001b[0m, in \u001b[0;36mBaseRetrying.iter\u001b[1;34m(self, retry_state)\u001b[0m\n\u001b[0;32m    376\u001b[0m result \u001b[38;5;241m=\u001b[39m \u001b[38;5;28;01mNone\u001b[39;00m\n\u001b[0;32m    377\u001b[0m \u001b[38;5;28;01mfor\u001b[39;00m action \u001b[38;5;129;01min\u001b[39;00m \u001b[38;5;28mself\u001b[39m\u001b[38;5;241m.\u001b[39miter_state\u001b[38;5;241m.\u001b[39mactions:\n\u001b[1;32m--> 378\u001b[0m     result \u001b[38;5;241m=\u001b[39m \u001b[43maction\u001b[49m\u001b[43m(\u001b[49m\u001b[43mretry_state\u001b[49m\u001b[43m)\u001b[49m\n\u001b[0;32m    379\u001b[0m \u001b[38;5;28;01mreturn\u001b[39;00m result\n",
      "File \u001b[1;32mc:\\Users\\muham\\Desktop\\Assignments\\common-venv\\lib\\site-packages\\tenacity\\__init__.py:420\u001b[0m, in \u001b[0;36mBaseRetrying._post_stop_check_actions.<locals>.exc_check\u001b[1;34m(rs)\u001b[0m\n\u001b[0;32m    418\u001b[0m retry_exc \u001b[38;5;241m=\u001b[39m \u001b[38;5;28mself\u001b[39m\u001b[38;5;241m.\u001b[39mretry_error_cls(fut)\n\u001b[0;32m    419\u001b[0m \u001b[38;5;28;01mif\u001b[39;00m \u001b[38;5;28mself\u001b[39m\u001b[38;5;241m.\u001b[39mreraise:\n\u001b[1;32m--> 420\u001b[0m     \u001b[38;5;28;01mraise\u001b[39;00m \u001b[43mretry_exc\u001b[49m\u001b[38;5;241;43m.\u001b[39;49m\u001b[43mreraise\u001b[49m\u001b[43m(\u001b[49m\u001b[43m)\u001b[49m\n\u001b[0;32m    421\u001b[0m \u001b[38;5;28;01mraise\u001b[39;00m retry_exc \u001b[38;5;28;01mfrom\u001b[39;00m\u001b[38;5;250m \u001b[39m\u001b[38;5;21;01mfut\u001b[39;00m\u001b[38;5;21;01m.\u001b[39;00m\u001b[38;5;21;01mexception\u001b[39;00m()\n",
      "File \u001b[1;32mc:\\Users\\muham\\Desktop\\Assignments\\common-venv\\lib\\site-packages\\tenacity\\__init__.py:187\u001b[0m, in \u001b[0;36mRetryError.reraise\u001b[1;34m(self)\u001b[0m\n\u001b[0;32m    185\u001b[0m \u001b[38;5;28;01mdef\u001b[39;00m\u001b[38;5;250m \u001b[39m\u001b[38;5;21mreraise\u001b[39m(\u001b[38;5;28mself\u001b[39m) \u001b[38;5;241m-\u001b[39m\u001b[38;5;241m>\u001b[39m t\u001b[38;5;241m.\u001b[39mNoReturn:\n\u001b[0;32m    186\u001b[0m     \u001b[38;5;28;01mif\u001b[39;00m \u001b[38;5;28mself\u001b[39m\u001b[38;5;241m.\u001b[39mlast_attempt\u001b[38;5;241m.\u001b[39mfailed:\n\u001b[1;32m--> 187\u001b[0m         \u001b[38;5;28;01mraise\u001b[39;00m \u001b[38;5;28;43mself\u001b[39;49m\u001b[38;5;241;43m.\u001b[39;49m\u001b[43mlast_attempt\u001b[49m\u001b[38;5;241;43m.\u001b[39;49m\u001b[43mresult\u001b[49m\u001b[43m(\u001b[49m\u001b[43m)\u001b[49m\n\u001b[0;32m    188\u001b[0m     \u001b[38;5;28;01mraise\u001b[39;00m \u001b[38;5;28mself\u001b[39m\n",
      "File \u001b[1;32mc:\\Users\\muham\\Desktop\\Assignments\\common-venv\\lib\\concurrent\\futures\\_base.py:438\u001b[0m, in \u001b[0;36mFuture.result\u001b[1;34m(self, timeout)\u001b[0m\n\u001b[0;32m    436\u001b[0m     \u001b[38;5;28;01mraise\u001b[39;00m CancelledError()\n\u001b[0;32m    437\u001b[0m \u001b[38;5;28;01melif\u001b[39;00m \u001b[38;5;28mself\u001b[39m\u001b[38;5;241m.\u001b[39m_state \u001b[38;5;241m==\u001b[39m FINISHED:\n\u001b[1;32m--> 438\u001b[0m     \u001b[38;5;28;01mreturn\u001b[39;00m \u001b[38;5;28;43mself\u001b[39;49m\u001b[38;5;241;43m.\u001b[39;49m\u001b[43m__get_result\u001b[49m\u001b[43m(\u001b[49m\u001b[43m)\u001b[49m\n\u001b[0;32m    440\u001b[0m \u001b[38;5;28mself\u001b[39m\u001b[38;5;241m.\u001b[39m_condition\u001b[38;5;241m.\u001b[39mwait(timeout)\n\u001b[0;32m    442\u001b[0m \u001b[38;5;28;01mif\u001b[39;00m \u001b[38;5;28mself\u001b[39m\u001b[38;5;241m.\u001b[39m_state \u001b[38;5;129;01min\u001b[39;00m [CANCELLED, CANCELLED_AND_NOTIFIED]:\n",
      "File \u001b[1;32mc:\\Users\\muham\\Desktop\\Assignments\\common-venv\\lib\\concurrent\\futures\\_base.py:390\u001b[0m, in \u001b[0;36mFuture.__get_result\u001b[1;34m(self)\u001b[0m\n\u001b[0;32m    388\u001b[0m \u001b[38;5;28;01mif\u001b[39;00m \u001b[38;5;28mself\u001b[39m\u001b[38;5;241m.\u001b[39m_exception:\n\u001b[0;32m    389\u001b[0m     \u001b[38;5;28;01mtry\u001b[39;00m:\n\u001b[1;32m--> 390\u001b[0m         \u001b[38;5;28;01mraise\u001b[39;00m \u001b[38;5;28mself\u001b[39m\u001b[38;5;241m.\u001b[39m_exception\n\u001b[0;32m    391\u001b[0m     \u001b[38;5;28;01mfinally\u001b[39;00m:\n\u001b[0;32m    392\u001b[0m         \u001b[38;5;66;03m# Break a reference cycle with the exception in self._exception\u001b[39;00m\n\u001b[0;32m    393\u001b[0m         \u001b[38;5;28mself\u001b[39m \u001b[38;5;241m=\u001b[39m \u001b[38;5;28;01mNone\u001b[39;00m\n",
      "File \u001b[1;32mc:\\Users\\muham\\Desktop\\Assignments\\common-venv\\lib\\site-packages\\tenacity\\__init__.py:480\u001b[0m, in \u001b[0;36mRetrying.__call__\u001b[1;34m(self, fn, *args, **kwargs)\u001b[0m\n\u001b[0;32m    478\u001b[0m \u001b[38;5;28;01mif\u001b[39;00m \u001b[38;5;28misinstance\u001b[39m(do, DoAttempt):\n\u001b[0;32m    479\u001b[0m     \u001b[38;5;28;01mtry\u001b[39;00m:\n\u001b[1;32m--> 480\u001b[0m         result \u001b[38;5;241m=\u001b[39m fn(\u001b[38;5;241m*\u001b[39margs, \u001b[38;5;241m*\u001b[39m\u001b[38;5;241m*\u001b[39mkwargs)\n\u001b[0;32m    481\u001b[0m     \u001b[38;5;28;01mexcept\u001b[39;00m \u001b[38;5;167;01mBaseException\u001b[39;00m:  \u001b[38;5;66;03m# noqa: B902\u001b[39;00m\n\u001b[0;32m    482\u001b[0m         retry_state\u001b[38;5;241m.\u001b[39mset_exception(sys\u001b[38;5;241m.\u001b[39mexc_info())  \u001b[38;5;66;03m# type: ignore[arg-type]\u001b[39;00m\n",
      "File \u001b[1;32mc:\\Users\\muham\\Desktop\\Assignments\\common-venv\\lib\\site-packages\\langchain_google_genai\\chat_models.py:208\u001b[0m, in \u001b[0;36m_chat_with_retry.<locals>._chat_with_retry\u001b[1;34m(**kwargs)\u001b[0m\n\u001b[0;32m    204\u001b[0m     \u001b[38;5;28;01mraise\u001b[39;00m ChatGoogleGenerativeAIError(\n\u001b[0;32m    205\u001b[0m         \u001b[38;5;124mf\u001b[39m\u001b[38;5;124m\"\u001b[39m\u001b[38;5;124mInvalid argument provided to Gemini: \u001b[39m\u001b[38;5;132;01m{\u001b[39;00me\u001b[38;5;132;01m}\u001b[39;00m\u001b[38;5;124m\"\u001b[39m\n\u001b[0;32m    206\u001b[0m     ) \u001b[38;5;28;01mfrom\u001b[39;00m\u001b[38;5;250m \u001b[39m\u001b[38;5;21;01me\u001b[39;00m\n\u001b[0;32m    207\u001b[0m \u001b[38;5;28;01mexcept\u001b[39;00m \u001b[38;5;167;01mException\u001b[39;00m \u001b[38;5;28;01mas\u001b[39;00m e:\n\u001b[1;32m--> 208\u001b[0m     \u001b[38;5;28;01mraise\u001b[39;00m e\n",
      "File \u001b[1;32mc:\\Users\\muham\\Desktop\\Assignments\\common-venv\\lib\\site-packages\\langchain_google_genai\\chat_models.py:192\u001b[0m, in \u001b[0;36m_chat_with_retry.<locals>._chat_with_retry\u001b[1;34m(**kwargs)\u001b[0m\n\u001b[0;32m    189\u001b[0m \u001b[38;5;129m@retry_decorator\u001b[39m\n\u001b[0;32m    190\u001b[0m \u001b[38;5;28;01mdef\u001b[39;00m\u001b[38;5;250m \u001b[39m\u001b[38;5;21m_chat_with_retry\u001b[39m(\u001b[38;5;241m*\u001b[39m\u001b[38;5;241m*\u001b[39mkwargs: Any) \u001b[38;5;241m-\u001b[39m\u001b[38;5;241m>\u001b[39m Any:\n\u001b[0;32m    191\u001b[0m     \u001b[38;5;28;01mtry\u001b[39;00m:\n\u001b[1;32m--> 192\u001b[0m         \u001b[38;5;28;01mreturn\u001b[39;00m generation_method(\u001b[38;5;241m*\u001b[39m\u001b[38;5;241m*\u001b[39mkwargs)\n\u001b[0;32m    193\u001b[0m     \u001b[38;5;66;03m# Do not retry for these errors.\u001b[39;00m\n\u001b[0;32m    194\u001b[0m     \u001b[38;5;28;01mexcept\u001b[39;00m google\u001b[38;5;241m.\u001b[39mapi_core\u001b[38;5;241m.\u001b[39mexceptions\u001b[38;5;241m.\u001b[39mFailedPrecondition \u001b[38;5;28;01mas\u001b[39;00m exc:\n",
      "File \u001b[1;32mc:\\Users\\muham\\Desktop\\Assignments\\common-venv\\lib\\site-packages\\google\\ai\\generativelanguage_v1beta\\services\\generative_service\\client.py:868\u001b[0m, in \u001b[0;36mGenerativeServiceClient.generate_content\u001b[1;34m(self, request, model, contents, retry, timeout, metadata)\u001b[0m\n\u001b[0;32m    865\u001b[0m \u001b[38;5;28mself\u001b[39m\u001b[38;5;241m.\u001b[39m_validate_universe_domain()\n\u001b[0;32m    867\u001b[0m \u001b[38;5;66;03m# Send the request.\u001b[39;00m\n\u001b[1;32m--> 868\u001b[0m response \u001b[38;5;241m=\u001b[39m \u001b[43mrpc\u001b[49m\u001b[43m(\u001b[49m\n\u001b[0;32m    869\u001b[0m \u001b[43m    \u001b[49m\u001b[43mrequest\u001b[49m\u001b[43m,\u001b[49m\n\u001b[0;32m    870\u001b[0m \u001b[43m    \u001b[49m\u001b[43mretry\u001b[49m\u001b[38;5;241;43m=\u001b[39;49m\u001b[43mretry\u001b[49m\u001b[43m,\u001b[49m\n\u001b[0;32m    871\u001b[0m \u001b[43m    \u001b[49m\u001b[43mtimeout\u001b[49m\u001b[38;5;241;43m=\u001b[39;49m\u001b[43mtimeout\u001b[49m\u001b[43m,\u001b[49m\n\u001b[0;32m    872\u001b[0m \u001b[43m    \u001b[49m\u001b[43mmetadata\u001b[49m\u001b[38;5;241;43m=\u001b[39;49m\u001b[43mmetadata\u001b[49m\u001b[43m,\u001b[49m\n\u001b[0;32m    873\u001b[0m \u001b[43m\u001b[49m\u001b[43m)\u001b[49m\n\u001b[0;32m    875\u001b[0m \u001b[38;5;66;03m# Done; return the response.\u001b[39;00m\n\u001b[0;32m    876\u001b[0m \u001b[38;5;28;01mreturn\u001b[39;00m response\n",
      "File \u001b[1;32mc:\\Users\\muham\\Desktop\\Assignments\\common-venv\\lib\\site-packages\\google\\api_core\\gapic_v1\\method.py:131\u001b[0m, in \u001b[0;36m_GapicCallable.__call__\u001b[1;34m(self, timeout, retry, compression, *args, **kwargs)\u001b[0m\n\u001b[0;32m    128\u001b[0m \u001b[38;5;28;01mif\u001b[39;00m \u001b[38;5;28mself\u001b[39m\u001b[38;5;241m.\u001b[39m_compression \u001b[38;5;129;01mis\u001b[39;00m \u001b[38;5;129;01mnot\u001b[39;00m \u001b[38;5;28;01mNone\u001b[39;00m:\n\u001b[0;32m    129\u001b[0m     kwargs[\u001b[38;5;124m\"\u001b[39m\u001b[38;5;124mcompression\u001b[39m\u001b[38;5;124m\"\u001b[39m] \u001b[38;5;241m=\u001b[39m compression\n\u001b[1;32m--> 131\u001b[0m \u001b[38;5;28;01mreturn\u001b[39;00m wrapped_func(\u001b[38;5;241m*\u001b[39margs, \u001b[38;5;241m*\u001b[39m\u001b[38;5;241m*\u001b[39mkwargs)\n",
      "File \u001b[1;32mc:\\Users\\muham\\Desktop\\Assignments\\common-venv\\lib\\site-packages\\google\\api_core\\retry\\retry_unary.py:294\u001b[0m, in \u001b[0;36mRetry.__call__.<locals>.retry_wrapped_func\u001b[1;34m(*args, **kwargs)\u001b[0m\n\u001b[0;32m    290\u001b[0m target \u001b[38;5;241m=\u001b[39m functools\u001b[38;5;241m.\u001b[39mpartial(func, \u001b[38;5;241m*\u001b[39margs, \u001b[38;5;241m*\u001b[39m\u001b[38;5;241m*\u001b[39mkwargs)\n\u001b[0;32m    291\u001b[0m sleep_generator \u001b[38;5;241m=\u001b[39m exponential_sleep_generator(\n\u001b[0;32m    292\u001b[0m     \u001b[38;5;28mself\u001b[39m\u001b[38;5;241m.\u001b[39m_initial, \u001b[38;5;28mself\u001b[39m\u001b[38;5;241m.\u001b[39m_maximum, multiplier\u001b[38;5;241m=\u001b[39m\u001b[38;5;28mself\u001b[39m\u001b[38;5;241m.\u001b[39m_multiplier\n\u001b[0;32m    293\u001b[0m )\n\u001b[1;32m--> 294\u001b[0m \u001b[38;5;28;01mreturn\u001b[39;00m \u001b[43mretry_target\u001b[49m\u001b[43m(\u001b[49m\n\u001b[0;32m    295\u001b[0m \u001b[43m    \u001b[49m\u001b[43mtarget\u001b[49m\u001b[43m,\u001b[49m\n\u001b[0;32m    296\u001b[0m \u001b[43m    \u001b[49m\u001b[38;5;28;43mself\u001b[39;49m\u001b[38;5;241;43m.\u001b[39;49m\u001b[43m_predicate\u001b[49m\u001b[43m,\u001b[49m\n\u001b[0;32m    297\u001b[0m \u001b[43m    \u001b[49m\u001b[43msleep_generator\u001b[49m\u001b[43m,\u001b[49m\n\u001b[0;32m    298\u001b[0m \u001b[43m    \u001b[49m\u001b[43mtimeout\u001b[49m\u001b[38;5;241;43m=\u001b[39;49m\u001b[38;5;28;43mself\u001b[39;49m\u001b[38;5;241;43m.\u001b[39;49m\u001b[43m_timeout\u001b[49m\u001b[43m,\u001b[49m\n\u001b[0;32m    299\u001b[0m \u001b[43m    \u001b[49m\u001b[43mon_error\u001b[49m\u001b[38;5;241;43m=\u001b[39;49m\u001b[43mon_error\u001b[49m\u001b[43m,\u001b[49m\n\u001b[0;32m    300\u001b[0m \u001b[43m\u001b[49m\u001b[43m)\u001b[49m\n",
      "File \u001b[1;32mc:\\Users\\muham\\Desktop\\Assignments\\common-venv\\lib\\site-packages\\google\\api_core\\retry\\retry_unary.py:156\u001b[0m, in \u001b[0;36mretry_target\u001b[1;34m(target, predicate, sleep_generator, timeout, on_error, exception_factory, **kwargs)\u001b[0m\n\u001b[0;32m    152\u001b[0m \u001b[38;5;66;03m# pylint: disable=broad-except\u001b[39;00m\n\u001b[0;32m    153\u001b[0m \u001b[38;5;66;03m# This function explicitly must deal with broad exceptions.\u001b[39;00m\n\u001b[0;32m    154\u001b[0m \u001b[38;5;28;01mexcept\u001b[39;00m \u001b[38;5;167;01mException\u001b[39;00m \u001b[38;5;28;01mas\u001b[39;00m exc:\n\u001b[0;32m    155\u001b[0m     \u001b[38;5;66;03m# defer to shared logic for handling errors\u001b[39;00m\n\u001b[1;32m--> 156\u001b[0m     next_sleep \u001b[38;5;241m=\u001b[39m \u001b[43m_retry_error_helper\u001b[49m\u001b[43m(\u001b[49m\n\u001b[0;32m    157\u001b[0m \u001b[43m        \u001b[49m\u001b[43mexc\u001b[49m\u001b[43m,\u001b[49m\n\u001b[0;32m    158\u001b[0m \u001b[43m        \u001b[49m\u001b[43mdeadline\u001b[49m\u001b[43m,\u001b[49m\n\u001b[0;32m    159\u001b[0m \u001b[43m        \u001b[49m\u001b[43msleep_iter\u001b[49m\u001b[43m,\u001b[49m\n\u001b[0;32m    160\u001b[0m \u001b[43m        \u001b[49m\u001b[43merror_list\u001b[49m\u001b[43m,\u001b[49m\n\u001b[0;32m    161\u001b[0m \u001b[43m        \u001b[49m\u001b[43mpredicate\u001b[49m\u001b[43m,\u001b[49m\n\u001b[0;32m    162\u001b[0m \u001b[43m        \u001b[49m\u001b[43mon_error\u001b[49m\u001b[43m,\u001b[49m\n\u001b[0;32m    163\u001b[0m \u001b[43m        \u001b[49m\u001b[43mexception_factory\u001b[49m\u001b[43m,\u001b[49m\n\u001b[0;32m    164\u001b[0m \u001b[43m        \u001b[49m\u001b[43mtimeout\u001b[49m\u001b[43m,\u001b[49m\n\u001b[0;32m    165\u001b[0m \u001b[43m    \u001b[49m\u001b[43m)\u001b[49m\n\u001b[0;32m    166\u001b[0m     \u001b[38;5;66;03m# if exception not raised, sleep before next attempt\u001b[39;00m\n\u001b[0;32m    167\u001b[0m     time\u001b[38;5;241m.\u001b[39msleep(next_sleep)\n",
      "File \u001b[1;32mc:\\Users\\muham\\Desktop\\Assignments\\common-venv\\lib\\site-packages\\google\\api_core\\retry\\retry_base.py:214\u001b[0m, in \u001b[0;36m_retry_error_helper\u001b[1;34m(exc, deadline, sleep_iterator, error_list, predicate_fn, on_error_fn, exc_factory_fn, original_timeout)\u001b[0m\n\u001b[0;32m    208\u001b[0m \u001b[38;5;28;01mif\u001b[39;00m \u001b[38;5;129;01mnot\u001b[39;00m predicate_fn(exc):\n\u001b[0;32m    209\u001b[0m     final_exc, source_exc \u001b[38;5;241m=\u001b[39m exc_factory_fn(\n\u001b[0;32m    210\u001b[0m         error_list,\n\u001b[0;32m    211\u001b[0m         RetryFailureReason\u001b[38;5;241m.\u001b[39mNON_RETRYABLE_ERROR,\n\u001b[0;32m    212\u001b[0m         original_timeout,\n\u001b[0;32m    213\u001b[0m     )\n\u001b[1;32m--> 214\u001b[0m     \u001b[38;5;28;01mraise\u001b[39;00m final_exc \u001b[38;5;28;01mfrom\u001b[39;00m\u001b[38;5;250m \u001b[39m\u001b[38;5;21;01msource_exc\u001b[39;00m\n\u001b[0;32m    215\u001b[0m \u001b[38;5;28;01mif\u001b[39;00m on_error_fn \u001b[38;5;129;01mis\u001b[39;00m \u001b[38;5;129;01mnot\u001b[39;00m \u001b[38;5;28;01mNone\u001b[39;00m:\n\u001b[0;32m    216\u001b[0m     on_error_fn(exc)\n",
      "File \u001b[1;32mc:\\Users\\muham\\Desktop\\Assignments\\common-venv\\lib\\site-packages\\google\\api_core\\retry\\retry_unary.py:147\u001b[0m, in \u001b[0;36mretry_target\u001b[1;34m(target, predicate, sleep_generator, timeout, on_error, exception_factory, **kwargs)\u001b[0m\n\u001b[0;32m    145\u001b[0m \u001b[38;5;28;01mwhile\u001b[39;00m \u001b[38;5;28;01mTrue\u001b[39;00m:\n\u001b[0;32m    146\u001b[0m     \u001b[38;5;28;01mtry\u001b[39;00m:\n\u001b[1;32m--> 147\u001b[0m         result \u001b[38;5;241m=\u001b[39m \u001b[43mtarget\u001b[49m\u001b[43m(\u001b[49m\u001b[43m)\u001b[49m\n\u001b[0;32m    148\u001b[0m         \u001b[38;5;28;01mif\u001b[39;00m inspect\u001b[38;5;241m.\u001b[39misawaitable(result):\n\u001b[0;32m    149\u001b[0m             warnings\u001b[38;5;241m.\u001b[39mwarn(_ASYNC_RETRY_WARNING)\n",
      "File \u001b[1;32mc:\\Users\\muham\\Desktop\\Assignments\\common-venv\\lib\\site-packages\\google\\api_core\\timeout.py:130\u001b[0m, in \u001b[0;36mTimeToDeadlineTimeout.__call__.<locals>.func_with_timeout\u001b[1;34m(*args, **kwargs)\u001b[0m\n\u001b[0;32m    126\u001b[0m         remaining_timeout \u001b[38;5;241m=\u001b[39m \u001b[38;5;28mself\u001b[39m\u001b[38;5;241m.\u001b[39m_timeout\n\u001b[0;32m    128\u001b[0m     kwargs[\u001b[38;5;124m\"\u001b[39m\u001b[38;5;124mtimeout\u001b[39m\u001b[38;5;124m\"\u001b[39m] \u001b[38;5;241m=\u001b[39m remaining_timeout\n\u001b[1;32m--> 130\u001b[0m \u001b[38;5;28;01mreturn\u001b[39;00m func(\u001b[38;5;241m*\u001b[39margs, \u001b[38;5;241m*\u001b[39m\u001b[38;5;241m*\u001b[39mkwargs)\n",
      "File \u001b[1;32mc:\\Users\\muham\\Desktop\\Assignments\\common-venv\\lib\\site-packages\\google\\api_core\\grpc_helpers.py:78\u001b[0m, in \u001b[0;36m_wrap_unary_errors.<locals>.error_remapped_callable\u001b[1;34m(*args, **kwargs)\u001b[0m\n\u001b[0;32m     76\u001b[0m     \u001b[38;5;28;01mreturn\u001b[39;00m callable_(\u001b[38;5;241m*\u001b[39margs, \u001b[38;5;241m*\u001b[39m\u001b[38;5;241m*\u001b[39mkwargs)\n\u001b[0;32m     77\u001b[0m \u001b[38;5;28;01mexcept\u001b[39;00m grpc\u001b[38;5;241m.\u001b[39mRpcError \u001b[38;5;28;01mas\u001b[39;00m exc:\n\u001b[1;32m---> 78\u001b[0m     \u001b[38;5;28;01mraise\u001b[39;00m exceptions\u001b[38;5;241m.\u001b[39mfrom_grpc_error(exc) \u001b[38;5;28;01mfrom\u001b[39;00m\u001b[38;5;250m \u001b[39m\u001b[38;5;21;01mexc\u001b[39;00m\n",
      "\u001b[1;31mResourceExhausted\u001b[0m: 429 You exceeded your current quota, please check your plan and billing details. For more information on this error, head to: https://ai.google.dev/gemini-api/docs/rate-limits. [violations {\n  quota_metric: \"generativelanguage.googleapis.com/generate_content_free_tier_requests\"\n  quota_id: \"GenerateRequestsPerDayPerProjectPerModel-FreeTier\"\n  quota_dimensions {\n    key: \"model\"\n    value: \"gemini-1.5-flash\"\n  }\n  quota_dimensions {\n    key: \"location\"\n    value: \"global\"\n  }\n  quota_value: 50\n}\n, links {\n  description: \"Learn more about Gemini API quotas\"\n  url: \"https://ai.google.dev/gemini-api/docs/rate-limits\"\n}\n, retry_delay {\n  seconds: 56\n}\n]"
     ]
    }
   ],
   "source": [
    "llm.invoke(\"hi\")"
   ]
  }
 ],
 "metadata": {
  "kernelspec": {
   "display_name": "langgraph_project",
   "language": "python",
   "name": "python3"
  },
  "language_info": {
   "codemirror_mode": {
    "name": "ipython",
    "version": 3
   },
   "file_extension": ".py",
   "mimetype": "text/x-python",
   "name": "python",
   "nbconvert_exporter": "python",
   "pygments_lexer": "ipython3",
   "version": "3.13.3"
  }
 },
 "nbformat": 4,
 "nbformat_minor": 5
}
